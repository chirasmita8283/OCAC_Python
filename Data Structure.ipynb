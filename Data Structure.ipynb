{
 "cells": [
  {
   "cell_type": "code",
   "execution_count": 1,
   "id": "30aa62f8-bf07-4b70-8d8f-a69b1fdee876",
   "metadata": {},
   "outputs": [],
   "source": [
    "d=[]"
   ]
  },
  {
   "cell_type": "code",
   "execution_count": 2,
   "id": "498992eb-7014-47da-bf09-225c3213a5db",
   "metadata": {},
   "outputs": [
    {
     "data": {
      "text/plain": [
       "[]"
      ]
     },
     "execution_count": 2,
     "metadata": {},
     "output_type": "execute_result"
    }
   ],
   "source": [
    "c=list()\n",
    "c"
   ]
  },
  {
   "cell_type": "code",
   "execution_count": 3,
   "id": "86a9032f-eb39-4351-b094-67ff42e05d46",
   "metadata": {},
   "outputs": [
    {
     "data": {
      "text/plain": [
       "list"
      ]
     },
     "execution_count": 3,
     "metadata": {},
     "output_type": "execute_result"
    }
   ],
   "source": [
    "type(d)"
   ]
  },
  {
   "cell_type": "code",
   "execution_count": 4,
   "id": "69a504ec-4397-4118-8d28-3cc0a9f156bb",
   "metadata": {},
   "outputs": [
    {
     "data": {
      "text/plain": [
       "0"
      ]
     },
     "execution_count": 4,
     "metadata": {},
     "output_type": "execute_result"
    }
   ],
   "source": [
    "len(d)"
   ]
  },
  {
   "cell_type": "code",
   "execution_count": 5,
   "id": "bf5bbe6f-d6b7-4d04-b7f0-a04f11fd0456",
   "metadata": {},
   "outputs": [
    {
     "name": "stdout",
     "output_type": "stream",
     "text": [
      "[]\n"
     ]
    }
   ],
   "source": [
    "e=list()\n",
    "print(e)"
   ]
  },
  {
   "cell_type": "code",
   "execution_count": 6,
   "id": "5e478f94-26dd-41e9-b092-c582881c5330",
   "metadata": {},
   "outputs": [],
   "source": [
    "d=[1,2,3,[5,8,9],10,12]"
   ]
  },
  {
   "cell_type": "code",
   "execution_count": 7,
   "id": "765307e0-0fe7-41dc-9d60-777f8da16012",
   "metadata": {},
   "outputs": [
    {
     "data": {
      "text/plain": [
       "6"
      ]
     },
     "execution_count": 7,
     "metadata": {},
     "output_type": "execute_result"
    }
   ],
   "source": [
    "len(d)"
   ]
  },
  {
   "cell_type": "code",
   "execution_count": 12,
   "id": "c9212320-7713-433f-8cd9-3012e1560bd6",
   "metadata": {},
   "outputs": [
    {
     "data": {
      "text/plain": [
       "8"
      ]
     },
     "execution_count": 12,
     "metadata": {},
     "output_type": "execute_result"
    }
   ],
   "source": [
    "d[3][1]"
   ]
  },
  {
   "cell_type": "code",
   "execution_count": 13,
   "id": "22020747-1a76-4a17-b7b4-f664b8f2a2d7",
   "metadata": {},
   "outputs": [
    {
     "name": "stdout",
     "output_type": "stream",
     "text": [
      "['one', 'two', 'three', 'four', 'five']\n"
     ]
    }
   ],
   "source": [
    "lst=['one', 'two', 'three', 'four', 'five']\n",
    "print(lst)"
   ]
  },
  {
   "cell_type": "code",
   "execution_count": 24,
   "id": "cc08969f-8723-49fa-b71f-fe3f31836067",
   "metadata": {},
   "outputs": [
    {
     "name": "stdout",
     "output_type": "stream",
     "text": [
      "i am removing five\n",
      "my new list is - ['one', 'two', 'three', 'four']\n"
     ]
    }
   ],
   "source": [
    "lst=['one', 'two', 'three', 'four', 'five']\n",
    "print( \"i am removing\",lst.pop())\n",
    "print(\"my new list is -\",lst)"
   ]
  },
  {
   "cell_type": "markdown",
   "id": "e1931707-d33d-4a93-bf54-3bbca7bc7612",
   "metadata": {},
   "source": [
    "# Range"
   ]
  },
  {
   "cell_type": "code",
   "execution_count": 3,
   "id": "5b8f3329-ab96-4084-86ee-0357ce79f17e",
   "metadata": {},
   "outputs": [
    {
     "data": {
      "text/plain": [
       "range(0, 20)"
      ]
     },
     "execution_count": 3,
     "metadata": {},
     "output_type": "execute_result"
    }
   ],
   "source": [
    "range(20)"
   ]
  },
  {
   "cell_type": "code",
   "execution_count": 2,
   "id": "0ae7e676-25ff-40e1-9558-0be29b9cb6f5",
   "metadata": {},
   "outputs": [
    {
     "data": {
      "text/plain": [
       "range(0, -10)"
      ]
     },
     "execution_count": 2,
     "metadata": {},
     "output_type": "execute_result"
    }
   ],
   "source": [
    "range(0-10)"
   ]
  },
  {
   "cell_type": "code",
   "execution_count": 4,
   "id": "ebfb9892-3a64-4163-88ca-4f183d2830db",
   "metadata": {},
   "outputs": [
    {
     "data": {
      "text/plain": [
       "[0, 1, 2, 3, 4, 5, 6, 7, 8, 9, 10, 11, 12, 13, 14]"
      ]
     },
     "execution_count": 4,
     "metadata": {},
     "output_type": "execute_result"
    }
   ],
   "source": [
    "list(range(15))"
   ]
  },
  {
   "cell_type": "code",
   "execution_count": 5,
   "id": "70453d03-941b-45fe-a057-1604d468fd55",
   "metadata": {},
   "outputs": [
    {
     "data": {
      "text/plain": [
       "[2, 3, 4, 5, 6, 7, 8, 9, 10, 11, 12, 13, 14, 15, 16]"
      ]
     },
     "execution_count": 5,
     "metadata": {},
     "output_type": "execute_result"
    }
   ],
   "source": [
    "list(range(2,17))"
   ]
  },
  {
   "cell_type": "code",
   "execution_count": 7,
   "id": "75ef821c-b257-45b3-a76b-81913956add3",
   "metadata": {},
   "outputs": [
    {
     "name": "stdout",
     "output_type": "stream",
     "text": [
      "[2, 5, 8, 11, 14]\n"
     ]
    }
   ],
   "source": [
    "print(list(range(2,15,3)))"
   ]
  },
  {
   "cell_type": "code",
   "execution_count": 11,
   "id": "f1433759-e5ea-46e2-97df-094d04e2d7ca",
   "metadata": {},
   "outputs": [
    {
     "name": "stdout",
     "output_type": "stream",
     "text": [
      "[8, 7, 6, 5, 4, 3]\n"
     ]
    }
   ],
   "source": [
    "print(list(range(8,2,-1)))"
   ]
  },
  {
   "cell_type": "code",
   "execution_count": 12,
   "id": "c95b4eab-c4cc-43cb-88c2-0e02c45f0425",
   "metadata": {},
   "outputs": [
    {
     "name": "stdout",
     "output_type": "stream",
     "text": [
      "[150, 148, 146, 144, 142, 140, 138, 136, 134, 132, 130, 128, 126, 124, 122, 120, 118, 116, 114, 112, 110, 108, 106, 104, 102, 100, 98, 96, 94, 92, 90, 88, 86, 84, 82, 80, 78, 76, 74, 72, 70, 68, 66, 64, 62, 60, 58, 56, 54, 52, 50, 48, 46, 44, 42, 40, 38, 36, 34, 32, 30, 28, 26, 24, 22, 20, 18, 16, 14, 12, 10, 8, 6, 4, 2]\n"
     ]
    }
   ],
   "source": [
    "print(list(range(150,0,-2)))"
   ]
  },
  {
   "cell_type": "markdown",
   "id": "ee4beab9-22eb-4c78-aee2-85870e525454",
   "metadata": {},
   "source": [
    "## List"
   ]
  },
  {
   "cell_type": "markdown",
   "id": "4bc489a1-c9e7-4e47-84d4-c96e8fd8251d",
   "metadata": {},
   "source": [
    "# Empty list"
   ]
  },
  {
   "cell_type": "code",
   "execution_count": 13,
   "id": "c093c690-ef7b-4956-a384-9f5e68288e3a",
   "metadata": {},
   "outputs": [
    {
     "data": {
      "text/plain": [
       "[]"
      ]
     },
     "execution_count": 13,
     "metadata": {},
     "output_type": "execute_result"
    }
   ],
   "source": [
    "q=[]\n",
    "q"
   ]
  },
  {
   "cell_type": "code",
   "execution_count": 17,
   "id": "a733b3d8-0fcb-42e5-b6c7-44a617ad191f",
   "metadata": {},
   "outputs": [
    {
     "data": {
      "text/plain": [
       "[]"
      ]
     },
     "execution_count": 17,
     "metadata": {},
     "output_type": "execute_result"
    }
   ],
   "source": [
    "e=list()\n",
    "e"
   ]
  },
  {
   "cell_type": "markdown",
   "id": "32517b59-87ab-4332-a8ae-51cf5b6d0b26",
   "metadata": {},
   "source": [
    "# List Creation"
   ]
  },
  {
   "cell_type": "code",
   "execution_count": 18,
   "id": "5007ddc6-e6b3-41af-b907-5cfe52dc3ea2",
   "metadata": {},
   "outputs": [
    {
     "data": {
      "text/plain": [
       "[1, 2, 3]"
      ]
     },
     "execution_count": 18,
     "metadata": {},
     "output_type": "execute_result"
    }
   ],
   "source": [
    "q=[1, 2, 3]\n",
    "q"
   ]
  },
  {
   "cell_type": "code",
   "execution_count": 19,
   "id": "8429aae6-51ed-49a4-8157-e3f3e92b0e7c",
   "metadata": {},
   "outputs": [
    {
     "data": {
      "text/plain": [
       "list"
      ]
     },
     "execution_count": 19,
     "metadata": {},
     "output_type": "execute_result"
    }
   ],
   "source": [
    "type(q)"
   ]
  },
  {
   "cell_type": "code",
   "execution_count": 20,
   "id": "43ba18ae-41d7-4244-b3b3-ef47eb58c00f",
   "metadata": {},
   "outputs": [
    {
     "data": {
      "text/plain": [
       "[1, 0, 4, (7+3j), True, '2', 'raman']"
      ]
     },
     "execution_count": 20,
     "metadata": {},
     "output_type": "execute_result"
    }
   ],
   "source": [
    "lst=[1, 0, 4, 7+3j, True, '2', 'raman']\n",
    "lst"
   ]
  },
  {
   "cell_type": "code",
   "execution_count": 21,
   "id": "08a6497b-542a-4dfd-8281-bcd41f675c1a",
   "metadata": {},
   "outputs": [
    {
     "data": {
      "text/plain": [
       "[[1, 2], [3, 4], [5, 6]]"
      ]
     },
     "execution_count": 21,
     "metadata": {},
     "output_type": "execute_result"
    }
   ],
   "source": [
    "lst1=[[1,2],[3,4],[5,6]]\n",
    "lst1"
   ]
  },
  {
   "cell_type": "markdown",
   "id": "fd9ae3e3-8345-4545-a211-be68beb1dde8",
   "metadata": {},
   "source": [
    "# List length"
   ]
  },
  {
   "cell_type": "code",
   "execution_count": 22,
   "id": "993afcd4-8576-4afd-afe1-d6bfd259f8ce",
   "metadata": {},
   "outputs": [
    {
     "name": "stdout",
     "output_type": "stream",
     "text": [
      "8\n"
     ]
    }
   ],
   "source": [
    "lst=['one' , 'two' , 'three' , 54 , [1,2,3],5,6,[8,9]]\n",
    "print(len(lst))"
   ]
  },
  {
   "cell_type": "markdown",
   "id": "a71da68e-6afc-4092-ac67-8148282c575e",
   "metadata": {},
   "source": [
    "# List Indexing"
   ]
  },
  {
   "cell_type": "code",
   "execution_count": 23,
   "id": "05b612fd-abad-4981-a4a2-2219ad4c90dc",
   "metadata": {},
   "outputs": [
    {
     "data": {
      "text/plain": [
       "10"
      ]
     },
     "execution_count": 23,
     "metadata": {},
     "output_type": "execute_result"
    }
   ],
   "source": [
    "lst=[5, 20, 10,\"good morning\"]\n",
    "lst[2]"
   ]
  },
  {
   "cell_type": "code",
   "execution_count": 24,
   "id": "1c82c92b-432a-472f-9196-3979f8ef1d10",
   "metadata": {},
   "outputs": [
    {
     "data": {
      "text/plain": [
       "'good morning'"
      ]
     },
     "execution_count": 24,
     "metadata": {},
     "output_type": "execute_result"
    }
   ],
   "source": [
    "lst[3]"
   ]
  },
  {
   "cell_type": "code",
   "execution_count": 25,
   "id": "57e4f693-0a76-4b27-8669-1f5bf29b7ad6",
   "metadata": {},
   "outputs": [
    {
     "name": "stdout",
     "output_type": "stream",
     "text": [
      "good morning\n"
     ]
    }
   ],
   "source": [
    "print(lst[3])"
   ]
  },
  {
   "cell_type": "code",
   "execution_count": 36,
   "id": "cfe38277-458d-45ba-aab6-d5eaacedd8d2",
   "metadata": {},
   "outputs": [
    {
     "data": {
      "text/plain": [
       "['good evening', 7, 4, 2]"
      ]
     },
     "execution_count": 36,
     "metadata": {},
     "output_type": "execute_result"
    }
   ],
   "source": [
    "lst[0] = 'good evening'\n",
    "lst"
   ]
  },
  {
   "cell_type": "markdown",
   "id": "c802a84f-d155-4d41-99af-9bfd686badde",
   "metadata": {},
   "source": [
    "# List slicing"
   ]
  },
  {
   "cell_type": "code",
   "execution_count": 35,
   "id": "79d1438a-c705-42e9-a0c9-d1207f9b9ef8",
   "metadata": {},
   "outputs": [
    {
     "name": "stdout",
     "output_type": "stream",
     "text": [
      "[15, 25, 35, 45, 55, 66]\n",
      "[15, 25, 35, 45, 55, 66]\n",
      "[15, 25, 35, 45, 55]\n",
      "[15, 35, 55]\n",
      "[25, 45, 66]\n",
      "[66, 55, 45, 35, 25, 15]\n"
     ]
    }
   ],
   "source": [
    "num=[15, 25, 35, 45, 55, 66]\n",
    "print(num[:])\n",
    "print(num[0:])\n",
    "print(num[:5])\n",
    "print(num[: :2])\n",
    "print(num[1: :2])\n",
    "print(num[-1: :-1])"
   ]
  },
  {
   "cell_type": "code",
   "execution_count": 3,
   "id": "e82f5c2a-c461-4975-b867-95d65aefa56b",
   "metadata": {},
   "outputs": [
    {
     "data": {
      "text/plain": [
       "4"
      ]
     },
     "execution_count": 3,
     "metadata": {},
     "output_type": "execute_result"
    }
   ],
   "source": [
    "nest=[1,2,3,[4,5,['babli',4,7]]]\n",
    "len(nest)"
   ]
  },
  {
   "cell_type": "code",
   "execution_count": 4,
   "id": "c7883d59-2c08-4344-a5f5-c4c6e7ffabbb",
   "metadata": {},
   "outputs": [
    {
     "data": {
      "text/plain": [
       "[1, 2, 3, [4, 5, ['babli', 4, 7]]]"
      ]
     },
     "execution_count": 4,
     "metadata": {},
     "output_type": "execute_result"
    }
   ],
   "source": [
    "nest"
   ]
  },
  {
   "cell_type": "code",
   "execution_count": 5,
   "id": "db5c62a3-1ce9-40e2-9d08-6919607ce54a",
   "metadata": {},
   "outputs": [
    {
     "data": {
      "text/plain": [
       "'babli'"
      ]
     },
     "execution_count": 5,
     "metadata": {},
     "output_type": "execute_result"
    }
   ],
   "source": [
    "nest[3][2][0]"
   ]
  },
  {
   "cell_type": "code",
   "execution_count": 8,
   "id": "770b3053-ec05-44a5-ab16-4bc7054bb075",
   "metadata": {},
   "outputs": [
    {
     "data": {
      "text/plain": [
       "['babli', 4, 7]"
      ]
     },
     "execution_count": 8,
     "metadata": {},
     "output_type": "execute_result"
    }
   ],
   "source": [
    "nest[3][2]"
   ]
  },
  {
   "cell_type": "code",
   "execution_count": 9,
   "id": "99d98008-9da9-4b6f-8777-08036275bc55",
   "metadata": {},
   "outputs": [
    {
     "data": {
      "text/plain": [
       "[1, 2, 3, [4, 5, 32]]"
      ]
     },
     "execution_count": 9,
     "metadata": {},
     "output_type": "execute_result"
    }
   ],
   "source": [
    "nest[3][2]=32\n",
    "nest"
   ]
  },
  {
   "cell_type": "markdown",
   "id": "0af467bc-bee0-4fc8-b1eb-7e619c52ed98",
   "metadata": {},
   "source": [
    "# List concatination"
   ]
  },
  {
   "cell_type": "code",
   "execution_count": 10,
   "id": "0fbb6e51-0e98-434c-a01f-3bc68bc957af",
   "metadata": {},
   "outputs": [
    {
     "data": {
      "text/plain": [
       "[54, 't', 'ocac', 'babli', 'o', 987]"
      ]
     },
     "execution_count": 10,
     "metadata": {},
     "output_type": "execute_result"
    }
   ],
   "source": [
    "l1=[54, 't', 'ocac']\n",
    "l2=['babli', 'o', 987]\n",
    "l1+l2"
   ]
  },
  {
   "cell_type": "markdown",
   "id": "10c49049-da4f-407b-94cf-f2f0314129be",
   "metadata": {},
   "source": [
    "# List method"
   ]
  },
  {
   "cell_type": "markdown",
   "id": "0179773a-e623-4310-a80d-0378f1362133",
   "metadata": {},
   "source": [
    "# Append"
   ]
  },
  {
   "cell_type": "code",
   "execution_count": 12,
   "id": "6da34cfc-5577-4aea-88ef-993d84107a31",
   "metadata": {},
   "outputs": [
    {
     "data": {
      "text/plain": [
       "['a', 'b', 'c', 'd']"
      ]
     },
     "execution_count": 12,
     "metadata": {},
     "output_type": "execute_result"
    }
   ],
   "source": [
    "my_list=['a','b','c']\n",
    "my_list.append('d')\n",
    "my_list"
   ]
  },
  {
   "cell_type": "code",
   "execution_count": 1,
   "id": "e3cd8a48-f023-4b15-9ae5-97a0ba4b3081",
   "metadata": {},
   "outputs": [
    {
     "data": {
      "text/plain": [
       "[1, 2, 3, 4, 5, [6, 7], [9, 3]]"
      ]
     },
     "execution_count": 1,
     "metadata": {},
     "output_type": "execute_result"
    }
   ],
   "source": [
    "my_list=[1,2,3,4,5,[6,7]]\n",
    "my_list.append([9,3])\n",
    "my_list"
   ]
  },
  {
   "cell_type": "markdown",
   "id": "cb001d41-15cf-4db2-974e-52adfefc4865",
   "metadata": {},
   "source": [
    "# Extend"
   ]
  },
  {
   "cell_type": "code",
   "execution_count": 2,
   "id": "51766d39-04a5-4182-b47b-bbe04c3ab84f",
   "metadata": {},
   "outputs": [
    {
     "data": {
      "text/plain": [
       "[1, 2, 3, 4, 5, 6, 7]"
      ]
     },
     "execution_count": 2,
     "metadata": {},
     "output_type": "execute_result"
    }
   ],
   "source": [
    "lst=[1,2,3,4,5]\n",
    "lst.extend([6,7])\n",
    "lst"
   ]
  },
  {
   "cell_type": "markdown",
   "id": "f176e1ea-feea-44d1-a298-ea4b8e9a71dd",
   "metadata": {},
   "source": [
    "# Insert"
   ]
  },
  {
   "cell_type": "code",
   "execution_count": 3,
   "id": "96bacc88-1dbd-4e92-bf49-6ba9712878b0",
   "metadata": {},
   "outputs": [
    {
     "data": {
      "text/plain": [
       "['one', 'two', 5, 'three']"
      ]
     },
     "execution_count": 3,
     "metadata": {},
     "output_type": "execute_result"
    }
   ],
   "source": [
    "lst=['one','two','three']\n",
    "lst.insert(2,5)\n",
    "lst"
   ]
  },
  {
   "cell_type": "markdown",
   "id": "fc06b3c4-ae9b-4dbc-940d-da37f6d4055f",
   "metadata": {},
   "source": [
    "# Remove"
   ]
  },
  {
   "cell_type": "code",
   "execution_count": 4,
   "id": "dfcd49e5-036b-42e6-b1e0-08cd84315d14",
   "metadata": {},
   "outputs": [
    {
     "data": {
      "text/plain": [
       "[10, 20, 30, 40, 60, 70, 80]"
      ]
     },
     "execution_count": 4,
     "metadata": {},
     "output_type": "execute_result"
    }
   ],
   "source": [
    "fst=[10,20,30,40,50,60,70,80]\n",
    "fst.remove(50)\n",
    "fst"
   ]
  },
  {
   "cell_type": "code",
   "execution_count": 8,
   "id": "0ef912c4-08b4-4319-bcc2-3a35969693bd",
   "metadata": {},
   "outputs": [
    {
     "name": "stdout",
     "output_type": "stream",
     "text": [
      "['one', [2, 4, 'three']]\n"
     ]
    }
   ],
   "source": [
    "fst=['one',[2,4,'three'],['five',89]]\n",
    "fst.remove(fst[2])\n",
    "print(fst)"
   ]
  },
  {
   "cell_type": "markdown",
   "id": "b1f3f159-a05d-489e-b948-5d5c5f1f1a92",
   "metadata": {},
   "source": [
    "# Clear"
   ]
  },
  {
   "cell_type": "code",
   "execution_count": 9,
   "id": "0f2fa4e3-9c42-4179-bbd0-355fd7fdc88a",
   "metadata": {},
   "outputs": [
    {
     "name": "stdout",
     "output_type": "stream",
     "text": [
      "[]\n"
     ]
    }
   ],
   "source": [
    "p=[1,2,3,4,5,6]\n",
    "p.clear()\n",
    "print(p)"
   ]
  },
  {
   "cell_type": "markdown",
   "id": "117bf3d0-f9cb-4132-bc5d-cea2dc12f22e",
   "metadata": {},
   "source": [
    "# Pop"
   ]
  },
  {
   "cell_type": "code",
   "execution_count": 10,
   "id": "8faa3bb5-8825-477a-aede-e30fdb644fd3",
   "metadata": {},
   "outputs": [
    {
     "data": {
      "text/plain": [
       "[1, 2, 3, 4, 5, 6]"
      ]
     },
     "execution_count": 10,
     "metadata": {},
     "output_type": "execute_result"
    }
   ],
   "source": [
    "lst=[1,2,3,4,5,6,7]\n",
    "lst.pop()\n",
    "lst"
   ]
  },
  {
   "cell_type": "code",
   "execution_count": 12,
   "id": "e081e2bf-ebfd-4eaa-9a9a-0bdc9c2baddf",
   "metadata": {},
   "outputs": [
    {
     "name": "stdout",
     "output_type": "stream",
     "text": [
      "[1, 2, 3, 4, 5, 7]\n"
     ]
    }
   ],
   "source": [
    "lst=[1,2,3,4,5,6,7]\n",
    "lst.pop(5)\n",
    "print(lst)"
   ]
  },
  {
   "cell_type": "markdown",
   "id": "4d971293-9f09-4710-a9c1-9815be51362d",
   "metadata": {},
   "source": [
    "# Delete"
   ]
  },
  {
   "cell_type": "code",
   "execution_count": 13,
   "id": "7f2f9be2-0dfc-44ca-97fd-fa6eaad93d0e",
   "metadata": {},
   "outputs": [
    {
     "data": {
      "text/plain": [
       "[1, 2, 'four', 'five', 'six']"
      ]
     },
     "execution_count": 13,
     "metadata": {},
     "output_type": "execute_result"
    }
   ],
   "source": [
    "lst=[1,2,3,'four','five','six']\n",
    "del lst[2]\n",
    "lst"
   ]
  },
  {
   "cell_type": "code",
   "execution_count": 16,
   "id": "cec1867e-6de0-40db-be2a-b6f9bf551236",
   "metadata": {},
   "outputs": [
    {
     "name": "stdout",
     "output_type": "stream",
     "text": [
      "[13, 14]\n"
     ]
    }
   ],
   "source": [
    "my_list=[1,2,3,4,5,6,7,8,9,10,11,11,12,13,14]\n",
    "del my_list[0:13]\n",
    "print(my_list)"
   ]
  },
  {
   "cell_type": "markdown",
   "id": "3c567546-f6a5-4e5b-9c4a-014c347822af",
   "metadata": {},
   "source": [
    "# Reverse"
   ]
  },
  {
   "cell_type": "code",
   "execution_count": 17,
   "id": "d6541d9d-ba4c-4652-9784-d9dfb6e8e048",
   "metadata": {},
   "outputs": [
    {
     "name": "stdout",
     "output_type": "stream",
     "text": [
      "['four', 'three', 'two', 'one']\n"
     ]
    }
   ],
   "source": [
    "lst=['one','two','three','four']\n",
    "lst.reverse()\n",
    "print(lst)"
   ]
  },
  {
   "cell_type": "markdown",
   "id": "56e825c6-2a93-4f5a-8462-af8fe59155ba",
   "metadata": {},
   "source": [
    "# Sorting"
   ]
  },
  {
   "cell_type": "code",
   "execution_count": 21,
   "id": "b2a77383-99d7-42af-909b-a870fe642169",
   "metadata": {},
   "outputs": [
    {
     "data": {
      "text/plain": [
       "[3, 4, 6, 8, 9]"
      ]
     },
     "execution_count": 21,
     "metadata": {},
     "output_type": "execute_result"
    }
   ],
   "source": [
    "num=[3,6,4,8,9]\n",
    "sorted(num)"
   ]
  },
  {
   "cell_type": "code",
   "execution_count": 22,
   "id": "fede3cb0-34e5-4d75-9d04-0501bf5d57e2",
   "metadata": {},
   "outputs": [
    {
     "data": {
      "text/plain": [
       "[9, 8, 6, 4, 3]"
      ]
     },
     "execution_count": 22,
     "metadata": {},
     "output_type": "execute_result"
    }
   ],
   "source": [
    "sorted(num,reverse=True)"
   ]
  },
  {
   "cell_type": "code",
   "execution_count": 23,
   "id": "3db453ea-d0f9-43f5-aa0a-f43838758458",
   "metadata": {},
   "outputs": [
    {
     "data": {
      "text/plain": [
       "[3, 4, 6, 8, 9]"
      ]
     },
     "execution_count": 23,
     "metadata": {},
     "output_type": "execute_result"
    }
   ],
   "source": [
    "sorted(num, reverse=False)"
   ]
  },
  {
   "cell_type": "code",
   "execution_count": 24,
   "id": "c07e6801-af99-4e8f-ac3b-b26c401c4a27",
   "metadata": {},
   "outputs": [
    {
     "data": {
      "text/plain": [
       "[3, 4, 6, 8, 9]"
      ]
     },
     "execution_count": 24,
     "metadata": {},
     "output_type": "execute_result"
    }
   ],
   "source": [
    "num=[3,6,4,8,9]\n",
    "num.sort()\n",
    "num"
   ]
  },
  {
   "cell_type": "markdown",
   "id": "6dd69885-cc71-4782-8f5a-4b2359c8251a",
   "metadata": {},
   "source": [
    "# Count"
   ]
  },
  {
   "cell_type": "code",
   "execution_count": 26,
   "id": "af1eb5e9-f7ce-4104-a36b-54afcb7bbbce",
   "metadata": {},
   "outputs": [
    {
     "name": "stdout",
     "output_type": "stream",
     "text": [
      "1\n",
      "1\n"
     ]
    }
   ],
   "source": [
    "num=[1,2,3,4,5,6,7,8,9]\n",
    "print(num.count(2))\n",
    "print(num.count(3))"
   ]
  },
  {
   "cell_type": "markdown",
   "id": "2f78c529-ad82-474d-a92d-362add73f1a4",
   "metadata": {},
   "source": [
    "# copy"
   ]
  },
  {
   "cell_type": "code",
   "execution_count": 28,
   "id": "d888683f-3c52-4a40-910d-eba135f338d1",
   "metadata": {},
   "outputs": [
    {
     "name": "stdout",
     "output_type": "stream",
     "text": [
      "[2, 5, 6, 7, 9]\n",
      "[2, 5, 6, 7, 9]\n"
     ]
    }
   ],
   "source": [
    "p1=[2,5,6,7]\n",
    "p2=p1\n",
    "p2.append(9)\n",
    "print(p1)\n",
    "print(p2)"
   ]
  },
  {
   "cell_type": "code",
   "execution_count": 30,
   "id": "7a628fb9-3c94-43fb-8769-ef7581c44694",
   "metadata": {},
   "outputs": [
    {
     "name": "stdout",
     "output_type": "stream",
     "text": [
      "[2, 5, 6, 7]\n",
      "[2, 5, 6, 7, 9]\n"
     ]
    }
   ],
   "source": [
    "p1=[2,5,6,7]\n",
    "p2=p1.copy()\n",
    "p2.append(9)\n",
    "print(p1)\n",
    "print(p2)"
   ]
  },
  {
   "cell_type": "markdown",
   "id": "40c9a232-3f0f-4d13-bd63-ae3afcb6c892",
   "metadata": {},
   "source": [
    "# Index"
   ]
  },
  {
   "cell_type": "code",
   "execution_count": 31,
   "id": "5311b8c1-5110-415a-92f8-d245f796ebcf",
   "metadata": {},
   "outputs": [
    {
     "data": {
      "text/plain": [
       "1"
      ]
     },
     "execution_count": 31,
     "metadata": {},
     "output_type": "execute_result"
    }
   ],
   "source": [
    "lst=[5,7,9]\n",
    "lst.index(7)"
   ]
  },
  {
   "cell_type": "code",
   "execution_count": 32,
   "id": "7f000a01-a9c7-4aae-ac1a-f1ef2a7d6d48",
   "metadata": {},
   "outputs": [
    {
     "data": {
      "text/plain": [
       "5"
      ]
     },
     "execution_count": 32,
     "metadata": {},
     "output_type": "execute_result"
    }
   ],
   "source": [
    "min(lst)"
   ]
  },
  {
   "cell_type": "code",
   "execution_count": 34,
   "id": "33588c7c-9e0a-4955-8056-9c36346f57e6",
   "metadata": {},
   "outputs": [
    {
     "data": {
      "text/plain": [
       "9"
      ]
     },
     "execution_count": 34,
     "metadata": {},
     "output_type": "execute_result"
    }
   ],
   "source": [
    "max(lst)"
   ]
  },
  {
   "cell_type": "code",
   "execution_count": 35,
   "id": "3ead653e-35e3-4955-83cb-2d0293c76d15",
   "metadata": {},
   "outputs": [
    {
     "data": {
      "text/plain": [
       "19"
      ]
     },
     "execution_count": 35,
     "metadata": {},
     "output_type": "execute_result"
    }
   ],
   "source": [
    "lst=[6,7,4,2]\n",
    "sum(lst)"
   ]
  },
  {
   "cell_type": "code",
   "execution_count": null,
   "id": "28788214-0e58-413a-8906-ea46ffb07336",
   "metadata": {},
   "outputs": [],
   "source": []
  }
 ],
 "metadata": {
  "kernelspec": {
   "display_name": "Python 3 (ipykernel)",
   "language": "python",
   "name": "python3"
  },
  "language_info": {
   "codemirror_mode": {
    "name": "ipython",
    "version": 3
   },
   "file_extension": ".py",
   "mimetype": "text/x-python",
   "name": "python",
   "nbconvert_exporter": "python",
   "pygments_lexer": "ipython3",
   "version": "3.11.7"
  }
 },
 "nbformat": 4,
 "nbformat_minor": 5
}
