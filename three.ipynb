{
 "cells": [
  {
   "cell_type": "code",
   "execution_count": 1,
   "id": "a0c39b45-1c5b-44f5-b329-1386a580af43",
   "metadata": {},
   "outputs": [],
   "source": [
    "p=20"
   ]
  },
  {
   "cell_type": "code",
   "execution_count": 2,
   "id": "9380ec04-70d5-4866-b4f4-53e9e8275023",
   "metadata": {},
   "outputs": [
    {
     "data": {
      "text/plain": [
       "int"
      ]
     },
     "execution_count": 2,
     "metadata": {},
     "output_type": "execute_result"
    }
   ],
   "source": [
    "type(p)"
   ]
  },
  {
   "cell_type": "code",
   "execution_count": 3,
   "id": "e1fd76a9-d126-40b6-b293-43889c3f28d0",
   "metadata": {},
   "outputs": [
    {
     "data": {
      "text/plain": [
       "float"
      ]
     },
     "execution_count": 3,
     "metadata": {},
     "output_type": "execute_result"
    }
   ],
   "source": [
    "p=20.0\n",
    "type(p)"
   ]
  },
  {
   "cell_type": "code",
   "execution_count": 4,
   "id": "3ea1bb96-abdd-498d-9711-1998da1c358f",
   "metadata": {},
   "outputs": [
    {
     "name": "stdout",
     "output_type": "stream",
     "text": [
      "<class 'int'>\n",
      "<class 'float'>\n"
     ]
    }
   ],
   "source": [
    "p=5\n",
    "print(type(p))\n",
    "q=5.0\n",
    "print(type(q))"
   ]
  },
  {
   "cell_type": "code",
   "execution_count": 5,
   "id": "423910d6-f79f-4081-902f-6f59496b5839",
   "metadata": {},
   "outputs": [
    {
     "data": {
      "text/plain": [
       "12.0"
      ]
     },
     "execution_count": 5,
     "metadata": {},
     "output_type": "execute_result"
    }
   ],
   "source": [
    "p=6\n",
    "q=6.0\n",
    "p+q"
   ]
  },
  {
   "cell_type": "code",
   "execution_count": 6,
   "id": "98895975-93ad-4046-8092-a1bad00ba3de",
   "metadata": {},
   "outputs": [
    {
     "data": {
      "text/plain": [
       "7"
      ]
     },
     "execution_count": 6,
     "metadata": {},
     "output_type": "execute_result"
    }
   ],
   "source": [
    "p=7.9\n",
    "int(p)"
   ]
  },
  {
   "cell_type": "code",
   "execution_count": 8,
   "id": "382e890a-5477-483e-83e3-cf40924b72d5",
   "metadata": {},
   "outputs": [
    {
     "data": {
      "text/plain": [
       "True"
      ]
     },
     "execution_count": 8,
     "metadata": {},
     "output_type": "execute_result"
    }
   ],
   "source": [
    "p=7.7\n",
    "bool(p)"
   ]
  },
  {
   "cell_type": "code",
   "execution_count": 9,
   "id": "55a1a0bf-5859-44b6-a59e-9586268eebc8",
   "metadata": {},
   "outputs": [
    {
     "data": {
      "text/plain": [
       "11"
      ]
     },
     "execution_count": 9,
     "metadata": {},
     "output_type": "execute_result"
    }
   ],
   "source": [
    "int(11.999)"
   ]
  },
  {
   "cell_type": "code",
   "execution_count": 13,
   "id": "30bc74d7-c098-4dea-93a1-140f65b2e542",
   "metadata": {},
   "outputs": [
    {
     "data": {
      "text/plain": [
       "bool"
      ]
     },
     "execution_count": 13,
     "metadata": {},
     "output_type": "execute_result"
    }
   ],
   "source": [
    "a=True\n",
    "type(a)"
   ]
  },
  {
   "cell_type": "code",
   "execution_count": 14,
   "id": "bbc09e90-47c3-40e8-8d20-0e544390262d",
   "metadata": {},
   "outputs": [
    {
     "data": {
      "text/plain": [
       "bool"
      ]
     },
     "execution_count": 14,
     "metadata": {},
     "output_type": "execute_result"
    }
   ],
   "source": [
    "type(True)"
   ]
  },
  {
   "cell_type": "code",
   "execution_count": 15,
   "id": "1158cca5-7b40-4b95-b634-7c9ae34f902e",
   "metadata": {},
   "outputs": [
    {
     "data": {
      "text/plain": [
       "bool"
      ]
     },
     "execution_count": 15,
     "metadata": {},
     "output_type": "execute_result"
    }
   ],
   "source": [
    "type(False)"
   ]
  },
  {
   "cell_type": "code",
   "execution_count": 20,
   "id": "b52b25a1-a143-4064-888f-c34a78ba6d28",
   "metadata": {},
   "outputs": [
    {
     "data": {
      "text/plain": [
       "1"
      ]
     },
     "execution_count": 20,
     "metadata": {},
     "output_type": "execute_result"
    }
   ],
   "source": [
    "int(True)"
   ]
  },
  {
   "cell_type": "code",
   "execution_count": 21,
   "id": "5f28c9f7-c11c-4e36-ac68-c963e168ed12",
   "metadata": {},
   "outputs": [
    {
     "data": {
      "text/plain": [
       "0"
      ]
     },
     "execution_count": 21,
     "metadata": {},
     "output_type": "execute_result"
    }
   ],
   "source": [
    "int(False)"
   ]
  },
  {
   "cell_type": "code",
   "execution_count": 23,
   "id": "e0d4cb10-5e97-4f61-9371-2b4da81e70be",
   "metadata": {},
   "outputs": [
    {
     "data": {
      "text/plain": [
       "2"
      ]
     },
     "execution_count": 23,
     "metadata": {},
     "output_type": "execute_result"
    }
   ],
   "source": [
    "True+True"
   ]
  },
  {
   "cell_type": "code",
   "execution_count": 26,
   "id": "984f03b9-8d32-4df2-a669-1a8147dcecd2",
   "metadata": {},
   "outputs": [
    {
     "data": {
      "text/plain": [
       "8.9"
      ]
     },
     "execution_count": 26,
     "metadata": {},
     "output_type": "execute_result"
    }
   ],
   "source": [
    "a=7.9\n",
    "b=True\n",
    "a+b"
   ]
  },
  {
   "cell_type": "code",
   "execution_count": 27,
   "id": "cd1078a6-b83d-4f82-96b3-63abe46bc7c3",
   "metadata": {},
   "outputs": [
    {
     "data": {
      "text/plain": [
       "7.9"
      ]
     },
     "execution_count": 27,
     "metadata": {},
     "output_type": "execute_result"
    }
   ],
   "source": [
    "a=7.9\n",
    "b=False\n",
    "a+b"
   ]
  },
  {
   "cell_type": "code",
   "execution_count": 28,
   "id": "ad93ea29-dad5-47c2-82a0-521abab7a42e",
   "metadata": {},
   "outputs": [],
   "source": [
    "y=20+40j"
   ]
  },
  {
   "cell_type": "code",
   "execution_count": 29,
   "id": "a60447ad-5b53-4826-8f39-ae63ce499d9a",
   "metadata": {},
   "outputs": [
    {
     "data": {
      "text/plain": [
       "(20+40j)"
      ]
     },
     "execution_count": 29,
     "metadata": {},
     "output_type": "execute_result"
    }
   ],
   "source": [
    "y"
   ]
  },
  {
   "cell_type": "code",
   "execution_count": 30,
   "id": "aa022f68-d9f0-40f1-ae34-60c9a02ef6d9",
   "metadata": {},
   "outputs": [
    {
     "data": {
      "text/plain": [
       "(20+40j)"
      ]
     },
     "execution_count": 30,
     "metadata": {},
     "output_type": "execute_result"
    }
   ],
   "source": [
    "complex(y)"
   ]
  },
  {
   "cell_type": "code",
   "execution_count": 32,
   "id": "7a40b77f-b624-4674-9dcb-b2a6acdfae8b",
   "metadata": {},
   "outputs": [
    {
     "data": {
      "text/plain": [
       "20.0"
      ]
     },
     "execution_count": 32,
     "metadata": {},
     "output_type": "execute_result"
    }
   ],
   "source": [
    "y.real"
   ]
  },
  {
   "cell_type": "code",
   "execution_count": 33,
   "id": "8fc79c20-93fa-472a-be5e-e8eaa0393d31",
   "metadata": {},
   "outputs": [
    {
     "data": {
      "text/plain": [
       "40.0"
      ]
     },
     "execution_count": 33,
     "metadata": {},
     "output_type": "execute_result"
    }
   ],
   "source": [
    "y.imag"
   ]
  },
  {
   "cell_type": "code",
   "execution_count": 34,
   "id": "26038351-b4a1-4e4a-8d32-36e1bd72501c",
   "metadata": {},
   "outputs": [
    {
     "name": "stdout",
     "output_type": "stream",
     "text": [
      "4.5 -5.8\n"
     ]
    }
   ],
   "source": [
    "x=4.5-5.8j\n",
    "print(x.real,x.imag)"
   ]
  },
  {
   "cell_type": "code",
   "execution_count": 35,
   "id": "aa870172-c3e4-4751-8c24-ec64f4f6674e",
   "metadata": {},
   "outputs": [
    {
     "data": {
      "text/plain": [
       "4.5"
      ]
     },
     "execution_count": 35,
     "metadata": {},
     "output_type": "execute_result"
    }
   ],
   "source": [
    "x.real"
   ]
  },
  {
   "cell_type": "code",
   "execution_count": 3,
   "id": "61801563-b00f-4951-a5f1-7f5b38e6352e",
   "metadata": {},
   "outputs": [
    {
     "name": "stdout",
     "output_type": "stream",
     "text": [
      "hiiii\n",
      "hiiii\n",
      "hiiii\n"
     ]
    }
   ],
   "source": [
    "mystring1='hiiii'\n",
    "print(mystring1)\n",
    "mystring2=\"hiiii\"\n",
    "print(mystring2)\n",
    "mystring3='''hiiii'''\n",
    "print(mystring3)"
   ]
  },
  {
   "cell_type": "code",
   "execution_count": 6,
   "id": "58ffb74a-79fd-4fe9-b768-824ba21287e2",
   "metadata": {},
   "outputs": [
    {
     "data": {
      "text/plain": [
       "str"
      ]
     },
     "execution_count": 6,
     "metadata": {},
     "output_type": "execute_result"
    }
   ],
   "source": [
    "p='babli'\n",
    "type(p)"
   ]
  },
  {
   "cell_type": "code",
   "execution_count": 7,
   "id": "2109d112-fa3a-41a5-9c9f-a0d171985669",
   "metadata": {},
   "outputs": [
    {
     "ename": "ValueError",
     "evalue": "invalid literal for int() with base 10: 'babli'",
     "output_type": "error",
     "traceback": [
      "\u001b[1;31m---------------------------------------------------------------------------\u001b[0m",
      "\u001b[1;31mValueError\u001b[0m                                Traceback (most recent call last)",
      "Cell \u001b[1;32mIn[7], line 1\u001b[0m\n\u001b[1;32m----> 1\u001b[0m \u001b[38;5;28mint\u001b[39m(p)\n",
      "\u001b[1;31mValueError\u001b[0m: invalid literal for int() with base 10: 'babli'"
     ]
    }
   ],
   "source": [
    "int(p)"
   ]
  },
  {
   "cell_type": "code",
   "execution_count": 11,
   "id": "5d1fcb48-d46d-400a-b34f-fdf19fec5ec8",
   "metadata": {},
   "outputs": [
    {
     "data": {
      "text/plain": [
       "str"
      ]
     },
     "execution_count": 11,
     "metadata": {},
     "output_type": "execute_result"
    }
   ],
   "source": [
    "type(\"babli\")"
   ]
  },
  {
   "cell_type": "code",
   "execution_count": 13,
   "id": "4f8a4eac-e794-48f4-81af-2cfa5cbf5e49",
   "metadata": {},
   "outputs": [
    {
     "data": {
      "text/plain": [
       "str"
      ]
     },
     "execution_count": 13,
     "metadata": {},
     "output_type": "execute_result"
    }
   ],
   "source": [
    "var='123456789'\n",
    "type(var)"
   ]
  },
  {
   "cell_type": "code",
   "execution_count": 16,
   "id": "af410e96-edab-468c-87a4-303c36defcdc",
   "metadata": {},
   "outputs": [
    {
     "data": {
      "text/plain": [
       "123456789"
      ]
     },
     "execution_count": 16,
     "metadata": {},
     "output_type": "execute_result"
    }
   ],
   "source": [
    "x=int(var)\n",
    "x"
   ]
  },
  {
   "cell_type": "code",
   "execution_count": 17,
   "id": "0cdc55f3-c154-43df-a6af-3414e1e13ce7",
   "metadata": {},
   "outputs": [],
   "source": [
    "a='1234'"
   ]
  },
  {
   "cell_type": "code",
   "execution_count": 18,
   "id": "1157a03c-f140-46d3-9e17-0b1eb694e0b9",
   "metadata": {},
   "outputs": [
    {
     "data": {
      "text/plain": [
       "1234"
      ]
     },
     "execution_count": 18,
     "metadata": {},
     "output_type": "execute_result"
    }
   ],
   "source": [
    "int(a)"
   ]
  },
  {
   "cell_type": "code",
   "execution_count": 19,
   "id": "0f5ceb64-7612-4632-8e2d-eaf8c469f6f2",
   "metadata": {},
   "outputs": [
    {
     "data": {
      "text/plain": [
       "1234.0"
      ]
     },
     "execution_count": 19,
     "metadata": {},
     "output_type": "execute_result"
    }
   ],
   "source": [
    "float(a)"
   ]
  },
  {
   "cell_type": "code",
   "execution_count": 20,
   "id": "6e57b3d7-e917-4066-a258-99542e3fe1dd",
   "metadata": {},
   "outputs": [
    {
     "data": {
      "text/plain": [
       "True"
      ]
     },
     "execution_count": 20,
     "metadata": {},
     "output_type": "execute_result"
    }
   ],
   "source": [
    "bool(a)"
   ]
  },
  {
   "cell_type": "code",
   "execution_count": 22,
   "id": "cb5cd8c1-5dc4-46fb-b4dc-3574c17c57d7",
   "metadata": {},
   "outputs": [
    {
     "name": "stdout",
     "output_type": "stream",
     "text": [
      "navin \"laptop\"\n"
     ]
    }
   ],
   "source": [
    "print('navin \"laptop\"')"
   ]
  },
  {
   "cell_type": "code",
   "execution_count": 23,
   "id": "6daed9c1-63fd-4218-a502-2650ea9971de",
   "metadata": {},
   "outputs": [
    {
     "ename": "SyntaxError",
     "evalue": "unterminated string literal (detected at line 1) (503525417.py, line 1)",
     "output_type": "error",
     "traceback": [
      "\u001b[1;36m  Cell \u001b[1;32mIn[23], line 1\u001b[1;36m\u001b[0m\n\u001b[1;33m    print('navin's \"laptop\"')\u001b[0m\n\u001b[1;37m                           ^\u001b[0m\n\u001b[1;31mSyntaxError\u001b[0m\u001b[1;31m:\u001b[0m unterminated string literal (detected at line 1)\n"
     ]
    }
   ],
   "source": [
    "print('navin's \"laptop\"')"
   ]
  },
  {
   "cell_type": "code",
   "execution_count": 24,
   "id": "dc5cdf24-3790-454b-ac42-3c297e7230ff",
   "metadata": {},
   "outputs": [
    {
     "name": "stdout",
     "output_type": "stream",
     "text": [
      "navin's \"laptop\"\n"
     ]
    }
   ],
   "source": [
    "print('navin\\'s \"laptop\"')"
   ]
  },
  {
   "cell_type": "code",
   "execution_count": 1,
   "id": "25237e4b-b821-4789-8131-a0dae7cde339",
   "metadata": {},
   "outputs": [
    {
     "data": {
      "text/plain": [
       "'605'"
      ]
     },
     "execution_count": 1,
     "metadata": {},
     "output_type": "execute_result"
    }
   ],
   "source": [
    "p=\"60\"\n",
    "q=\"5\"\n",
    "p+q\n"
   ]
  },
  {
   "cell_type": "code",
   "execution_count": 2,
   "id": "e4f02177-6b7a-448d-8744-3bc42b6f1a8b",
   "metadata": {},
   "outputs": [
    {
     "data": {
      "text/plain": [
       "605"
      ]
     },
     "execution_count": 2,
     "metadata": {},
     "output_type": "execute_result"
    }
   ],
   "source": [
    "int(p+q)"
   ]
  },
  {
   "cell_type": "code",
   "execution_count": 3,
   "id": "eac5bcaa-3500-45b9-b8cf-a2305e63bb09",
   "metadata": {},
   "outputs": [
    {
     "data": {
      "text/plain": [
       "65"
      ]
     },
     "execution_count": 3,
     "metadata": {},
     "output_type": "execute_result"
    }
   ],
   "source": [
    "int(p)+int(q)"
   ]
  },
  {
   "cell_type": "code",
   "execution_count": 4,
   "id": "9e569a75-140f-4828-9c1c-955e9afe6bf2",
   "metadata": {},
   "outputs": [
    {
     "data": {
      "text/plain": [
       "65.0"
      ]
     },
     "execution_count": 4,
     "metadata": {},
     "output_type": "execute_result"
    }
   ],
   "source": [
    "float(p)+float(q)"
   ]
  },
  {
   "cell_type": "code",
   "execution_count": 5,
   "id": "0f1e18fb-531e-4f07-b476-3b2b74f59531",
   "metadata": {},
   "outputs": [
    {
     "ename": "TypeError",
     "evalue": "can only concatenate str (not \"int\") to str",
     "output_type": "error",
     "traceback": [
      "\u001b[1;31m---------------------------------------------------------------------------\u001b[0m",
      "\u001b[1;31mTypeError\u001b[0m                                 Traceback (most recent call last)",
      "Cell \u001b[1;32mIn[5], line 3\u001b[0m\n\u001b[0;32m      1\u001b[0m p\u001b[38;5;241m=\u001b[39m\u001b[38;5;124m'\u001b[39m\u001b[38;5;124m7\u001b[39m\u001b[38;5;124m'\u001b[39m\n\u001b[0;32m      2\u001b[0m q\u001b[38;5;241m=\u001b[39m\u001b[38;5;241m8\u001b[39m\n\u001b[1;32m----> 3\u001b[0m p\u001b[38;5;241m+\u001b[39mq\n",
      "\u001b[1;31mTypeError\u001b[0m: can only concatenate str (not \"int\") to str"
     ]
    }
   ],
   "source": [
    "p='7'\n",
    "q=8\n",
    "p+q"
   ]
  },
  {
   "cell_type": "code",
   "execution_count": 6,
   "id": "90f1fce7-86a7-4b8d-81b5-0d16bae09afe",
   "metadata": {},
   "outputs": [
    {
     "data": {
      "text/plain": [
       "15"
      ]
     },
     "execution_count": 6,
     "metadata": {},
     "output_type": "execute_result"
    }
   ],
   "source": [
    "int(p)+q"
   ]
  },
  {
   "cell_type": "code",
   "execution_count": 7,
   "id": "392733f7-5c0a-4b05-80db-d32379bf995c",
   "metadata": {},
   "outputs": [
    {
     "data": {
      "text/plain": [
       "78"
      ]
     },
     "execution_count": 7,
     "metadata": {},
     "output_type": "execute_result"
    }
   ],
   "source": [
    "int(p+str(q))"
   ]
  },
  {
   "cell_type": "code",
   "execution_count": 9,
   "id": "10ec06ba-684e-427b-999a-94b8d1ddb2fc",
   "metadata": {},
   "outputs": [
    {
     "name": "stdout",
     "output_type": "stream",
     "text": [
      "rimun654\n"
     ]
    }
   ],
   "source": [
    "b=\"rimun\"\n",
    "c=654\n",
    "print(b+str(c))"
   ]
  },
  {
   "cell_type": "code",
   "execution_count": 10,
   "id": "e073b09a-5384-4a97-962b-4025ef48c8d8",
   "metadata": {},
   "outputs": [
    {
     "data": {
      "text/plain": [
       "'ramram'"
      ]
     },
     "execution_count": 10,
     "metadata": {},
     "output_type": "execute_result"
    }
   ],
   "source": [
    "'ram'+'ram'"
   ]
  },
  {
   "cell_type": "code",
   "execution_count": 11,
   "id": "a93b3dc4-ee1c-46e9-87b7-d47cce42e8a6",
   "metadata": {},
   "outputs": [
    {
     "data": {
      "text/plain": [
       "'ramramramramram'"
      ]
     },
     "execution_count": 11,
     "metadata": {},
     "output_type": "execute_result"
    }
   ],
   "source": [
    "'ram'*5"
   ]
  },
  {
   "cell_type": "code",
   "execution_count": 16,
   "id": "ce31bdad-2e35-48d0-94e3-25ae0c2ff040",
   "metadata": {},
   "outputs": [],
   "source": [
    "user=\"babli\"\n",
    "lines=50"
   ]
  },
  {
   "cell_type": "code",
   "execution_count": 17,
   "id": "331528df-2f40-4902-acf3-1f6554dae151",
   "metadata": {},
   "outputs": [
    {
     "name": "stdout",
     "output_type": "stream",
     "text": [
      "congratulations, babli ! you just wrote 50 lines of code\n"
     ]
    }
   ],
   "source": [
    "print(\"congratulations,\",user,\"! you just wrote\",lines,\"lines of code\")"
   ]
  },
  {
   "cell_type": "code",
   "execution_count": 18,
   "id": "0dc03dcf-b72e-40ae-aeeb-c1cc28f7b95a",
   "metadata": {},
   "outputs": [
    {
     "data": {
      "text/plain": [
       "9"
      ]
     },
     "execution_count": 18,
     "metadata": {},
     "output_type": "execute_result"
    }
   ],
   "source": [
    "a=\"my string\"\n",
    "len(a)"
   ]
  },
  {
   "cell_type": "code",
   "execution_count": 24,
   "id": "9faa4e55-2ed8-4936-9f1b-c9d3f0a140fb",
   "metadata": {},
   "outputs": [],
   "source": [
    "myString=\"Hello\""
   ]
  },
  {
   "cell_type": "code",
   "execution_count": 25,
   "id": "e01f26bb-b558-499b-b615-4fe7d85cee06",
   "metadata": {},
   "outputs": [
    {
     "name": "stdout",
     "output_type": "stream",
     "text": [
      "H\n"
     ]
    }
   ],
   "source": [
    "print(myString[0])"
   ]
  },
  {
   "cell_type": "code",
   "execution_count": 26,
   "id": "db63704c-be27-4cf1-83ef-6cb322c97492",
   "metadata": {},
   "outputs": [
    {
     "name": "stdout",
     "output_type": "stream",
     "text": [
      "l\n"
     ]
    }
   ],
   "source": [
    "print(myString[-3])"
   ]
  },
  {
   "cell_type": "code",
   "execution_count": 27,
   "id": "af53310e-9cb8-44e4-9a7e-b44a2df4dd76",
   "metadata": {},
   "outputs": [
    {
     "ename": "IndexError",
     "evalue": "string index out of range",
     "output_type": "error",
     "traceback": [
      "\u001b[1;31m---------------------------------------------------------------------------\u001b[0m",
      "\u001b[1;31mIndexError\u001b[0m                                Traceback (most recent call last)",
      "Cell \u001b[1;32mIn[27], line 1\u001b[0m\n\u001b[1;32m----> 1\u001b[0m \u001b[38;5;28mprint\u001b[39m(myString[\u001b[38;5;241m6\u001b[39m])\n",
      "\u001b[1;31mIndexError\u001b[0m: string index out of range"
     ]
    }
   ],
   "source": [
    "print(myString[6])"
   ]
  },
  {
   "cell_type": "code",
   "execution_count": 29,
   "id": "b8ff479a-2a3e-4382-a2b2-e56b83ebefbe",
   "metadata": {},
   "outputs": [
    {
     "name": "stdout",
     "output_type": "stream",
     "text": [
      "Hello\n"
     ]
    }
   ],
   "source": [
    "print(myString[0:5])"
   ]
  },
  {
   "cell_type": "code",
   "execution_count": 30,
   "id": "9af548d7-2e73-4afc-a31e-6e61a0bf18e8",
   "metadata": {},
   "outputs": [
    {
     "name": "stdout",
     "output_type": "stream",
     "text": [
      "Hell\n"
     ]
    }
   ],
   "source": [
    "print(myString[0:4])"
   ]
  },
  {
   "cell_type": "code",
   "execution_count": 31,
   "id": "0b8c86dc-39d9-4fd4-a12d-ee716ff5b912",
   "metadata": {},
   "outputs": [
    {
     "name": "stdout",
     "output_type": "stream",
     "text": [
      "lo\n"
     ]
    }
   ],
   "source": [
    "print(myString[3:])"
   ]
  },
  {
   "cell_type": "code",
   "execution_count": 32,
   "id": "bd3eb495-c733-43e0-a1d5-86999eca3ab5",
   "metadata": {},
   "outputs": [
    {
     "name": "stdout",
     "output_type": "stream",
     "text": [
      "Hello\n"
     ]
    }
   ],
   "source": [
    "print(myString[ :5])"
   ]
  },
  {
   "cell_type": "code",
   "execution_count": 33,
   "id": "a2314032-a53f-4652-8683-ce76c3947c04",
   "metadata": {},
   "outputs": [
    {
     "data": {
      "text/plain": [
       "'Hello'"
      ]
     },
     "execution_count": 33,
     "metadata": {},
     "output_type": "execute_result"
    }
   ],
   "source": [
    "myString"
   ]
  },
  {
   "cell_type": "code",
   "execution_count": 34,
   "id": "aef60295-6940-4094-9281-64aa26659ccf",
   "metadata": {},
   "outputs": [
    {
     "data": {
      "text/plain": [
       "'Hello'"
      ]
     },
     "execution_count": 34,
     "metadata": {},
     "output_type": "execute_result"
    }
   ],
   "source": [
    "myString[:]"
   ]
  },
  {
   "cell_type": "code",
   "execution_count": 40,
   "id": "a9b1bcdd-73f4-4f05-8775-f50045d599e6",
   "metadata": {},
   "outputs": [
    {
     "name": "stdout",
     "output_type": "stream",
     "text": [
      "\n"
     ]
    }
   ],
   "source": [
    "print(myString[4:1])"
   ]
  },
  {
   "cell_type": "code",
   "execution_count": 43,
   "id": "5066fe3c-0ea5-461b-b273-c99932e00c21",
   "metadata": {},
   "outputs": [
    {
     "data": {
      "text/plain": [
       "'oe'"
      ]
     },
     "execution_count": 43,
     "metadata": {},
     "output_type": "execute_result"
    }
   ],
   "source": [
    "myString[ : :-3]"
   ]
  },
  {
   "cell_type": "code",
   "execution_count": 44,
   "id": "ec405662-6019-49c4-971e-09afc9eb169e",
   "metadata": {},
   "outputs": [
    {
     "data": {
      "text/plain": [
       "'olleH'"
      ]
     },
     "execution_count": 44,
     "metadata": {},
     "output_type": "execute_result"
    }
   ],
   "source": [
    "myString[ : :-1]"
   ]
  },
  {
   "cell_type": "code",
   "execution_count": 45,
   "id": "40ae02c3-ad17-4fa5-a99b-b7e7e2d7c1f1",
   "metadata": {},
   "outputs": [
    {
     "data": {
      "text/plain": [
       "'lo'"
      ]
     },
     "execution_count": 45,
     "metadata": {},
     "output_type": "execute_result"
    }
   ],
   "source": [
    "myString[-2: :1]"
   ]
  },
  {
   "cell_type": "code",
   "execution_count": 46,
   "id": "fdc0be47-df8b-498d-ad4a-3da0f20fa82b",
   "metadata": {},
   "outputs": [
    {
     "data": {
      "text/plain": [
       "'Good evening'"
      ]
     },
     "execution_count": 46,
     "metadata": {},
     "output_type": "execute_result"
    }
   ],
   "source": [
    "\"good evening\".capitalize()"
   ]
  },
  {
   "cell_type": "code",
   "execution_count": 48,
   "id": "dfaa101a-bb02-43c9-8e43-8ed5944b4b63",
   "metadata": {},
   "outputs": [
    {
     "data": {
      "text/plain": [
       "'Good Morning'"
      ]
     },
     "execution_count": 48,
     "metadata": {},
     "output_type": "execute_result"
    }
   ],
   "source": [
    "a=\"gOOd moRNing\"\n",
    "a.title()"
   ]
  },
  {
   "cell_type": "code",
   "execution_count": 49,
   "id": "325c60f9-a103-4adc-b097-f3cc2b89f116",
   "metadata": {},
   "outputs": [
    {
     "data": {
      "text/plain": [
       "'GOOD MORNING'"
      ]
     },
     "execution_count": 49,
     "metadata": {},
     "output_type": "execute_result"
    }
   ],
   "source": [
    "a.upper()"
   ]
  },
  {
   "cell_type": "code",
   "execution_count": 51,
   "id": "ca0312fe-639f-4aae-95b3-961a0c2c013f",
   "metadata": {},
   "outputs": [
    {
     "data": {
      "text/plain": [
       "'good morning'"
      ]
     },
     "execution_count": 51,
     "metadata": {},
     "output_type": "execute_result"
    }
   ],
   "source": [
    "a.lower()"
   ]
  },
  {
   "cell_type": "code",
   "execution_count": 52,
   "id": "cef4fd20-a873-4990-9eee-75e44b33c833",
   "metadata": {},
   "outputs": [
    {
     "data": {
      "text/plain": [
       "['hii', 'my', 'name', 'is', 'ram']"
      ]
     },
     "execution_count": 52,
     "metadata": {},
     "output_type": "execute_result"
    }
   ],
   "source": [
    "st=\"hii my name is ram\"\n",
    "st.split(' ')"
   ]
  },
  {
   "cell_type": "code",
   "execution_count": 53,
   "id": "a6b9837d-3a18-4e09-96b2-7ab47d88f805",
   "metadata": {},
   "outputs": [
    {
     "data": {
      "text/plain": [
       "['This', 'will', 'split', 'all', 'word', 'in', 'a', 'list']"
      ]
     },
     "execution_count": 53,
     "metadata": {},
     "output_type": "execute_result"
    }
   ],
   "source": [
    "\"This will split all word in a list\".split()"
   ]
  },
  {
   "cell_type": "code",
   "execution_count": 55,
   "id": "8824999d-fe95-4f21-8d14-12269ebc82ce",
   "metadata": {},
   "outputs": [
    {
     "data": {
      "text/plain": [
       "'this will split all word in a list'"
      ]
     },
     "execution_count": 55,
     "metadata": {},
     "output_type": "execute_result"
    }
   ],
   "source": [
    "' '.join(['this','will','split','all','word','in','a','list'])"
   ]
  },
  {
   "cell_type": "code",
   "execution_count": 59,
   "id": "1268c9b8-d430-43fb-ba5b-5acd89784ed0",
   "metadata": {},
   "outputs": [
    {
     "data": {
      "text/plain": [
       "7"
      ]
     },
     "execution_count": 59,
     "metadata": {},
     "output_type": "execute_result"
    }
   ],
   "source": [
    "\"hello sir\".find('i')"
   ]
  },
  {
   "cell_type": "code",
   "execution_count": 61,
   "id": "67f7511f-5f67-4699-9829-2c209d5587ec",
   "metadata": {},
   "outputs": [
    {
     "data": {
      "text/plain": [
       "2"
      ]
     },
     "execution_count": 61,
     "metadata": {},
     "output_type": "execute_result"
    }
   ],
   "source": [
    "\"chirasmita\".count(\"a\")"
   ]
  },
  {
   "cell_type": "code",
   "execution_count": 63,
   "id": "55e94423-b8bc-44eb-9ff7-379c3552de31",
   "metadata": {},
   "outputs": [],
   "source": [
    "s1=\"Good morning\"\n",
    "s2=s1.replace(\"Good\",\"Bad\")"
   ]
  },
  {
   "cell_type": "code",
   "execution_count": 75,
   "id": "0ae4d0f5-3125-4257-aed9-4dbcd75c42b7",
   "metadata": {},
   "outputs": [
    {
     "name": "stdout",
     "output_type": "stream",
     "text": [
      "True\n",
      "False\n",
      "False\n",
      "True\n",
      "False\n",
      "False\n",
      "False\n",
      "False\n",
      "True\n"
     ]
    }
   ],
   "source": [
    "my_str='Babli123'\n",
    "print(my_str.isalnum())\n",
    "print(my_str.isalpha())\n",
    "print(my_str.isdigit())\n",
    "print(my_str.istitle())\n",
    "print(my_str.isupper())\n",
    "print(my_str.islower())\n",
    "print(my_str.isspace())\n",
    "print(my_str.endswith('b'))\n",
    "print(my_str.startswith('B'))"
   ]
  }
 ],
 "metadata": {
  "kernelspec": {
   "display_name": "Python 3 (ipykernel)",
   "language": "python",
   "name": "python3"
  },
  "language_info": {
   "codemirror_mode": {
    "name": "ipython",
    "version": 3
   },
   "file_extension": ".py",
   "mimetype": "text/x-python",
   "name": "python",
   "nbconvert_exporter": "python",
   "pygments_lexer": "ipython3",
   "version": "3.11.7"
  }
 },
 "nbformat": 4,
 "nbformat_minor": 5
}
