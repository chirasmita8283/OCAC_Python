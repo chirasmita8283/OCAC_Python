{
  "cells": [
    {
      "cell_type": "markdown",
      "id": "697caf9e-6072-490e-8131-e14edf6dcdfe",
      "metadata": {
        "id": "697caf9e-6072-490e-8131-e14edf6dcdfe"
      },
      "source": [
        "### A . Assignment Questions on Operators\n",
        "\n",
        "1. **Arithmetic Operators**\n",
        "    - Write a program that takes two numbers from the user.\n",
        "    - Perform and print the results of addition, subtraction, multiplication, division, and modulus operations.\n",
        "\n",
        "2. **Relational Operators**\n",
        "    - Write a program that takes two numbers from the user.\n",
        "    - Use relational operators (`>`, `<`, `>=`, `<=`, `==`, `!=`) to compare these numbers and print the results.\n",
        "\n",
        "3. **Logical Operators**\n",
        "    - Write a program that takes two boolean values from the user.\n",
        "    - Perform and print the results of logical AND, logical OR, and logical NOT operations.\n",
        "\n",
        "4. **Assignment Operators**\n",
        "    - Write a program that initializes a variable `x` with the value `10`.\n",
        "    - Use assignment operators (`+=`, `-=`, `*=`, `/=`, `%=`, `**=`, `//=`) to modify `x` and print the results after each operation.\n",
        "\n",
        "5. **Bitwise Operators**\n",
        "    - Write a program that takes two integers from the user.\n",
        "    - Perform and print the results of bitwise AND, OR, XOR, NOT, left shift, and right shift operations.\n",
        "\n",
        "6. **Compound Expressions**\n",
        "    - Write a program that evaluates a compound expression involving multiple arithmetic and relational operators.\n",
        "    - Example: Calculate the value of `3 * (x + y) / 2 > z` where `x`, `y`, and `z` are inputs from the user.\n",
        "\n",
        "7. **Membership Operators**\n",
        "    - Write a program that takes a string and a character from the user.\n",
        "    - Use membership operators (`in`, `not in`) to check if the character is present in the string and print the result.\n",
        "\n",
        "8. **Identity Operators**\n",
        "    - Write a program that initializes two lists with the same values.\n",
        "    - Use identity operators (`is`, `is not`) to check if the lists are the same object and print the result.\n",
        "\n",
        "9. **Precedence and Associativity**\n",
        "    - Write a program that demonstrates the precedence and associativity of different operators.\n",
        "    - Example: Evaluate the expression `3 + 4 * 2 / (1 - 5) ** 2` and print the result.\n",
        "\n",
        "10. **Operator Overloading**\n",
        "    - Create a class `Vector` that represents a mathematical vector.\n",
        "    - Implement operator overloading for addition, subtraction, and multiplication (dot product) for `Vector` objects.\n",
        "    - Write a program to demonstrate the usage of these overloaded operators.\n",
        "\n"
      ]
    },
    {
      "cell_type": "markdown",
      "id": "c98161d7-a8cc-468c-a32f-89a9daf812e0",
      "metadata": {
        "id": "c98161d7-a8cc-468c-a32f-89a9daf812e0"
      },
      "source": [
        "### B . Assignment Questions on Python Operators\n",
        "\n",
        "1. **Basic Arithmetic Operations**\n",
        "    - Write a program that asks the user to enter two numbers.\n",
        "    - Perform addition, subtraction, multiplication, division, and modulus operations on these numbers.\n",
        "    - Print the results of each operation.\n",
        "\n",
        "2. **Comparison Operators**\n",
        "    - Write a program that takes two numbers from the user.\n",
        "    - Use comparison operators to determine and print whether the first number is greater than, less than, or equal to the second number.\n",
        "\n",
        "3. **Logical Operators**\n",
        "    - Write a program that takes two boolean values from the user.\n",
        "    - Perform logical AND, OR, and NOT operations on these values.\n",
        "    - Print the results of each operation.\n",
        "\n",
        "4. **Compound Assignment Operators**\n",
        "    - Assign the value `10` to a variable `x`.\n",
        "    - Use compound assignment operators (`+=`, `-=`, `*=`, `/=`, `%=`) to modify the value of `x` and print the result after each operation.\n",
        "\n",
        "5. **Bitwise Operators**\n",
        "    - Write a program that takes two integers from the user.\n",
        "    - Perform bitwise AND, OR, XOR, and NOT operations on these numbers.\n",
        "    - Print the results of each operation.\n",
        "\n",
        "6. **Exponentiation Operator**\n",
        "    - Write a program that asks the user to enter a base and an exponent.\n",
        "    - Calculate and print the result using the exponentiation operator (`**`).\n",
        "\n",
        "7. **Floor Division Operator**\n",
        "    - Write a program that asks the user to enter two numbers.\n",
        "    - Perform floor division on these numbers and print the result.\n",
        "\n",
        "8. **Operator Precedence**\n",
        "    - Write a program that evaluates the following expression and prints the result: \\( 3 + 5 \\times 2 - 8 / 4 \\).\n",
        "    - Explain the order in which the operations are performed.\n",
        "\n",
        "9. **Ternary Operator (Conditional Expression)**\n",
        "    - Write a program that asks the user to enter two numbers.\n",
        "    - Use a ternary operator to determine and print the larger of the two numbers.\n",
        "\n",
        "10. **Membership Operators**\n",
        "    - Write a program that asks the user to enter a character.\n",
        "    - Check if the character is a vowel (a, e, i, o, u) using the `in` operator and print an appropriate message."
      ]
    },
    {
      "cell_type": "code",
      "execution_count": null,
      "id": "db060d41-72af-4f25-9dbe-8fd1f77920b4",
      "metadata": {
        "colab": {
          "base_uri": "https://localhost:8080/"
        },
        "id": "db060d41-72af-4f25-9dbe-8fd1f77920b4",
        "outputId": "95246d42-fb13-4107-b145-7bbbece8f727"
      },
      "outputs": [
        {
          "output_type": "stream",
          "name": "stdout",
          "text": [
            "Enter the first number: 7\n",
            "Enter the second number: 4\n",
            "Add: 11\n",
            "Sub: 3\n",
            "Mult: 28\n",
            "Div: 1.75\n",
            "Mod: 3\n"
          ]
        }
      ],
      "source": [
        "a= int(input(\"Enter the first number: \"))\n",
        "b= int(input(\"Enter the second number: \"))\n",
        "add=a+b\n",
        "sub=a-b\n",
        "mult=a*b\n",
        "div=a/b\n",
        "mod=a%b\n",
        "print(\"Add:\",add)\n",
        "print(\"Sub:\",sub)\n",
        "print(\"Mult:\",mult)\n",
        "print(\"Div:\",div)\n",
        "print(\"Mod:\",mod)\n"
      ]
    },
    {
      "cell_type": "code",
      "source": [
        "num1=int(input(\"Enter First number:\"))\n",
        "num2=int(input(\"Enter Second number:\"))\n",
        "print(num1 > num2)\n",
        "print(num1 < num2)\n",
        "print(num1 >= num2)\n",
        "print(num1 <= num2)\n",
        "print(num1 == num2)\n",
        "print(num1 != num2)\n"
      ],
      "metadata": {
        "colab": {
          "base_uri": "https://localhost:8080/"
        },
        "id": "GF0mWSzPBQH_",
        "outputId": "657177ff-30d6-4d84-e22e-a544cd49b551"
      },
      "id": "GF0mWSzPBQH_",
      "execution_count": null,
      "outputs": [
        {
          "output_type": "stream",
          "name": "stdout",
          "text": [
            "Enter First number:65\n",
            "Enter Second number:20\n",
            "True\n",
            "False\n",
            "True\n",
            "False\n",
            "False\n",
            "True\n"
          ]
        }
      ]
    },
    {
      "cell_type": "code",
      "source": [
        "x1= bool(int(input(\"Enter the first boolean value: \")))\n",
        "x2= bool(int(input(\"Enter the second boolean value: \")))\n",
        "print(x1 and x2)\n",
        "print(x1 or x2)\n",
        "print(not x1)\n",
        "print(not x2)\n"
      ],
      "metadata": {
        "colab": {
          "base_uri": "https://localhost:8080/"
        },
        "id": "j0JJkfriCCGx",
        "outputId": "1dc04463-af0f-431a-a212-ba7528937f3f"
      },
      "id": "j0JJkfriCCGx",
      "execution_count": null,
      "outputs": [
        {
          "output_type": "stream",
          "name": "stdout",
          "text": [
            "Enter the first boolean value: 1\n",
            "Enter the second boolean value: 0\n",
            "False\n",
            "True\n",
            "False\n",
            "True\n"
          ]
        }
      ]
    },
    {
      "cell_type": "code",
      "source": [
        "a = int(input(\"Enter first integer: \"))\n",
        "b = int(input(\"Enter second integer: \"))\n",
        "\n",
        "and_result = a & b\n",
        "or_result = a | b\n",
        "xor_result = a ^ b\n",
        "not_a = ~a\n",
        "not_b = ~b\n",
        "\n",
        "print(\"Bitwise AND:\", and_result)\n",
        "print(\"Bitwise OR:\", or_result)\n",
        "print(\"Bitwise XOR:\", xor_result)\n",
        "print(\"Bitwise NOT of first value:\", not_a)\n",
        "print(\"Bitwise NOT of second value:\", not_b)"
      ],
      "metadata": {
        "colab": {
          "base_uri": "https://localhost:8080/"
        },
        "id": "LGmyL8THJMTj",
        "outputId": "1cc95c1e-5156-420c-d8d8-fecf37838e80"
      },
      "id": "LGmyL8THJMTj",
      "execution_count": null,
      "outputs": [
        {
          "output_type": "stream",
          "name": "stdout",
          "text": [
            "Enter first integer: 5\n",
            "Enter second integer: 3\n",
            "Bitwise AND: 1\n",
            "Bitwise OR: 7\n",
            "Bitwise XOR: 6\n",
            "Bitwise NOT of first value: -6\n",
            "Bitwise NOT of second value: -4\n"
          ]
        }
      ]
    },
    {
      "cell_type": "code",
      "source": [
        "base = float(input(\"Enter base: \"))\n",
        "exponent = float(input(\"Enter exponent: \"))\n",
        "\n",
        "# Calculate result\n",
        "result = base ** exponent\n",
        "\n",
        "# Print result\n",
        "print(\"Result:\", result)"
      ],
      "metadata": {
        "id": "hngWFfN1NdM2",
        "colab": {
          "base_uri": "https://localhost:8080/"
        },
        "outputId": "40d7ad13-bff5-4927-ba49-9680385046d0"
      },
      "id": "hngWFfN1NdM2",
      "execution_count": null,
      "outputs": [
        {
          "output_type": "stream",
          "name": "stdout",
          "text": [
            "Enter base: 4\n",
            "Enter exponent: 3\n",
            "Result: 64.0\n"
          ]
        }
      ]
    },
    {
      "cell_type": "code",
      "source": [
        "string = input(\"Enter a string: \")\n",
        "char = input(\"Enter a character: \")\n",
        "\n",
        "if char in string:\n",
        "  print(f\"The character '{char}' is in the string '{string}'.\")\n",
        "else:\n",
        "  print(f\"The character '{char}' is not in the string '{string}'.\")\n"
      ],
      "metadata": {
        "id": "nCRnSQT6RS8p",
        "colab": {
          "base_uri": "https://localhost:8080/"
        },
        "outputId": "ad45601a-1874-4e76-af35-7545618f519f"
      },
      "id": "nCRnSQT6RS8p",
      "execution_count": null,
      "outputs": [
        {
          "output_type": "stream",
          "name": "stdout",
          "text": [
            "Enter a string: babli\n",
            "Enter a character: \"babli\"\n",
            "The character '\"babli\"' is not in the string 'babli'.\n"
          ]
        }
      ]
    },
    {
      "cell_type": "code",
      "source": [
        "list1 = [1, 2, 3]\n",
        "list2 = [1, 2, 3]\n",
        "\n",
        "if list1 is list2:\n",
        "  print(\"list1 and list2 are the same object.\")\n",
        "else:\n",
        "  print(\"list1 and list2 are not the same object.\")\n",
        "\n",
        "list3 = list1\n",
        "if list1 is list3:\n",
        "  print(\"list1 and list3 are the same object.\")\n",
        "else:\n",
        "  print(\"list1 and list3 are not the same object.\")\n"
      ],
      "metadata": {
        "colab": {
          "base_uri": "https://localhost:8080/"
        },
        "id": "cdbCmSlfXdKE",
        "outputId": "1ed881e8-6777-4a31-e259-63e98bbfdd61"
      },
      "id": "cdbCmSlfXdKE",
      "execution_count": null,
      "outputs": [
        {
          "output_type": "stream",
          "name": "stdout",
          "text": [
            "list1 and list2 are not the same object.\n",
            "list1 and list3 are the same object.\n"
          ]
        }
      ]
    },
    {
      "cell_type": "code",
      "source": [
        "result = 3 + 4 * 2 / (1 - 5) ** 2\n",
        "print(\"Result:\", result)\n"
      ],
      "metadata": {
        "colab": {
          "base_uri": "https://localhost:8080/"
        },
        "id": "4za46I31Xt3W",
        "outputId": "c3885037-029e-444a-e088-1141319f8043"
      },
      "id": "4za46I31Xt3W",
      "execution_count": null,
      "outputs": [
        {
          "output_type": "stream",
          "name": "stdout",
          "text": [
            "Result: 3.5\n"
          ]
        }
      ]
    },
    {
      "cell_type": "code",
      "source": [
        "class Vector:\n",
        "    def __init__(self, *components):\n",
        "        self.components = list(components)\n",
        "\n",
        "    def __add__(self, other):\n",
        "        if len(self.components) != len(other.components):\n",
        "            raise ValueError(\"Vectors must be of the same dimension\")\n",
        "        result = [x + y for x, y in zip(self.components, other.components)]\n",
        "        return Vector(*result)\n",
        "\n",
        "    def __sub__(self, other):\n",
        "        if len(self.components) != len(other.components):\n",
        "            raise ValueError(\"Vectors must be of the same dimension\")\n",
        "        result = [x - y for x, y in zip(self.components, other.components)]\n",
        "        return Vector(*result)\n",
        "\n",
        "    def __mul__(self, other):\n",
        "        if len(self.components) != len(other.components):\n",
        "            raise ValueError(\"Vectors must be of the same dimension\")\n",
        "        result = sum(x * y for x, y in zip(self.components, other.components))\n",
        "        return result\n",
        "\n",
        "    def __repr__(self):\n",
        "        return f\"Vector{tuple(self.components)}\"\n",
        "\n",
        "# Demonstration\n",
        "if __name__ == \"__main__\":\n",
        "    v1 = Vector(1, 2, 3)\n",
        "    v2 = Vector(4, 5, 6)\n",
        "\n",
        "    print(f\"v1: {v1}\")\n",
        "    print(f\"v2: {v2}\")\n",
        "\n",
        "    v_add = v1 + v2\n",
        "    print(f\"v1 + v2 = {v_add}\")\n",
        "\n",
        "    v_sub = v1 - v2\n",
        "    print(f\"v1 - v2 = {v_sub}\")\n",
        "\n",
        "    v_dot = v1 * v2\n",
        "    print(f\"v1 * v2 (dot product) = {v_dot}\")\n"
      ],
      "metadata": {
        "id": "fHJvfXaMX2Iq",
        "colab": {
          "base_uri": "https://localhost:8080/"
        },
        "outputId": "86177fe3-caea-4fea-a53a-8cf0e302e81b"
      },
      "id": "fHJvfXaMX2Iq",
      "execution_count": 1,
      "outputs": [
        {
          "output_type": "stream",
          "name": "stdout",
          "text": [
            "v1: Vector(1, 2, 3)\n",
            "v2: Vector(4, 5, 6)\n",
            "v1 + v2 = Vector(5, 7, 9)\n",
            "v1 - v2 = Vector(-3, -3, -3)\n",
            "v1 * v2 (dot product) = 32\n"
          ]
        }
      ]
    },
    {
      "cell_type": "code",
      "source": [],
      "metadata": {
        "id": "EdQwvIvEKaLq"
      },
      "id": "EdQwvIvEKaLq",
      "execution_count": null,
      "outputs": []
    }
  ],
  "metadata": {
    "kernelspec": {
      "display_name": "Python 3 (ipykernel)",
      "language": "python",
      "name": "python3"
    },
    "language_info": {
      "codemirror_mode": {
        "name": "ipython",
        "version": 3
      },
      "file_extension": ".py",
      "mimetype": "text/x-python",
      "name": "python",
      "nbconvert_exporter": "python",
      "pygments_lexer": "ipython3",
      "version": "3.11.7"
    },
    "colab": {
      "provenance": []
    }
  },
  "nbformat": 4,
  "nbformat_minor": 5
}