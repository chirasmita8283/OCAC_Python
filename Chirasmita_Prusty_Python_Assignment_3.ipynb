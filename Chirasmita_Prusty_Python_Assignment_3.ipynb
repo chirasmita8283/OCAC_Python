{
  "nbformat": 4,
  "nbformat_minor": 0,
  "metadata": {
    "colab": {
      "provenance": []
    },
    "kernelspec": {
      "name": "python3",
      "display_name": "Python 3"
    },
    "language_info": {
      "name": "python"
    }
  },
  "cells": [
    {
      "cell_type": "code",
      "execution_count": null,
      "metadata": {
        "id": "NbOPGQwRP_5g"
      },
      "outputs": [],
      "source": [
        "1. check Maximum number of a list of numbers in Python\n",
        "2. Python Program for factorial of a number\n",
        "3. Python Program for simple interest\n",
        "4. Python Program for compound interest\n",
        "5. Python Program to check Armstrong Number\n",
        "6. Python Program for Program to find area of a circle\n",
        "7. Python program to print all Prime numbers in an Interval\n",
        "8. Python program to check whether a number is Prime or not\n",
        "9. Python Program for n-th Fibonacci number\n",
        "10. Python Program for How to check if a given number is Fibonacci number?\n",
        "11. Python Program for n\\’th multiple of a number in Fibonacci Series\n",
        "12. Python Program for Sum of squares of first n natural numbers\n",
        "13. Python Program for cube sum of first n natural numbers"
      ]
    },
    {
      "cell_type": "code",
      "source": [
        " #1\n",
        " numbers=[2,5,8,9]\n",
        "max_number=max(numbers)\n",
        "print(max_number)"
      ],
      "metadata": {
        "id": "DyAuCTSeuk02",
        "colab": {
          "base_uri": "https://localhost:8080/"
        },
        "outputId": "fff715d2-21d5-42ba-83d4-d23f5e0095d2"
      },
      "execution_count": null,
      "outputs": [
        {
          "output_type": "stream",
          "name": "stdout",
          "text": [
            "9\n"
          ]
        }
      ]
    },
    {
      "cell_type": "code",
      "source": [
        "#1 using for loop\n",
        "numbers=[2,5,8,9]\n",
        "max_number=numbers[0]\n",
        "for num in numbers:\n",
        "  if num>max_number:\n",
        "    max_number=num\n",
        "print(max_number)\n"
      ],
      "metadata": {
        "colab": {
          "base_uri": "https://localhost:8080/"
        },
        "id": "TNXl-YlzyKhG",
        "outputId": "71577420-b9f9-4cff-f0cc-fa55993400c7"
      },
      "execution_count": null,
      "outputs": [
        {
          "output_type": "stream",
          "name": "stdout",
          "text": [
            "9\n"
          ]
        }
      ]
    },
    {
      "cell_type": "code",
      "source": [
        "#1 using while loop\n",
        "numbers=[3,1,4,1,5,9,2]\n",
        "max_number=numbers[0]\n",
        "i=1\n",
        "while i<len(numbers):\n",
        "  if numbers[i]>max_number:\n",
        "     max_number=numbers[i]\n",
        "  i+=1\n",
        "print(max_number)"
      ],
      "metadata": {
        "id": "A16yChd3xTqi",
        "colab": {
          "base_uri": "https://localhost:8080/"
        },
        "outputId": "6bdd0c49-b097-48d8-8635-0b87d6816adb"
      },
      "execution_count": null,
      "outputs": [
        {
          "output_type": "stream",
          "name": "stdout",
          "text": [
            "9\n"
          ]
        }
      ]
    },
    {
      "cell_type": "code",
      "source": [
        "#2\n",
        "def factorial(n):\n",
        "  if n == 0:\n",
        "    return 1\n",
        "  else:\n",
        "    return n * factorial(n - 1)\n",
        "\n",
        "num = int(input(\"Enter a number: \"))\n",
        "print(\"Factorial of\", num, \"is\", factorial(num))\n"
      ],
      "metadata": {
        "colab": {
          "base_uri": "https://localhost:8080/"
        },
        "id": "p6XF_A11833P",
        "outputId": "261c6334-5910-4dea-e0d7-875854787455"
      },
      "execution_count": null,
      "outputs": [
        {
          "output_type": "stream",
          "name": "stdout",
          "text": [
            "Enter a number: 3\n",
            "Factorial of 3 is 6\n"
          ]
        }
      ]
    },
    {
      "cell_type": "code",
      "source": [
        "#3\n",
        "def calculate_simple_interest(principal, rate, time):\n",
        "    interest = (principal * rate * time) / 100\n",
        "    return interest\n",
        "\n",
        "principal = float(input(\"Enter the principal amount: \"))\n",
        "rate = float(input(\"Enter the rate of interest: \"))\n",
        "time = float(input(\"Enter the time (in years): \"))\n",
        "\n",
        "simple_interest = calculate_simple_interest(principal, rate, time)\n",
        "\n",
        "print(\"The Simple Interest is:\", simple_interest)\n"
      ],
      "metadata": {
        "colab": {
          "base_uri": "https://localhost:8080/"
        },
        "id": "WcYCZzB1_12A",
        "outputId": "af6cc746-fe06-4d4f-f37c-438d9b676dcd"
      },
      "execution_count": null,
      "outputs": [
        {
          "output_type": "stream",
          "name": "stdout",
          "text": [
            "Enter the principal amount: 65\n",
            "Enter the rate of interest: 5\n",
            "Enter the time (in years): 1\n",
            "The Simple Interest is: 3.25\n"
          ]
        }
      ]
    },
    {
      "cell_type": "code",
      "source": [
        "#5\n",
        "def is_armstrong_number(num):\n",
        "\n",
        "    num_str = str(num)\n",
        "    num_digits = len(num_str)\n",
        "\n",
        "    sum = 0\n",
        "    for digit in num_str:\n",
        "        sum += int(digit) ** num_digits\n",
        "\n",
        "    return sum == num\n",
        "\n",
        "num = int(input(\"Enter a number: \"))\n",
        "\n",
        "if is_armstrong_number(num):\n",
        "    print(num, \"is an Armstrong number\")\n",
        "else:\n",
        "    print(num, \"is not an Armstrong number\")\n"
      ],
      "metadata": {
        "colab": {
          "base_uri": "https://localhost:8080/"
        },
        "id": "9eIP4KCMJgPU",
        "outputId": "598e4b1e-7a56-4098-c347-d5cc34ce864e"
      },
      "execution_count": null,
      "outputs": [
        {
          "output_type": "stream",
          "name": "stdout",
          "text": [
            "Enter a number: 363\n",
            "363 is not an Armstrong number\n"
          ]
        }
      ]
    },
    {
      "cell_type": "code",
      "source": [
        "#6\n",
        "import math\n",
        "\n",
        "def calculate_area_of_circle(radius):\n",
        "    return math.pi * radius ** 2\n",
        "\n",
        "radius = float(input(\"Enter the radius of the circle: \"))\n",
        "\n",
        "area = calculate_area_of_circle(radius)\n",
        "\n",
        "print(\"The area of the circle is:\", area)\n"
      ],
      "metadata": {
        "colab": {
          "base_uri": "https://localhost:8080/"
        },
        "id": "NiOfGzeFKxkp",
        "outputId": "518fd1aa-3090-4869-b8dc-47a4bc7a9a53"
      },
      "execution_count": null,
      "outputs": [
        {
          "output_type": "stream",
          "name": "stdout",
          "text": [
            "Enter the radius of the circle: 32\n",
            "The area of the circle is: 3216.990877275948\n"
          ]
        }
      ]
    },
    {
      "cell_type": "code",
      "source": [
        "# 8\n",
        "def is_prime(num):\n",
        "\n",
        "    if num <= 1:\n",
        "        return False\n",
        "\n",
        "    for i in range(1, num):\n",
        "        if num % i == 0:\n",
        "            return False\n",
        "    return True\n",
        "\n",
        "num = int(input(\"Enter a number: \"))\n",
        "\n",
        "if is_prime(num):\n",
        "    print(num, \"is a prime number\")\n",
        "else:\n",
        "    print(num, \"is not a prime number\")\n"
      ],
      "metadata": {
        "colab": {
          "base_uri": "https://localhost:8080/"
        },
        "id": "Nl7l3pp1NeKi",
        "outputId": "b849550e-df66-4382-d6f1-3cf14bfcbda3"
      },
      "execution_count": null,
      "outputs": [
        {
          "output_type": "stream",
          "name": "stdout",
          "text": [
            "Enter a number: 3\n",
            "3 is not a prime number\n"
          ]
        }
      ]
    },
    {
      "cell_type": "code",
      "source": [
        "#12\n",
        "def sum_of_squares(n):\n",
        "  return sum(i**2 for i in range(1,n+1))\n",
        "n=int(input(\"Enter a positive integer:\"))\n",
        "result=sum_of_squares(n)\n",
        "print(\"Sum of squares of first\",n,\"natural number is:\",result)\n",
        "\n"
      ],
      "metadata": {
        "id": "IYGD8s1pN-9Z",
        "colab": {
          "base_uri": "https://localhost:8080/"
        },
        "outputId": "86b7d8c3-58b0-43d2-90a5-a585d405688a"
      },
      "execution_count": null,
      "outputs": [
        {
          "output_type": "stream",
          "name": "stdout",
          "text": [
            "Enter a positive integer:5\n",
            "Sum of squares of first 5 natural number is: 55\n"
          ]
        }
      ]
    },
    {
      "cell_type": "code",
      "source": [
        "#13\n",
        "def sum_of_cube(n):\n",
        "  return sum(i**3 for i in range(1,n+1))\n",
        "n=int(input(\"Enter a positive integer:\"))\n",
        "result=sum_of_cube(n)\n",
        "print(\"Sum of cube of first\",n,\"natural number is:\",result)"
      ],
      "metadata": {
        "colab": {
          "base_uri": "https://localhost:8080/"
        },
        "id": "XTbqsFOKIQPS",
        "outputId": "c1f7b670-0ccc-4929-b41a-db57941214bf"
      },
      "execution_count": null,
      "outputs": [
        {
          "output_type": "stream",
          "name": "stdout",
          "text": [
            "Enter a positive integer:4\n",
            "Sum of cube of first 4 natural number is: 100\n"
          ]
        }
      ]
    },
    {
      "cell_type": "code",
      "source": [
        "#9\n",
        "def fib(n):\n",
        "\n",
        "  a=0\n",
        "  b=1\n",
        "\n",
        "  print(a)\n",
        "  print(b)\n",
        "\n",
        "  for i in range(3,n):\n",
        "\n",
        "    c=a+b\n",
        "    a=b\n",
        "    b=c\n",
        "    print(c)\n",
        "\n",
        "fib(15)"
      ],
      "metadata": {
        "colab": {
          "base_uri": "https://localhost:8080/"
        },
        "id": "JjadFlciKGuI",
        "outputId": "58ba89bf-b196-4e76-cd4d-d8cbccb050a7"
      },
      "execution_count": null,
      "outputs": [
        {
          "output_type": "stream",
          "name": "stdout",
          "text": [
            "0\n",
            "1\n",
            "1\n",
            "2\n",
            "3\n",
            "5\n",
            "8\n",
            "13\n",
            "21\n",
            "34\n",
            "55\n",
            "89\n",
            "144\n",
            "233\n"
          ]
        }
      ]
    },
    {
      "cell_type": "code",
      "source": [
        "#10\n",
        "import math\n",
        "\n",
        "def is_perfect_square(x):\n",
        "    s = int(math.sqrt(x))\n",
        "    return s * s == x\n",
        "\n",
        "def is_fibonacci_number(n):\n",
        "\n",
        "    return is_perfect_square(5 * n * n + 4) or is_perfect_square(5 * n * n - 4)\n",
        "\n",
        "\n",
        "num = int(input(\"Enter a number to check if it is a Fibonacci number: \"))\n",
        "\n",
        "\n",
        "if is_fibonacci_number(num):\n",
        "    print(f\"{num} is a Fibonacci number.\")\n",
        "else:\n",
        "    print(f\"{num} is not a Fibonacci number.\")\n"
      ],
      "metadata": {
        "id": "zhHUfDhnQrWb",
        "colab": {
          "base_uri": "https://localhost:8080/"
        },
        "outputId": "3c45837e-38b7-4b8e-f73d-8893eb47aa71"
      },
      "execution_count": 4,
      "outputs": [
        {
          "output_type": "stream",
          "name": "stdout",
          "text": [
            "Enter a number to check if it is a Fibonacci number: 56\n",
            "56 is not a Fibonacci number.\n"
          ]
        }
      ]
    },
    {
      "cell_type": "code",
      "source": [
        "#7\n",
        "def is_prime(n):\n",
        "    if n <= 1:\n",
        "        return False\n",
        "    for i in range(2, int(n**0.5) + 1):\n",
        "        if n % i == 0:\n",
        "            return False\n",
        "    return True\n",
        "\n",
        "def print_primes_in_interval(start, end):\n",
        "    print(f\"Prime numbers between {start} and {end}:\")\n",
        "    for num in range(start, end + 1):\n",
        "        if is_prime(num):\n",
        "            print(num, end=\" \")\n",
        "    print()\n",
        "\n",
        "start = int(input(\"Enter the starting number of the interval: \"))\n",
        "end = int(input(\"Enter the ending number of the interval: \"))\n",
        "\n",
        "print_primes_in_interval(start, end)\n"
      ],
      "metadata": {
        "colab": {
          "base_uri": "https://localhost:8080/"
        },
        "id": "-XDJvUg9MG8q",
        "outputId": "2a5b0e8b-f2c9-4831-8ea7-f9374b561a17"
      },
      "execution_count": 3,
      "outputs": [
        {
          "output_type": "stream",
          "name": "stdout",
          "text": [
            "Enter the starting number of the interval: 10\n",
            "Enter the ending number of the interval: 30\n",
            "Prime numbers between 10 and 30:\n",
            "11 13 17 19 23 29 \n"
          ]
        }
      ]
    },
    {
      "cell_type": "code",
      "source": [],
      "metadata": {
        "id": "YvNmzIs9MX17"
      },
      "execution_count": null,
      "outputs": []
    }
  ]
}