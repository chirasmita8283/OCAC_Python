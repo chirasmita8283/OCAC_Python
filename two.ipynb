{
 "cells": [
  {
   "cell_type": "code",
   "execution_count": 1,
   "id": "4a3e7950-4457-4642-98c7-e28c1b23ce0c",
   "metadata": {},
   "outputs": [
    {
     "name": "stdout",
     "output_type": "stream",
     "text": [
      "6\n"
     ]
    }
   ],
   "source": [
    "print(6)"
   ]
  },
  {
   "cell_type": "code",
   "execution_count": 4,
   "id": "6145584f-2c38-4ba2-b849-4260915308ba",
   "metadata": {},
   "outputs": [
    {
     "name": "stdout",
     "output_type": "stream",
     "text": [
      "10\n"
     ]
    }
   ],
   "source": [
    "bably=10\n",
    "print(bably)"
   ]
  },
  {
   "cell_type": "code",
   "execution_count": 5,
   "id": "1b76aafe-89ab-4917-8347-e0118f1ad2d8",
   "metadata": {},
   "outputs": [
    {
     "name": "stdout",
     "output_type": "stream",
     "text": [
      "7\n"
     ]
    },
    {
     "data": {
      "text/plain": [
       "int"
      ]
     },
     "execution_count": 5,
     "metadata": {},
     "output_type": "execute_result"
    }
   ],
   "source": [
    "a=7\n",
    "print(a)\n",
    "type(a)"
   ]
  },
  {
   "cell_type": "code",
   "execution_count": 6,
   "id": "bd41176a-c0c5-4131-9d24-2fbc21433e49",
   "metadata": {},
   "outputs": [
    {
     "name": "stdout",
     "output_type": "stream",
     "text": [
      "8\n"
     ]
    },
    {
     "data": {
      "text/plain": [
       "str"
      ]
     },
     "execution_count": 6,
     "metadata": {},
     "output_type": "execute_result"
    }
   ],
   "source": [
    "a='8'\n",
    "print(a)\n",
    "type(a)"
   ]
  },
  {
   "cell_type": "code",
   "execution_count": 7,
   "id": "53acb0cd-cb57-4a4d-a243-424518b50628",
   "metadata": {},
   "outputs": [
    {
     "name": "stdout",
     "output_type": "stream",
     "text": [
      "80\n"
     ]
    }
   ],
   "source": [
    "a=20\n",
    "b=60\n",
    "c=a+b\n",
    "print(c)"
   ]
  },
  {
   "cell_type": "code",
   "execution_count": 8,
   "id": "b5425ac3-81b6-4711-b03e-5ca65d9b8c81",
   "metadata": {},
   "outputs": [
    {
     "name": "stdout",
     "output_type": "stream",
     "text": [
      "30:10:40:50\n"
     ]
    }
   ],
   "source": [
    "a=30\n",
    "b=10\n",
    "c=40\n",
    "d=50\n",
    "print(a,b,c,d,sep=\":\")"
   ]
  },
  {
   "cell_type": "code",
   "execution_count": 9,
   "id": "f2b13b86-790f-447b-b7fb-34ef41ae7a25",
   "metadata": {},
   "outputs": [
    {
     "name": "stdout",
     "output_type": "stream",
     "text": [
      "name minu chinu\n"
     ]
    }
   ],
   "source": [
    "first_name='chinu'\n",
    "last_name='minu'\n",
    "print(\"name\",last_name,first_name)"
   ]
  },
  {
   "cell_type": "code",
   "execution_count": 13,
   "id": "6b195e43-b013-419a-afbe-c14bfdd08dd4",
   "metadata": {},
   "outputs": [
    {
     "name": "stdout",
     "output_type": "stream",
     "text": [
      "my first name is: chinu and last name is: minu\n"
     ]
    }
   ],
   "source": [
    "print(\"my first name is:\",first_name,\"and last name is:\",last_name)"
   ]
  },
  {
   "cell_type": "code",
   "execution_count": 19,
   "id": "a7eeae49-ca7c-463d-a705-c448f33bcc52",
   "metadata": {},
   "outputs": [
    {
     "name": "stdout",
     "output_type": "stream",
     "text": [
      "my first name is:minu and my last name is:chinu\n"
     ]
    }
   ],
   "source": [
    "print(\"my first name is:{} and my last name is:{}\".format(last_name,first_name))"
   ]
  },
  {
   "cell_type": "code",
   "execution_count": 24,
   "id": "8805f37e-c9f3-4d80-8452-32504837ce3f",
   "metadata": {},
   "outputs": [
    {
     "name": "stdout",
     "output_type": "stream",
     "text": [
      "my first name is:chinu and my last name is:chinu\n"
     ]
    }
   ],
   "source": [
    "print(\"my first name is:{first} and my last name is:{first}\".format(last=first_name,first=first_name)) "
   ]
  },
  {
   "cell_type": "code",
   "execution_count": 26,
   "id": "fdd00d71-ae9d-4062-9f94-e8b695e195d7",
   "metadata": {},
   "outputs": [
    {
     "name": "stdout",
     "output_type": "stream",
     "text": [
      "Hiii babli Good afternoon babli\n"
     ]
    }
   ],
   "source": [
    "print(\"Hiii {name} {greeting} {name}\".format(name=\"babli\",greeting=\"Good afternoon\"))"
   ]
  },
  {
   "cell_type": "code",
   "execution_count": 29,
   "id": "51e8aff5-8762-44d0-b1b1-1d68b999a328",
   "metadata": {},
   "outputs": [
    {
     "name": "stdout",
     "output_type": "stream",
     "text": [
      "The story of Bill, georg,and manfred\n"
     ]
    }
   ],
   "source": [
    "print(\"The story of {}, {other},and {}\".format('Bill','manfred',other='georg'))"
   ]
  },
  {
   "cell_type": "code",
   "execution_count": 31,
   "id": "eb11a0b0-205a-48a6-a4f3-6d8ff954e59f",
   "metadata": {},
   "outputs": [
    {
     "name": "stdout",
     "output_type": "stream",
     "text": [
      "my number is:12 and my name is:sita\n"
     ]
    }
   ],
   "source": [
    "num=12\n",
    "name='sita'\n",
    "print(\"my number is:{one} and my name is:{two}\".format(one=num,two=name))"
   ]
  },
  {
   "cell_type": "code",
   "execution_count": 32,
   "id": "8a898047-6afb-444d-b3a0-cef7de1d5108",
   "metadata": {},
   "outputs": [
    {
     "name": "stdout",
     "output_type": "stream",
     "text": [
      "my number is:12 and my name is:sita\n"
     ]
    }
   ],
   "source": [
    "print(\"my number is:{} and my name is:{}\".format(num,name))"
   ]
  },
  {
   "cell_type": "code",
   "execution_count": 36,
   "id": "7cb6e847-36d1-4201-8589-9557febca0e3",
   "metadata": {},
   "outputs": [
    {
     "name": "stdout",
     "output_type": "stream",
     "text": [
      "my number is: 12  and my name is: sita\n"
     ]
    }
   ],
   "source": [
    "print(\"my number is:\",num,\" and my name is:\",name)"
   ]
  },
  {
   "cell_type": "code",
   "execution_count": 39,
   "id": "e0d13990-daf6-47f8-9081-9fa7c3e95a10",
   "metadata": {},
   "outputs": [
    {
     "data": {
      "text/plain": [
       "int"
      ]
     },
     "execution_count": 39,
     "metadata": {},
     "output_type": "execute_result"
    }
   ],
   "source": [
    "n=(3)\n",
    "type(n)"
   ]
  },
  {
   "cell_type": "code",
   "execution_count": 40,
   "id": "b4e7848c-ce52-43c6-a4fb-a22a60f713b1",
   "metadata": {},
   "outputs": [
    {
     "name": "stdin",
     "output_type": "stream",
     "text": [
      "enter your salary: 23877\n"
     ]
    },
    {
     "data": {
      "text/plain": [
       "23877.0"
      ]
     },
     "execution_count": 40,
     "metadata": {},
     "output_type": "execute_result"
    }
   ],
   "source": [
    "n=float(input(\"enter your salary:\"))\n",
    "n"
   ]
  },
  {
   "cell_type": "code",
   "execution_count": 43,
   "id": "5be3c401-e73a-4a14-94b7-5a13991f10a5",
   "metadata": {},
   "outputs": [
    {
     "name": "stdin",
     "output_type": "stream",
     "text": [
      "enter your age: 22 24\n"
     ]
    },
    {
     "name": "stdout",
     "output_type": "stream",
     "text": [
      "22\n",
      "24\n"
     ]
    }
   ],
   "source": [
    "var_1,var_2 = input(\"enter your age:\").split(\" \")\n",
    "print(var_1)\n",
    "print(var_2)"
   ]
  },
  {
   "cell_type": "code",
   "execution_count": 44,
   "id": "bbdaec39-ebff-4ade-8bb8-024d6fed81b1",
   "metadata": {},
   "outputs": [
    {
     "data": {
      "text/plain": [
       "'youtube'"
      ]
     },
     "execution_count": 44,
     "metadata": {},
     "output_type": "execute_result"
    }
   ],
   "source": [
    "name='youtube'\n",
    "name"
   ]
  },
  {
   "cell_type": "code",
   "execution_count": 49,
   "id": "79383dea-cea2-459b-8c20-0f948534d2eb",
   "metadata": {},
   "outputs": [
    {
     "data": {
      "text/plain": [
       "'youtube rocks '"
      ]
     },
     "execution_count": 49,
     "metadata": {},
     "output_type": "execute_result"
    }
   ],
   "source": [
    "name +' rocks '"
   ]
  },
  {
   "cell_type": "code",
   "execution_count": 50,
   "id": "0aac8fbd-0df2-4d11-80b8-e604d47257cc",
   "metadata": {},
   "outputs": [
    {
     "data": {
      "text/plain": [
       "'yo'"
      ]
     },
     "execution_count": 50,
     "metadata": {},
     "output_type": "execute_result"
    }
   ],
   "source": [
    "name[0:2]"
   ]
  },
  {
   "cell_type": "code",
   "execution_count": 51,
   "id": "ae641966-a149-4a7f-9efe-04133ce2af17",
   "metadata": {},
   "outputs": [
    {
     "data": {
      "text/plain": [
       "'out'"
      ]
     },
     "execution_count": 51,
     "metadata": {},
     "output_type": "execute_result"
    }
   ],
   "source": [
    "name[1:4]"
   ]
  },
  {
   "cell_type": "code",
   "execution_count": 52,
   "id": "f560700e-ef89-4bd7-95a6-fda1ed13b836",
   "metadata": {},
   "outputs": [
    {
     "data": {
      "text/plain": [
       "'utube'"
      ]
     },
     "execution_count": 52,
     "metadata": {},
     "output_type": "execute_result"
    }
   ],
   "source": [
    "name[2:]"
   ]
  },
  {
   "cell_type": "code",
   "execution_count": 58,
   "id": "b3c31558-6e08-4019-ba9f-ba9e5cf97c6c",
   "metadata": {},
   "outputs": [
    {
     "data": {
      "text/plain": [
       "[23, 22, 26, 33, 44]"
      ]
     },
     "execution_count": 58,
     "metadata": {},
     "output_type": "execute_result"
    }
   ],
   "source": [
    "nums=[23,22,26,33,44]\n",
    "nums"
   ]
  },
  {
   "cell_type": "code",
   "execution_count": 59,
   "id": "23bc7c34-7e85-46c7-ae10-ced017667f28",
   "metadata": {},
   "outputs": [
    {
     "data": {
      "text/plain": [
       "[23, 26, 33, 44]"
      ]
     },
     "execution_count": 59,
     "metadata": {},
     "output_type": "execute_result"
    }
   ],
   "source": [
    "nums.remove(22)\n",
    "nums"
   ]
  },
  {
   "cell_type": "code",
   "execution_count": 60,
   "id": "6c98814c-4ca6-4837-abd9-697cb9218260",
   "metadata": {},
   "outputs": [
    {
     "data": {
      "text/plain": [
       "44"
      ]
     },
     "execution_count": 60,
     "metadata": {},
     "output_type": "execute_result"
    }
   ],
   "source": [
    "nums.pop()"
   ]
  },
  {
   "cell_type": "code",
   "execution_count": 70,
   "id": "e57a54b6-4374-4b7a-b9ea-9ddc77aff688",
   "metadata": {},
   "outputs": [
    {
     "data": {
      "text/plain": [
       "[23, 26]"
      ]
     },
     "execution_count": 70,
     "metadata": {},
     "output_type": "execute_result"
    }
   ],
   "source": [
    "del nums[2:]\n",
    "nums"
   ]
  },
  {
   "cell_type": "code",
   "execution_count": 71,
   "id": "398accc4-aa42-4a74-a38b-ad1c1d3baa36",
   "metadata": {},
   "outputs": [
    {
     "data": {
      "text/plain": [
       "[23, 26, 13, 54, 32]"
      ]
     },
     "execution_count": 71,
     "metadata": {},
     "output_type": "execute_result"
    }
   ],
   "source": [
    "nums.extend([13,54,32])\n",
    "nums"
   ]
  },
  {
   "cell_type": "code",
   "execution_count": 76,
   "id": "cab4450e-1ab7-4a2c-a3f9-caedad276c81",
   "metadata": {},
   "outputs": [
    {
     "name": "stdout",
     "output_type": "stream",
     "text": [
      "[13, 23, 26, 32, 54]\n"
     ]
    }
   ],
   "source": [
    "nums.sort()\n",
    "print(nums)"
   ]
  },
  {
   "cell_type": "code",
   "execution_count": 77,
   "id": "e6dd4f16-9894-4d7b-88e4-302532e26523",
   "metadata": {},
   "outputs": [
    {
     "data": {
      "text/plain": [
       "13"
      ]
     },
     "execution_count": 77,
     "metadata": {},
     "output_type": "execute_result"
    }
   ],
   "source": [
    "min(nums)"
   ]
  },
  {
   "cell_type": "code",
   "execution_count": 78,
   "id": "b7be0e42-7dee-4c17-81f9-f7839fabf931",
   "metadata": {},
   "outputs": [
    {
     "data": {
      "text/plain": [
       "54"
      ]
     },
     "execution_count": 78,
     "metadata": {},
     "output_type": "execute_result"
    }
   ],
   "source": [
    "max(nums)"
   ]
  },
  {
   "cell_type": "code",
   "execution_count": 92,
   "id": "2d9a91e7-5430-4f96-bf50-ab86d69e1016",
   "metadata": {},
   "outputs": [
    {
     "data": {
      "text/plain": [
       "[13, 23, 26]"
      ]
     },
     "execution_count": 92,
     "metadata": {},
     "output_type": "execute_result"
    }
   ],
   "source": [
    "del nums[3:]\n",
    "nums"
   ]
  },
  {
   "cell_type": "code",
   "execution_count": 93,
   "id": "f325f3c0-16c7-4ec2-9bd1-eb32f59426aa",
   "metadata": {},
   "outputs": [
    {
     "data": {
      "text/plain": [
       "62"
      ]
     },
     "execution_count": 93,
     "metadata": {},
     "output_type": "execute_result"
    }
   ],
   "source": [
    "sum(nums)"
   ]
  },
  {
   "cell_type": "code",
   "execution_count": null,
   "id": "54b8ce20-2001-4c9b-a702-8778322d9b42",
   "metadata": {},
   "outputs": [],
   "source": []
  }
 ],
 "metadata": {
  "kernelspec": {
   "display_name": "Python 3 (ipykernel)",
   "language": "python",
   "name": "python3"
  },
  "language_info": {
   "codemirror_mode": {
    "name": "ipython",
    "version": 3
   },
   "file_extension": ".py",
   "mimetype": "text/x-python",
   "name": "python",
   "nbconvert_exporter": "python",
   "pygments_lexer": "ipython3",
   "version": "3.11.7"
  }
 },
 "nbformat": 4,
 "nbformat_minor": 5
}
