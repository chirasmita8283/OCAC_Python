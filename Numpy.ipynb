{
 "cells": [
  {
   "cell_type": "code",
   "execution_count": 2,
   "id": "a92a10fd-4a40-470b-82f5-04f19b133fb1",
   "metadata": {},
   "outputs": [],
   "source": [
    "import numpy as np"
   ]
  },
  {
   "cell_type": "markdown",
   "id": "3b7fbfd8-585c-4fe9-9084-69d9f7c65f00",
   "metadata": {},
   "source": [
    "### ndarray object"
   ]
  },
  {
   "cell_type": "code",
   "execution_count": 2,
   "id": "a5c49e1c-ba7c-4af7-8f3f-794342650d19",
   "metadata": {},
   "outputs": [],
   "source": [
    "a=[1,2,3,4,5,6]"
   ]
  },
  {
   "cell_type": "code",
   "execution_count": 3,
   "id": "d69f3358-22f9-4a25-ada0-d62ddea47cc3",
   "metadata": {},
   "outputs": [
    {
     "name": "stdout",
     "output_type": "stream",
     "text": [
      "[1, 2, 3, 4, 5, 6]\n"
     ]
    }
   ],
   "source": [
    "print(a)"
   ]
  },
  {
   "cell_type": "code",
   "execution_count": 4,
   "id": "eae35c85-08fc-4809-866e-fb52d563c547",
   "metadata": {},
   "outputs": [
    {
     "name": "stdout",
     "output_type": "stream",
     "text": [
      "<class 'list'>\n"
     ]
    }
   ],
   "source": [
    "print(type(a))"
   ]
  },
  {
   "cell_type": "code",
   "execution_count": 5,
   "id": "087d7967-b2d0-401d-ba9a-5b2b2e3e1435",
   "metadata": {},
   "outputs": [],
   "source": [
    "np_b = np.array(a)"
   ]
  },
  {
   "cell_type": "code",
   "execution_count": 6,
   "id": "dabf45f9-7f40-48ab-b200-15aa3adb987e",
   "metadata": {},
   "outputs": [
    {
     "name": "stdout",
     "output_type": "stream",
     "text": [
      "[1 2 3 4 5 6]\n"
     ]
    }
   ],
   "source": [
    "print(np_b)"
   ]
  },
  {
   "cell_type": "code",
   "execution_count": 8,
   "id": "33abb9c7-bf5f-4d9e-826a-6bbf0f615b38",
   "metadata": {},
   "outputs": [
    {
     "name": "stdout",
     "output_type": "stream",
     "text": [
      "<class 'numpy.ndarray'>\n"
     ]
    }
   ],
   "source": [
    "print(type(np_b))"
   ]
  },
  {
   "cell_type": "code",
   "execution_count": 9,
   "id": "23b1180f-ca30-4ce9-b1d2-c3e189a6d00e",
   "metadata": {},
   "outputs": [
    {
     "name": "stdout",
     "output_type": "stream",
     "text": [
      "178 µs ± 35.5 µs per loop (mean ± std. dev. of 7 runs, 1,000 loops each)\n"
     ]
    }
   ],
   "source": [
    "L = range(1000)\n",
    "%timeit [i**2 for i in L]"
   ]
  },
  {
   "cell_type": "code",
   "execution_count": 10,
   "id": "dd384915-0891-41fc-8c27-04b3d20a558a",
   "metadata": {},
   "outputs": [
    {
     "name": "stdout",
     "output_type": "stream",
     "text": [
      "2.49 µs ± 22.4 ns per loop (mean ± std. dev. of 7 runs, 100,000 loops each)\n"
     ]
    }
   ],
   "source": [
    "a=np.arange(1000)\n",
    "%timeit a**2"
   ]
  },
  {
   "cell_type": "markdown",
   "id": "ad8afd20-70b9-4254-994d-930f795e129e",
   "metadata": {},
   "source": [
    "## Creating arrays"
   ]
  },
  {
   "cell_type": "code",
   "execution_count": 11,
   "id": "25b02b4b-f8e7-42ce-a8cc-5ddc72beac77",
   "metadata": {},
   "outputs": [
    {
     "data": {
      "text/plain": [
       "array([0, 1, 2, 3])"
      ]
     },
     "execution_count": 11,
     "metadata": {},
     "output_type": "execute_result"
    }
   ],
   "source": [
    "a = np.array([0,1,2,3])\n",
    "a"
   ]
  },
  {
   "cell_type": "code",
   "execution_count": 12,
   "id": "200f6a5a-8e3a-477e-836f-a2c966fab17d",
   "metadata": {},
   "outputs": [
    {
     "data": {
      "text/plain": [
       "1"
      ]
     },
     "execution_count": 12,
     "metadata": {},
     "output_type": "execute_result"
    }
   ],
   "source": [
    "a.ndim"
   ]
  },
  {
   "cell_type": "code",
   "execution_count": 13,
   "id": "86c5f6d2-a568-4053-b2ff-c3d69e5bc6d6",
   "metadata": {},
   "outputs": [
    {
     "data": {
      "text/plain": [
       "(4,)"
      ]
     },
     "execution_count": 13,
     "metadata": {},
     "output_type": "execute_result"
    }
   ],
   "source": [
    "a.shape"
   ]
  },
  {
   "cell_type": "code",
   "execution_count": 14,
   "id": "9378e7ff-057e-445e-8c11-3052c5dbb568",
   "metadata": {},
   "outputs": [
    {
     "data": {
      "text/plain": [
       "array([[0, 1, 2],\n",
       "       [3, 4, 5]])"
      ]
     },
     "execution_count": 14,
     "metadata": {},
     "output_type": "execute_result"
    }
   ],
   "source": [
    "b = np.array([[0,1,2],[3,4,5]])\n",
    "b"
   ]
  },
  {
   "cell_type": "code",
   "execution_count": 15,
   "id": "3506df3d-74d5-4204-9099-e0e602ed7776",
   "metadata": {},
   "outputs": [
    {
     "data": {
      "text/plain": [
       "2"
      ]
     },
     "execution_count": 15,
     "metadata": {},
     "output_type": "execute_result"
    }
   ],
   "source": [
    "b.ndim"
   ]
  },
  {
   "cell_type": "code",
   "execution_count": 16,
   "id": "3b2b1c69-a9cc-4f73-9471-33942e9acaec",
   "metadata": {},
   "outputs": [
    {
     "data": {
      "text/plain": [
       "(2, 3)"
      ]
     },
     "execution_count": 16,
     "metadata": {},
     "output_type": "execute_result"
    }
   ],
   "source": [
    "b.shape"
   ]
  },
  {
   "cell_type": "code",
   "execution_count": 19,
   "id": "f84d97eb-79f7-476c-a333-5aa0580574bf",
   "metadata": {},
   "outputs": [
    {
     "data": {
      "text/plain": [
       "array([[[0, 1],\n",
       "        [2, 3]],\n",
       "\n",
       "       [[4, 5],\n",
       "        [6, 7]]])"
      ]
     },
     "execution_count": 19,
     "metadata": {},
     "output_type": "execute_result"
    }
   ],
   "source": [
    "c = np.array([[[0,1],[2,3]],[[4,5],[6,7]]])\n",
    "c"
   ]
  },
  {
   "cell_type": "code",
   "execution_count": 20,
   "id": "f4cb6462-d6f5-485c-95b1-5aba67c9e2f1",
   "metadata": {},
   "outputs": [
    {
     "data": {
      "text/plain": [
       "3"
      ]
     },
     "execution_count": 20,
     "metadata": {},
     "output_type": "execute_result"
    }
   ],
   "source": [
    "c.ndim"
   ]
  },
  {
   "cell_type": "code",
   "execution_count": 21,
   "id": "59dae1d4-2842-4586-957c-76333c097f4c",
   "metadata": {},
   "outputs": [
    {
     "data": {
      "text/plain": [
       "(2, 2, 2)"
      ]
     },
     "execution_count": 21,
     "metadata": {},
     "output_type": "execute_result"
    }
   ],
   "source": [
    "c.shape"
   ]
  },
  {
   "cell_type": "markdown",
   "id": "c25c44be-1971-49f8-82b5-4aa49559ca94",
   "metadata": {},
   "source": [
    "## Creating Numpy Arrays From a List"
   ]
  },
  {
   "cell_type": "code",
   "execution_count": 20,
   "id": "507a7a02-968a-4a9a-8e01-061ddfda320f",
   "metadata": {},
   "outputs": [
    {
     "data": {
      "text/plain": [
       "[1, 2, 3, 4, 5]"
      ]
     },
     "execution_count": 20,
     "metadata": {},
     "output_type": "execute_result"
    }
   ],
   "source": [
    "my_lst=[1,2,3,4,5]\n",
    "my_lst"
   ]
  },
  {
   "cell_type": "code",
   "execution_count": 22,
   "id": "443cd5b7-07c5-4414-ab44-0cbf163b3a93",
   "metadata": {},
   "outputs": [
    {
     "data": {
      "text/plain": [
       "array([1, 2, 3, 4, 5])"
      ]
     },
     "execution_count": 22,
     "metadata": {},
     "output_type": "execute_result"
    }
   ],
   "source": [
    "np.array(my_lst)"
   ]
  },
  {
   "cell_type": "code",
   "execution_count": 23,
   "id": "a19babad-a7fc-4fad-8a75-374af978f25b",
   "metadata": {},
   "outputs": [
    {
     "data": {
      "text/plain": [
       "[[1, 2, 3], [4, 5, 6], [7, 8, 9]]"
      ]
     },
     "execution_count": 23,
     "metadata": {},
     "output_type": "execute_result"
    }
   ],
   "source": [
    "my_matrix = [[1,2,3],[4,5,6],[7,8,9]]\n",
    "my_matrix"
   ]
  },
  {
   "cell_type": "code",
   "execution_count": 24,
   "id": "f8067793-2f97-44cb-822b-ab53fb1a9865",
   "metadata": {},
   "outputs": [
    {
     "data": {
      "text/plain": [
       "array([[1, 2, 3],\n",
       "       [4, 5, 6],\n",
       "       [7, 8, 9]])"
      ]
     },
     "execution_count": 24,
     "metadata": {},
     "output_type": "execute_result"
    }
   ],
   "source": [
    "np.array(my_matrix)"
   ]
  },
  {
   "cell_type": "code",
   "execution_count": 25,
   "id": "8f66abe8-ecd5-4cbb-a224-54b1eeecdd4c",
   "metadata": {},
   "outputs": [
    {
     "data": {
      "text/plain": [
       "(3, 3)"
      ]
     },
     "execution_count": 25,
     "metadata": {},
     "output_type": "execute_result"
    }
   ],
   "source": [
    "np.array(my_matrix).shape"
   ]
  },
  {
   "cell_type": "markdown",
   "id": "2eb1acbf-94ff-4919-9fbd-1b26dcb08430",
   "metadata": {},
   "source": [
    "## Functions for creating arrays"
   ]
  },
  {
   "cell_type": "markdown",
   "id": "a837e523-4d38-4684-a04a-4a0feddc6d31",
   "metadata": {},
   "source": [
    "#### arange"
   ]
  },
  {
   "cell_type": "code",
   "execution_count": 26,
   "id": "4182733f-1077-46fa-a3c2-e4902eae6d9a",
   "metadata": {},
   "outputs": [
    {
     "data": {
      "text/plain": [
       "array([0, 1, 2, 3, 4, 5, 6, 7, 8, 9])"
      ]
     },
     "execution_count": 26,
     "metadata": {},
     "output_type": "execute_result"
    }
   ],
   "source": [
    "a = np.arange(10)\n",
    "a"
   ]
  },
  {
   "cell_type": "code",
   "execution_count": 28,
   "id": "b24ab461-84a1-4a98-86dc-5a71c8822ebe",
   "metadata": {},
   "outputs": [
    {
     "data": {
      "text/plain": [
       "array([ 1,  4,  7, 10, 13])"
      ]
     },
     "execution_count": 28,
     "metadata": {},
     "output_type": "execute_result"
    }
   ],
   "source": [
    "b=np.arange(1,15,3)\n",
    "b"
   ]
  },
  {
   "cell_type": "markdown",
   "id": "49d1d257-1758-44f7-83c5-bbbdd3a65aad",
   "metadata": {},
   "source": [
    "#### Linespace"
   ]
  },
  {
   "cell_type": "code",
   "execution_count": 32,
   "id": "c2d3e24d-34bf-4734-b748-eb5e0dad9d40",
   "metadata": {},
   "outputs": [
    {
     "data": {
      "text/plain": [
       "array([0., 1., 2., 3., 4., 5.])"
      ]
     },
     "execution_count": 32,
     "metadata": {},
     "output_type": "execute_result"
    }
   ],
   "source": [
    "a = np.linspace(0,5,6)\n",
    "a"
   ]
  },
  {
   "cell_type": "code",
   "execution_count": 34,
   "id": "8efa2ddc-87f8-491f-aec9-0d607e9e3c6f",
   "metadata": {},
   "outputs": [
    {
     "data": {
      "text/plain": [
       "array([ 0.  ,  3.75,  7.5 , 11.25, 15.  ])"
      ]
     },
     "execution_count": 34,
     "metadata": {},
     "output_type": "execute_result"
    }
   ],
   "source": [
    "np.linspace(0,15,5)"
   ]
  },
  {
   "cell_type": "markdown",
   "id": "5b69fb1f-279b-45fe-94ea-b9268f40005e",
   "metadata": {},
   "source": [
    "#### Zeros and ones"
   ]
  },
  {
   "cell_type": "code",
   "execution_count": 5,
   "id": "95894200-d1e4-4b92-b288-5474192ab4f8",
   "metadata": {},
   "outputs": [
    {
     "data": {
      "text/plain": [
       "array([0., 0., 0., 0.])"
      ]
     },
     "execution_count": 5,
     "metadata": {},
     "output_type": "execute_result"
    }
   ],
   "source": [
    "np.zeros(4)"
   ]
  },
  {
   "cell_type": "code",
   "execution_count": 6,
   "id": "889118df-5a25-40cd-8d20-0b9bdc1b5e31",
   "metadata": {},
   "outputs": [
    {
     "data": {
      "text/plain": [
       "array([[0., 0.],\n",
       "       [0., 0.]])"
      ]
     },
     "execution_count": 6,
     "metadata": {},
     "output_type": "execute_result"
    }
   ],
   "source": [
    "b = np.zeros((2,2))\n",
    "b"
   ]
  },
  {
   "cell_type": "code",
   "execution_count": 7,
   "id": "85a2a8fc-6e0f-4f2c-99de-1e9d8af80af9",
   "metadata": {},
   "outputs": [
    {
     "data": {
      "text/plain": [
       "array([[1., 1., 1.],\n",
       "       [1., 1., 1.],\n",
       "       [1., 1., 1.],\n",
       "       [1., 1., 1.]])"
      ]
     },
     "execution_count": 7,
     "metadata": {},
     "output_type": "execute_result"
    }
   ],
   "source": [
    "a=np.ones((4,3))\n",
    "a"
   ]
  },
  {
   "cell_type": "code",
   "execution_count": 8,
   "id": "c19b3e4e-a1a1-4926-a0af-6ab9a106201c",
   "metadata": {},
   "outputs": [
    {
     "data": {
      "text/plain": [
       "array([[1., 0., 0., 0., 0.],\n",
       "       [0., 1., 0., 0., 0.],\n",
       "       [0., 0., 1., 0., 0.],\n",
       "       [0., 0., 0., 1., 0.],\n",
       "       [0., 0., 0., 0., 1.]])"
      ]
     },
     "execution_count": 8,
     "metadata": {},
     "output_type": "execute_result"
    }
   ],
   "source": [
    "c = np.eye(5)\n",
    "c"
   ]
  },
  {
   "cell_type": "code",
   "execution_count": 9,
   "id": "ac5a3447-c69c-41f1-8444-48c5804857c3",
   "metadata": {},
   "outputs": [
    {
     "data": {
      "text/plain": [
       "array([[1., 0., 0., 0., 0.],\n",
       "       [0., 1., 0., 0., 0.],\n",
       "       [0., 0., 1., 0., 0.],\n",
       "       [0., 0., 0., 1., 0.]])"
      ]
     },
     "execution_count": 9,
     "metadata": {},
     "output_type": "execute_result"
    }
   ],
   "source": [
    "d = np.eye(4,5)\n",
    "d"
   ]
  },
  {
   "cell_type": "code",
   "execution_count": null,
   "id": "6abf7ba5-df63-49b5-aa99-9d6118c78c96",
   "metadata": {},
   "outputs": [],
   "source": []
  },
  {
   "cell_type": "code",
   "execution_count": 10,
   "id": "5d529418-8f9c-4372-b612-9d3185c4c94e",
   "metadata": {},
   "outputs": [
    {
     "data": {
      "text/plain": [
       "array([[2, 0, 0, 0],\n",
       "       [0, 4, 0, 0],\n",
       "       [0, 0, 5, 0],\n",
       "       [0, 0, 0, 7]])"
      ]
     },
     "execution_count": 10,
     "metadata": {},
     "output_type": "execute_result"
    }
   ],
   "source": [
    "a=np.diag([2,4,5,7])\n",
    "a"
   ]
  },
  {
   "cell_type": "code",
   "execution_count": 11,
   "id": "fe713b9a-011d-45dd-8a16-7dd86f34e121",
   "metadata": {},
   "outputs": [
    {
     "data": {
      "text/plain": [
       "array([2, 4, 5, 7])"
      ]
     },
     "execution_count": 11,
     "metadata": {},
     "output_type": "execute_result"
    }
   ],
   "source": [
    "np.diag(a)"
   ]
  },
  {
   "cell_type": "code",
   "execution_count": 9,
   "id": "cb6b15aa-d9cc-44b6-a74a-2db842b52a71",
   "metadata": {},
   "outputs": [
    {
     "name": "stdout",
     "output_type": "stream",
     "text": [
      "[149 150  73 155  37  14 160]\n"
     ]
    }
   ],
   "source": [
    "random_array = np.random.randint(1,171,7)\n",
    "print(random_array)"
   ]
  },
  {
   "cell_type": "code",
   "execution_count": 10,
   "id": "b659fa30-ad0a-4321-a5b2-2836c3c44c57",
   "metadata": {},
   "outputs": [
    {
     "data": {
      "text/plain": [
       "array([0.20387658, 0.77872471, 0.36662375, 0.68340114])"
      ]
     },
     "execution_count": 10,
     "metadata": {},
     "output_type": "execute_result"
    }
   ],
   "source": [
    "a=np.random.rand(4)\n",
    "a"
   ]
  },
  {
   "cell_type": "code",
   "execution_count": 8,
   "id": "751a6e42-27b8-4064-b712-06ba47cefd45",
   "metadata": {},
   "outputs": [
    {
     "data": {
      "text/plain": [
       "array([ 0.73604229, -0.58382604, -0.95069912, -0.38383771,  0.17815039,\n",
       "       -1.28616597, -1.7485705 ,  0.94533389,  0.18802287, -0.02903436,\n",
       "       -0.039578  , -0.71313643, -0.70062068,  0.421688  , -0.18892571,\n",
       "       -0.05781198,  1.49279593,  0.44879431, -0.97407663,  0.69983117,\n",
       "       -0.3702013 , -1.65383177, -0.05378711, -0.77131551,  0.70378962,\n",
       "        0.19095563, -0.54258516, -1.26367607,  1.96600236, -0.12441652,\n",
       "       -0.10206433, -0.71958753,  1.38373615, -0.50587191, -0.91875416,\n",
       "        1.26893952,  0.04925411, -0.36543918,  0.6222537 ,  0.91876907,\n",
       "        0.06498756,  0.35219504, -0.31630541,  0.05303325,  1.3072995 ,\n",
       "        0.62737911,  0.51776597, -0.25911167, -0.54164942,  0.167696  ,\n",
       "        1.59653732,  1.47651997, -1.94156636,  1.1605001 , -0.04602558,\n",
       "       -0.30342563, -1.67250523,  0.4181736 , -0.38921297, -1.6511966 ,\n",
       "        0.7198744 , -0.15362196,  0.60271665, -0.0125847 ,  0.51117282,\n",
       "       -1.25408792,  0.06953333, -1.2834548 ,  0.31810511, -0.65786676,\n",
       "        0.13352903, -2.09018297,  0.24051938,  0.34884283, -0.63338047,\n",
       "        0.6785389 , -0.32311324,  2.23374936,  0.73987845, -0.66359669,\n",
       "        0.05813674, -3.39469903,  0.20038636, -0.04065885,  1.15411034,\n",
       "       -1.01886817,  0.98743272, -0.28682151, -0.30645498,  0.10574818,\n",
       "       -1.33665039, -0.55609749, -0.61375672,  0.10382402,  0.12869226,\n",
       "       -0.96833437,  0.20301117, -0.45183178, -0.0034725 , -1.37009302,\n",
       "       -1.26391204, -1.43024237,  1.22536797, -0.13040242,  0.36683482,\n",
       "        0.60650101, -1.25214486, -1.01840608, -0.97304168, -0.46340444,\n",
       "        0.93460917, -0.02645051, -0.14825242, -0.36300405, -0.79034484,\n",
       "       -0.78597824,  0.3565318 , -0.04390306, -1.11322206,  1.47180982,\n",
       "        0.98987006, -0.78031721, -1.19810599, -2.07459189,  0.21048804,\n",
       "       -1.30592776,  0.27069355, -1.04336324, -0.52563816, -0.23035026,\n",
       "       -0.08662563, -0.10141038,  0.18150516, -0.6460004 , -1.37697636,\n",
       "       -1.02015369, -0.41793497, -0.03114619,  0.39629918,  0.32341976,\n",
       "       -0.2516512 ,  0.1514636 ,  1.11811604,  1.08308498, -0.19015246,\n",
       "        0.3243714 , -0.90056223,  0.47176042,  0.60688873,  1.9592558 ])"
      ]
     },
     "execution_count": 8,
     "metadata": {},
     "output_type": "execute_result"
    }
   ],
   "source": [
    "a=np.random.randn(150)\n",
    "a"
   ]
  },
  {
   "cell_type": "markdown",
   "id": "0e5c483f-a113-4220-9a35-4b876de0fbb2",
   "metadata": {},
   "source": [
    "### Copy array"
   ]
  },
  {
   "cell_type": "code",
   "execution_count": 12,
   "id": "f046914d-4155-4a7f-9a67-4532230fc8d6",
   "metadata": {},
   "outputs": [
    {
     "name": "stdout",
     "output_type": "stream",
     "text": [
      "[100   5   8]\n",
      "[100   5   8]\n"
     ]
    }
   ],
   "source": [
    "a=np.array([1,5,8])\n",
    "b=a\n",
    "b[0]=100\n",
    "print(a)\n",
    "print(b)"
   ]
  },
  {
   "cell_type": "markdown",
   "id": "01f6bb65-d5ad-4330-b01a-b6fcd61f1cfd",
   "metadata": {},
   "source": [
    "### Reshape array"
   ]
  },
  {
   "cell_type": "code",
   "execution_count": 13,
   "id": "1dd273bd-9c8e-485b-be1b-c6440b97d091",
   "metadata": {},
   "outputs": [
    {
     "name": "stdout",
     "output_type": "stream",
     "text": [
      "[ 0  1  2  3  4  5  6  7  8  9 10 11 12 13 14 15 16 17 18 19]\n",
      "(20,)\n"
     ]
    }
   ],
   "source": [
    "arr = np.arange(20)\n",
    "print(arr)\n",
    "print(arr.shape)"
   ]
  },
  {
   "cell_type": "code",
   "execution_count": 16,
   "id": "aa147288-895d-4c3f-a68e-f6e60192bd6f",
   "metadata": {},
   "outputs": [
    {
     "data": {
      "text/plain": [
       "array([[ 0,  1,  2,  3],\n",
       "       [ 4,  5,  6,  7],\n",
       "       [ 8,  9, 10, 11],\n",
       "       [12, 13, 14, 15],\n",
       "       [16, 17, 18, 19]])"
      ]
     },
     "execution_count": 16,
     "metadata": {},
     "output_type": "execute_result"
    }
   ],
   "source": [
    "a1=arr.reshape(5,4)\n",
    "a1"
   ]
  },
  {
   "cell_type": "code",
   "execution_count": 7,
   "id": "85848684-fce9-45ca-b9b1-53efd83105c9",
   "metadata": {},
   "outputs": [
    {
     "name": "stdout",
     "output_type": "stream",
     "text": [
      "[[3 4 6]\n",
      " [2 1 7]]\n",
      "Shape of a: (2, 3)\n"
     ]
    }
   ],
   "source": [
    "a = np.array([[3, 4, 6], [2, 1, 7]])\n",
    "print(a)\n",
    "print(\"Shape of a: {}\".format(a.shape))\n"
   ]
  },
  {
   "cell_type": "code",
   "execution_count": 9,
   "id": "9e8f1b18-bb42-491d-a62f-42f7aba27842",
   "metadata": {},
   "outputs": [
    {
     "name": "stdout",
     "output_type": "stream",
     "text": [
      "[[3 4]\n",
      " [6 2]\n",
      " [1 7]]\n",
      "Shape of b: (3, 2)\n"
     ]
    }
   ],
   "source": [
    "b=a.reshape(3,2)\n",
    "print(b)\n",
    "print(\"Shape of b: {}\".format(b.shape))"
   ]
  },
  {
   "cell_type": "markdown",
   "id": "516ca8ab-b9c4-4a91-86d7-387db516c5ba",
   "metadata": {},
   "source": [
    "### Transpose array"
   ]
  },
  {
   "cell_type": "code",
   "execution_count": 27,
   "id": "1dc6eb40-c486-48d4-9d08-d18662745da3",
   "metadata": {},
   "outputs": [
    {
     "name": "stdout",
     "output_type": "stream",
     "text": [
      "Shape: (2, 4)\n",
      "[[1 2 3 4]\n",
      " [5 6 7 8]]\n"
     ]
    }
   ],
   "source": [
    "a=np.array([[1,2,3,4],[5,6,7,8]])\n",
    "print(\"Shape: {}\".format(a.shape))\n",
    "print(a)"
   ]
  },
  {
   "cell_type": "markdown",
   "id": "f58c05d6-73a4-41b8-a239-8b2a470986c4",
   "metadata": {},
   "source": [
    "#### Flattening"
   ]
  },
  {
   "cell_type": "code",
   "execution_count": 29,
   "id": "ac74fffc-5fe1-4ad7-80ef-246b770730ba",
   "metadata": {},
   "outputs": [
    {
     "data": {
      "text/plain": [
       "array([1, 2, 3, 4, 5, 6])"
      ]
     },
     "execution_count": 29,
     "metadata": {},
     "output_type": "execute_result"
    }
   ],
   "source": [
    "a=np.array([[1,2,3],[4,5,6]])\n",
    "a.ravel()"
   ]
  },
  {
   "cell_type": "code",
   "execution_count": 30,
   "id": "bd9eb18b-a6a2-40e0-b8fe-9cfca6c104d4",
   "metadata": {},
   "outputs": [
    {
     "data": {
      "text/plain": [
       "array([0, 1, 2, 3, 4, 5, 6, 7])"
      ]
     },
     "execution_count": 30,
     "metadata": {},
     "output_type": "execute_result"
    }
   ],
   "source": [
    "c.ravel()"
   ]
  },
  {
   "cell_type": "markdown",
   "id": "8fb446a0-0d35-4866-952d-847cefef4182",
   "metadata": {},
   "source": [
    "### Sorting"
   ]
  },
  {
   "cell_type": "code",
   "execution_count": 31,
   "id": "8f4dae8a-d0ab-4dd5-ba47-62be94ce84f5",
   "metadata": {},
   "outputs": [
    {
     "data": {
      "text/plain": [
       "array([[2, 3, 4],\n",
       "       [5, 6, 7]])"
      ]
     },
     "execution_count": 31,
     "metadata": {},
     "output_type": "execute_result"
    }
   ],
   "source": [
    "a=np.array([[2,3,4],[5,6,7]])\n",
    "b=np.sort(a,axis=1)\n",
    "b"
   ]
  },
  {
   "cell_type": "markdown",
   "id": "87bcfbad-d399-45a2-8476-aaf72d8f541d",
   "metadata": {},
   "source": [
    "### Add/Remove operations on a numpy array"
   ]
  },
  {
   "cell_type": "code",
   "execution_count": 10,
   "id": "af7b853b-0d2d-41a6-bd4f-5611c0357fd8",
   "metadata": {},
   "outputs": [
    {
     "name": "stdout",
     "output_type": "stream",
     "text": [
      "Numpy array after addition: [5 6 8 9 2 3]\n"
     ]
    }
   ],
   "source": [
    "a=np.array([5,6,8])\n",
    "a=np.append(a,[9,2,3])\n",
    "print(\"Numpy array after addition:\",a)"
   ]
  },
  {
   "cell_type": "markdown",
   "id": "829dfbf1-a8be-41a5-b568-d962a69009b2",
   "metadata": {},
   "source": [
    "### Indexing"
   ]
  },
  {
   "cell_type": "code",
   "execution_count": 13,
   "id": "d231d17f-51e8-4dcc-87b6-65ed7770d762",
   "metadata": {},
   "outputs": [
    {
     "name": "stdout",
     "output_type": "stream",
     "text": [
      "[1 2 3 4 5 6 7 8]\n",
      "6\n"
     ]
    }
   ],
   "source": [
    "a=np.arange(1,9)\n",
    "print(a)\n",
    "print(a[5])"
   ]
  },
  {
   "cell_type": "code",
   "execution_count": 15,
   "id": "27e86e6d-881f-411c-9057-1a79a58cf25d",
   "metadata": {},
   "outputs": [
    {
     "name": "stdout",
     "output_type": "stream",
     "text": [
      "[[9 0 0]\n",
      " [0 4 0]\n",
      " [0 0 2]]\n",
      "0\n"
     ]
    }
   ],
   "source": [
    "a= np.diag([9,4,2])\n",
    "print(a)\n",
    "print(a[2,1])"
   ]
  },
  {
   "cell_type": "code",
   "execution_count": 16,
   "id": "babd8d80-1478-4da8-8138-34756e71879e",
   "metadata": {},
   "outputs": [
    {
     "data": {
      "text/plain": [
       "array([[9, 0, 0],\n",
       "       [0, 4, 0],\n",
       "       [0, 4, 2]])"
      ]
     },
     "execution_count": 16,
     "metadata": {},
     "output_type": "execute_result"
    }
   ],
   "source": [
    "a[2,1]=4\n",
    "a"
   ]
  },
  {
   "cell_type": "markdown",
   "id": "02413e9d-e1cd-4ec9-8f06-47382d568de9",
   "metadata": {},
   "source": [
    "### Slicing"
   ]
  },
  {
   "cell_type": "code",
   "execution_count": 17,
   "id": "f6573e64-f2e3-48be-879a-6963f6d84613",
   "metadata": {},
   "outputs": [
    {
     "data": {
      "text/plain": [
       "array([ 2,  3,  4,  5,  6,  7,  8,  9, 10, 11])"
      ]
     },
     "execution_count": 17,
     "metadata": {},
     "output_type": "execute_result"
    }
   ],
   "source": [
    "a=np.arange(2,12)\n",
    "a"
   ]
  },
  {
   "cell_type": "code",
   "execution_count": 18,
   "id": "b4371806-ddde-4670-b172-fb27e84990b5",
   "metadata": {},
   "outputs": [
    {
     "data": {
      "text/plain": [
       "array([3, 6, 9])"
      ]
     },
     "execution_count": 18,
     "metadata": {},
     "output_type": "execute_result"
    }
   ],
   "source": [
    "a[1:11:3]"
   ]
  },
  {
   "cell_type": "code",
   "execution_count": 20,
   "id": "543ea568-84da-41f2-9c56-bcfab2e69b93",
   "metadata": {},
   "outputs": [
    {
     "data": {
      "text/plain": [
       "array([ 4,  5,  6,  7,  8,  9, 10, 11])"
      ]
     },
     "execution_count": 20,
     "metadata": {},
     "output_type": "execute_result"
    }
   ],
   "source": [
    "a=np.arange(12)\n",
    "a[4:]"
   ]
  },
  {
   "cell_type": "code",
   "execution_count": 21,
   "id": "60782203-781e-4a0e-9883-9a383f827f14",
   "metadata": {},
   "outputs": [
    {
     "data": {
      "text/plain": [
       "array([ 0,  1,  2,  3,  4, 11, 11, 11, 11, 11, 11, 11])"
      ]
     },
     "execution_count": 21,
     "metadata": {},
     "output_type": "execute_result"
    }
   ],
   "source": [
    "a[5:]=11\n",
    "a"
   ]
  },
  {
   "cell_type": "code",
   "execution_count": 22,
   "id": "012e75a4-2c20-4a52-bc9d-b8b4d5205fd8",
   "metadata": {},
   "outputs": [
    {
     "data": {
      "text/plain": [
       "array([0, 1, 2])"
      ]
     },
     "execution_count": 22,
     "metadata": {},
     "output_type": "execute_result"
    }
   ],
   "source": [
    "b=np.arange(3)\n",
    "b"
   ]
  },
  {
   "cell_type": "markdown",
   "id": "d75a118a-d22d-4c6c-bb8b-6217a2bbd235",
   "metadata": {},
   "source": [
    "### Fancy Indexing"
   ]
  },
  {
   "cell_type": "code",
   "execution_count": 28,
   "id": "45bbf618-bc7c-4123-8177-5a57dc268597",
   "metadata": {},
   "outputs": [],
   "source": [
    "a=np.random.randint(0 ,10, 2)"
   ]
  },
  {
   "cell_type": "code",
   "execution_count": 29,
   "id": "9f67f40b-f79a-4bef-a253-df0c4e50c43e",
   "metadata": {},
   "outputs": [
    {
     "data": {
      "text/plain": [
       "array([8, 5])"
      ]
     },
     "execution_count": 29,
     "metadata": {},
     "output_type": "execute_result"
    }
   ],
   "source": [
    "a"
   ]
  },
  {
   "cell_type": "code",
   "execution_count": 30,
   "id": "945305b3-482a-4c6b-94b0-47ff58717612",
   "metadata": {},
   "outputs": [
    {
     "data": {
      "text/plain": [
       "array([8])"
      ]
     },
     "execution_count": 30,
     "metadata": {},
     "output_type": "execute_result"
    }
   ],
   "source": [
    "a[a%2==0]"
   ]
  },
  {
   "cell_type": "code",
   "execution_count": 31,
   "id": "940a1e6a-2dd4-4616-bbb8-6b7f6c7274d2",
   "metadata": {},
   "outputs": [
    {
     "data": {
      "text/plain": [
       "array([-1,  5])"
      ]
     },
     "execution_count": 31,
     "metadata": {},
     "output_type": "execute_result"
    }
   ],
   "source": [
    "a[a%2==0]=-1\n",
    "a"
   ]
  },
  {
   "cell_type": "markdown",
   "id": "3b7650eb-a214-4f8d-b174-6816444cf001",
   "metadata": {},
   "source": [
    "#### Indexing with an array of integers"
   ]
  },
  {
   "cell_type": "code",
   "execution_count": 32,
   "id": "6ec0ed1e-40a1-41ab-b8d2-0e01e7567fdf",
   "metadata": {},
   "outputs": [
    {
     "data": {
      "text/plain": [
       "array([ 0, 10, 20, 30, 40, 50, 60, 70, 80, 90])"
      ]
     },
     "execution_count": 32,
     "metadata": {},
     "output_type": "execute_result"
    }
   ],
   "source": [
    "a=np.arange(0,99,10)\n",
    "a"
   ]
  },
  {
   "cell_type": "code",
   "execution_count": 33,
   "id": "fda9eed5-e324-42c4-b378-5e607da40941",
   "metadata": {},
   "outputs": [
    {
     "data": {
      "text/plain": [
       "array([30, 50, 60])"
      ]
     },
     "execution_count": 33,
     "metadata": {},
     "output_type": "execute_result"
    }
   ],
   "source": [
    "a[[3,5,6]]"
   ]
  },
  {
   "cell_type": "code",
   "execution_count": 36,
   "id": "514c84dd-90f3-4d93-b846-78a24874c990",
   "metadata": {},
   "outputs": [
    {
     "data": {
      "text/plain": [
       "array([   0,   10,   20,   30, -200,   50,   60, -200,   80, -200])"
      ]
     },
     "execution_count": 36,
     "metadata": {},
     "output_type": "execute_result"
    }
   ],
   "source": [
    "a[[9,7]]=-200\n",
    "a"
   ]
  },
  {
   "cell_type": "markdown",
   "id": "74e46302-d606-4f6b-ad7b-326324534da4",
   "metadata": {},
   "source": [
    "## Operations"
   ]
  },
  {
   "cell_type": "markdown",
   "id": "2128eced-5911-4e86-ac38-ac42964e5a32",
   "metadata": {},
   "source": [
    "#### With scalars"
   ]
  },
  {
   "cell_type": "code",
   "execution_count": 38,
   "id": "62f4a430-172d-4c6a-9c2c-e0556f788e41",
   "metadata": {},
   "outputs": [
    {
     "name": "stdout",
     "output_type": "stream",
     "text": [
      "[1 2 3 4 5]\n",
      "[2 3 4 5 6]\n"
     ]
    }
   ],
   "source": [
    "a=np.array([1,2,3,4,5])\n",
    "print(a)\n",
    "print(a+1)"
   ]
  },
  {
   "cell_type": "code",
   "execution_count": 40,
   "id": "59971969-2223-4fab-8087-1f7102116ef3",
   "metadata": {},
   "outputs": [
    {
     "data": {
      "text/plain": [
       "array([ 1,  4,  9, 16, 25])"
      ]
     },
     "execution_count": 40,
     "metadata": {},
     "output_type": "execute_result"
    }
   ],
   "source": [
    "a ** 2"
   ]
  },
  {
   "cell_type": "markdown",
   "id": "d20b4a7a-56e7-4aa5-ac58-e0b6b960a1b4",
   "metadata": {},
   "source": [
    "#### All arithmetic operates elementwise"
   ]
  },
  {
   "cell_type": "code",
   "execution_count": 45,
   "id": "93b67405-97a9-45e8-b914-7e4cc5f5fe48",
   "metadata": {},
   "outputs": [
    {
     "data": {
      "text/plain": [
       "array([2., 2., 2., 2.])"
      ]
     },
     "execution_count": 45,
     "metadata": {},
     "output_type": "execute_result"
    }
   ],
   "source": [
    "b= np.ones(4)+1\n",
    "b"
   ]
  },
  {
   "cell_type": "code",
   "execution_count": 51,
   "id": "9bb3abc2-6df9-431c-9f05-9c19d927d7dd",
   "metadata": {},
   "outputs": [
    {
     "name": "stdout",
     "output_type": "stream",
     "text": [
      "sum of a and b : \n",
      " [[ 4  6  8]\n",
      " [ 6  9 13]\n",
      " [13 11 10]]\n"
     ]
    }
   ],
   "source": [
    "a=np.array([[1,2,3],[4,5,6],[4,5,7]])\n",
    "b=np.array([[3,4,5],[2,4,7],[9,6,3]])\n",
    "print('sum of a and b : \\n',a+b)"
   ]
  },
  {
   "cell_type": "code",
   "execution_count": 52,
   "id": "a2d8d87a-8c5c-45db-955b-c39e14db6d58",
   "metadata": {},
   "outputs": [
    {
     "name": "stdout",
     "output_type": "stream",
     "text": [
      "product of a and b :\n",
      " [[ 3  8 15]\n",
      " [ 8 20 42]\n",
      " [36 30 21]]\n"
     ]
    }
   ],
   "source": [
    "print('product of a and b :\\n',a*b)"
   ]
  },
  {
   "cell_type": "code",
   "execution_count": 53,
   "id": "005814a7-ec5c-44cd-a466-ab07b4c61953",
   "metadata": {},
   "outputs": [
    {
     "name": "stdout",
     "output_type": "stream",
     "text": [
      "[[ 1  0  0  0]\n",
      " [ 0  4  0  0]\n",
      " [ 0  0  9  0]\n",
      " [ 0  0  0 16]]\n"
     ]
    }
   ],
   "source": [
    "c=np.diag([1,2,3,4])\n",
    "print(c * c)"
   ]
  },
  {
   "cell_type": "code",
   "execution_count": 56,
   "id": "a6312279-e34a-458a-a452-b032fff4468b",
   "metadata": {},
   "outputs": [
    {
     "name": "stdout",
     "output_type": "stream",
     "text": [
      "Matrix multiplication:\n",
      " [[ 22  30  39]\n",
      " [ 44  58  75]\n",
      " [ 77 100 129]]\n"
     ]
    }
   ],
   "source": [
    "a=np.array([[1,2,3],[3,4,5],[6,7,8]])\n",
    "b=np.array([[3,3,4],[5,6,7],[3,5,7]])\n",
    "print('Matrix multiplication:\\n',np.matmul(a,b))"
   ]
  },
  {
   "cell_type": "markdown",
   "id": "f69abe63-08e2-4166-89b2-4770a1e0e68b",
   "metadata": {},
   "source": [
    "#### Comparisions"
   ]
  },
  {
   "cell_type": "code",
   "execution_count": 57,
   "id": "28e2050a-c7a3-4dae-8bf6-9fa72dc6bf9d",
   "metadata": {},
   "outputs": [
    {
     "data": {
      "text/plain": [
       "array([False, False, False, False])"
      ]
     },
     "execution_count": 57,
     "metadata": {},
     "output_type": "execute_result"
    }
   ],
   "source": [
    "a=np.array([1,2,3,4])\n",
    "b=np.array([5,6,8,3])\n",
    "a==b"
   ]
  },
  {
   "cell_type": "code",
   "execution_count": 58,
   "id": "fe924055-c769-4a51-b2e9-8784c495bf95",
   "metadata": {},
   "outputs": [
    {
     "data": {
      "text/plain": [
       "array([False, False, False,  True])"
      ]
     },
     "execution_count": 58,
     "metadata": {},
     "output_type": "execute_result"
    }
   ],
   "source": [
    "a>b"
   ]
  },
  {
   "cell_type": "code",
   "execution_count": 59,
   "id": "ae17a502-15ed-40bf-acbe-8c8f7f1bcf6e",
   "metadata": {},
   "outputs": [],
   "source": [
    "a=np.array([3,4,6])\n",
    "b=np.array([7,8,9])\n",
    "c=np.array([5,7,4])"
   ]
  },
  {
   "cell_type": "code",
   "execution_count": 60,
   "id": "c18f70f4-3b20-4403-9fad-376e56250383",
   "metadata": {},
   "outputs": [
    {
     "data": {
      "text/plain": [
       "False"
      ]
     },
     "execution_count": 60,
     "metadata": {},
     "output_type": "execute_result"
    }
   ],
   "source": [
    "np.array_equal(a,b)"
   ]
  },
  {
   "cell_type": "code",
   "execution_count": 61,
   "id": "d8f27402-ff5f-4df1-a860-443f03f6b76e",
   "metadata": {},
   "outputs": [
    {
     "data": {
      "text/plain": [
       "False"
      ]
     },
     "execution_count": 61,
     "metadata": {},
     "output_type": "execute_result"
    }
   ],
   "source": [
    "np.array_equal(a,c)"
   ]
  },
  {
   "cell_type": "markdown",
   "id": "2721fad7-cb47-41fe-bf6a-f4a27645752b",
   "metadata": {},
   "source": [
    "#### Logical Operations"
   ]
  },
  {
   "cell_type": "code",
   "execution_count": 65,
   "id": "60776ac9-b7e0-48f9-9c1a-fee95ecc71a9",
   "metadata": {},
   "outputs": [
    {
     "data": {
      "text/plain": [
       "array([ True,  True,  True,  True])"
      ]
     },
     "execution_count": 65,
     "metadata": {},
     "output_type": "execute_result"
    }
   ],
   "source": [
    "a=np.array([0,1,2,3],dtype=bool)\n",
    "b=np.array([8,6,2,3],dtype=bool)\n",
    "np.logical_or(a,b)"
   ]
  },
  {
   "cell_type": "code",
   "execution_count": 66,
   "id": "ddad62ff-6dcf-416f-b3da-1f3ae4d266c1",
   "metadata": {},
   "outputs": [
    {
     "data": {
      "text/plain": [
       "array([False,  True,  True,  True])"
      ]
     },
     "execution_count": 66,
     "metadata": {},
     "output_type": "execute_result"
    }
   ],
   "source": [
    "np.logical_and(a, b)"
   ]
  },
  {
   "cell_type": "markdown",
   "id": "084eec80-c767-4270-98cb-57b518f5a0e5",
   "metadata": {},
   "source": [
    "#### Transcendental functions"
   ]
  },
  {
   "cell_type": "code",
   "execution_count": 67,
   "id": "3a87cf62-6302-415a-8a86-b15bb179321e",
   "metadata": {},
   "outputs": [
    {
     "data": {
      "text/plain": [
       "array([0.        , 0.84147098, 0.90929743])"
      ]
     },
     "execution_count": 67,
     "metadata": {},
     "output_type": "execute_result"
    }
   ],
   "source": [
    "a= np.arange(3)\n",
    "np.sin(a)"
   ]
  },
  {
   "cell_type": "code",
   "execution_count": 68,
   "id": "43d0f3c1-a5ce-466c-bac8-0d08eb1d0a00",
   "metadata": {},
   "outputs": [
    {
     "name": "stderr",
     "output_type": "stream",
     "text": [
      "C:\\Users\\Bablu\\AppData\\Local\\Temp\\ipykernel_5440\\176755284.py:1: RuntimeWarning: divide by zero encountered in log\n",
      "  np.log(a)\n"
     ]
    },
    {
     "data": {
      "text/plain": [
       "array([      -inf, 0.        , 0.69314718])"
      ]
     },
     "execution_count": 68,
     "metadata": {},
     "output_type": "execute_result"
    }
   ],
   "source": [
    "np.log(a)"
   ]
  },
  {
   "cell_type": "code",
   "execution_count": 69,
   "id": "e7fd6adb-586d-4241-8bc3-46c135b2cfb4",
   "metadata": {},
   "outputs": [
    {
     "data": {
      "text/plain": [
       "array([1.        , 2.71828183, 7.3890561 ])"
      ]
     },
     "execution_count": 69,
     "metadata": {},
     "output_type": "execute_result"
    }
   ],
   "source": [
    "np.exp(a)"
   ]
  },
  {
   "cell_type": "markdown",
   "id": "bee8ba6c-f6fd-4bda-b40c-40ca9d92ac8e",
   "metadata": {},
   "source": [
    "#### Shape Mismatch"
   ]
  },
  {
   "cell_type": "code",
   "execution_count": 70,
   "id": "09d71993-722f-47c0-a523-da308e3333ed",
   "metadata": {},
   "outputs": [
    {
     "ename": "ValueError",
     "evalue": "operands could not be broadcast together with shapes (3,) (2,) ",
     "output_type": "error",
     "traceback": [
      "\u001b[1;31m---------------------------------------------------------------------------\u001b[0m",
      "\u001b[1;31mValueError\u001b[0m                                Traceback (most recent call last)",
      "Cell \u001b[1;32mIn[70], line 2\u001b[0m\n\u001b[0;32m      1\u001b[0m a\u001b[38;5;241m=\u001b[39mnp\u001b[38;5;241m.\u001b[39marange(\u001b[38;5;241m3\u001b[39m)\n\u001b[1;32m----> 2\u001b[0m a\u001b[38;5;241m+\u001b[39mnp\u001b[38;5;241m.\u001b[39marray([\u001b[38;5;241m1\u001b[39m,\u001b[38;5;241m2\u001b[39m])\n",
      "\u001b[1;31mValueError\u001b[0m: operands could not be broadcast together with shapes (3,) (2,) "
     ]
    }
   ],
   "source": [
    "a=np.arange(3)\n",
    "a+np.array([1,2])"
   ]
  },
  {
   "cell_type": "markdown",
   "id": "00763417-97c3-4491-be73-272f5c66f1de",
   "metadata": {},
   "source": [
    "## Basic Reductions"
   ]
  },
  {
   "cell_type": "markdown",
   "id": "56a3c616-43cf-4608-9d1a-8e8faca7d2fb",
   "metadata": {},
   "source": [
    "#### computing sums"
   ]
  },
  {
   "cell_type": "code",
   "execution_count": 71,
   "id": "fab27158-eba6-4843-b322-5ae28fb71955",
   "metadata": {},
   "outputs": [
    {
     "data": {
      "text/plain": [
       "16"
      ]
     },
     "execution_count": 71,
     "metadata": {},
     "output_type": "execute_result"
    }
   ],
   "source": [
    "x=np.array([2,3,5,6])\n",
    "np.sum(x)"
   ]
  },
  {
   "cell_type": "code",
   "execution_count": 73,
   "id": "6f9fc8bb-50c1-447a-8931-2e683ed794ce",
   "metadata": {},
   "outputs": [
    {
     "data": {
      "text/plain": [
       "array([[2, 2],\n",
       "       [3, 3]])"
      ]
     },
     "execution_count": 73,
     "metadata": {},
     "output_type": "execute_result"
    }
   ],
   "source": [
    "x=np.array([[2,2],[3,3]])\n",
    "x"
   ]
  },
  {
   "cell_type": "code",
   "execution_count": 74,
   "id": "8663bad6-0a71-44ba-bd09-8c2363e23003",
   "metadata": {},
   "outputs": [
    {
     "data": {
      "text/plain": [
       "array([5, 5])"
      ]
     },
     "execution_count": 74,
     "metadata": {},
     "output_type": "execute_result"
    }
   ],
   "source": [
    "x.sum(axis=0)"
   ]
  },
  {
   "cell_type": "code",
   "execution_count": 77,
   "id": "f0cab852-d2c3-46da-9c8c-894aa69eb9ae",
   "metadata": {},
   "outputs": [
    {
     "data": {
      "text/plain": [
       "array([4, 6])"
      ]
     },
     "execution_count": 77,
     "metadata": {},
     "output_type": "execute_result"
    }
   ],
   "source": [
    "x.sum(axis=1)"
   ]
  },
  {
   "cell_type": "markdown",
   "id": "317b6d22-cc70-4b60-915b-442d86612fb9",
   "metadata": {},
   "source": [
    "#### Other reductions"
   ]
  },
  {
   "cell_type": "code",
   "execution_count": 78,
   "id": "795370e2-b40b-4705-8f4c-64dda3d04c0a",
   "metadata": {},
   "outputs": [
    {
     "data": {
      "text/plain": [
       "1"
      ]
     },
     "execution_count": 78,
     "metadata": {},
     "output_type": "execute_result"
    }
   ],
   "source": [
    "x=np.array([1,3,5])\n",
    "x.min()"
   ]
  },
  {
   "cell_type": "code",
   "execution_count": 80,
   "id": "d792049a-d364-4139-a1ff-d7e9104759f9",
   "metadata": {},
   "outputs": [
    {
     "data": {
      "text/plain": [
       "5"
      ]
     },
     "execution_count": 80,
     "metadata": {},
     "output_type": "execute_result"
    }
   ],
   "source": [
    "x.max()"
   ]
  },
  {
   "cell_type": "code",
   "execution_count": 81,
   "id": "e2578482-120f-4bea-a25e-3ff0468486d4",
   "metadata": {},
   "outputs": [
    {
     "data": {
      "text/plain": [
       "0"
      ]
     },
     "execution_count": 81,
     "metadata": {},
     "output_type": "execute_result"
    }
   ],
   "source": [
    "x.argmin()"
   ]
  },
  {
   "cell_type": "code",
   "execution_count": 83,
   "id": "55cbee6d-4b52-4162-8f47-ea4e18bd4fcf",
   "metadata": {},
   "outputs": [
    {
     "data": {
      "text/plain": [
       "2"
      ]
     },
     "execution_count": 83,
     "metadata": {},
     "output_type": "execute_result"
    }
   ],
   "source": [
    "x.argmax()"
   ]
  },
  {
   "cell_type": "markdown",
   "id": "668f2058-7ef9-4f40-8cc8-43380c8b4d8b",
   "metadata": {},
   "source": [
    "#### Statistics"
   ]
  },
  {
   "cell_type": "code",
   "execution_count": 88,
   "id": "174eede9-5f0d-490a-839b-d264489ddc81",
   "metadata": {},
   "outputs": [
    {
     "name": "stdout",
     "output_type": "stream",
     "text": [
      "Array is [ 0  2  4  6  8 10]\n",
      "min element is 0\n",
      "max element is 10\n",
      "sum of elements in array is 30\n",
      "mean of element in array is 5.0\n",
      "median of elements in array is 5.0\n",
      "standard deviation of elements in array is 3.415650255319866\n"
     ]
    }
   ],
   "source": [
    "normal_array=np.arange(0,12,2)\n",
    "print('Array is',format(normal_array))\n",
    "\n",
    "### min\n",
    "print('min element is',np.min(normal_array))\n",
    "\n",
    "### max\n",
    "print('max element is',np.max(normal_array))\n",
    "\n",
    "### sum\n",
    "print('sum of elements in array is',np.sum(normal_array))\n",
    "\n",
    "### mean\n",
    "print('mean of element in array is',np.mean(normal_array))\n",
    "\n",
    "### median\n",
    "print('median of elements in array is',np.median(normal_array))\n",
    "\n",
    "### sd\n",
    "print('standard deviation of elements in array is',np.std(normal_array))"
   ]
  },
  {
   "cell_type": "code",
   "execution_count": null,
   "id": "e6a95525-38de-4167-aeca-5526eb641522",
   "metadata": {},
   "outputs": [],
   "source": []
  }
 ],
 "metadata": {
  "kernelspec": {
   "display_name": "Python 3 (ipykernel)",
   "language": "python",
   "name": "python3"
  },
  "language_info": {
   "codemirror_mode": {
    "name": "ipython",
    "version": 3
   },
   "file_extension": ".py",
   "mimetype": "text/x-python",
   "name": "python",
   "nbconvert_exporter": "python",
   "pygments_lexer": "ipython3",
   "version": "3.11.7"
  }
 },
 "nbformat": 4,
 "nbformat_minor": 5
}
