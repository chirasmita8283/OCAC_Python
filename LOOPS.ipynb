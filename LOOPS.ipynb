{
 "cells": [
  {
   "cell_type": "markdown",
   "id": "74fd936d-831e-473e-9727-7c42be0ed559",
   "metadata": {},
   "source": [
    "# Loops"
   ]
  },
  {
   "cell_type": "markdown",
   "id": "97a9305c-bb2e-4581-90ac-bb747d625cb4",
   "metadata": {},
   "source": [
    "## For loops"
   ]
  },
  {
   "cell_type": "code",
   "execution_count": 1,
   "id": "c605dcc9-0541-4834-b428-930342f66872",
   "metadata": {},
   "outputs": [
    {
     "name": "stdout",
     "output_type": "stream",
     "text": [
      "1\n",
      "2\n",
      "3\n",
      "4\n",
      "5\n",
      "6\n"
     ]
    }
   ],
   "source": [
    "seq=[1,2,3,4,5,6]\n",
    "for i in seq:\n",
    "    print(i)\n"
   ]
  },
  {
   "cell_type": "code",
   "execution_count": 2,
   "id": "8faa93be-56d3-484f-a739-bb4516e01085",
   "metadata": {},
   "outputs": [
    {
     "name": "stdout",
     "output_type": "stream",
     "text": [
      "2\n",
      "6\n",
      "7\n",
      "9\n",
      "4\n",
      "3\n"
     ]
    }
   ],
   "source": [
    "q=[2,6,7,9,4,3]\n",
    "for i in q:\n",
    "    print(i)"
   ]
  },
  {
   "cell_type": "code",
   "execution_count": 3,
   "id": "c57bb9dc-e5bc-4da1-bf05-d0333ff4f12f",
   "metadata": {},
   "outputs": [
    {
     "name": "stdout",
     "output_type": "stream",
     "text": [
      "apple\n",
      "banana\n",
      "orange\n",
      "mango\n"
     ]
    }
   ],
   "source": [
    "fruits=['apple','banana','orange','mango']\n",
    "for item in fruits:\n",
    "    print(item)"
   ]
  },
  {
   "cell_type": "code",
   "execution_count": 6,
   "id": "09732938-d3a2-4ddc-86a5-cd5f8fa916b2",
   "metadata": {},
   "outputs": [
    {
     "name": "stdout",
     "output_type": "stream",
     "text": [
      "1234567"
     ]
    }
   ],
   "source": [
    "lst=[1,2,3,4,5,6,7]\n",
    "for i in lst:\n",
    "    print(i,end='')"
   ]
  },
  {
   "cell_type": "code",
   "execution_count": 7,
   "id": "7d3702f9-a53b-41c0-8eda-2ed46db015b5",
   "metadata": {},
   "outputs": [
    {
     "name": "stdout",
     "output_type": "stream",
     "text": [
      "2 3 5 6 7 "
     ]
    }
   ],
   "source": [
    "lst=[2,3,5,6,7]\n",
    "for x in lst:\n",
    "    print(x,end=' ')"
   ]
  },
  {
   "cell_type": "code",
   "execution_count": 8,
   "id": "2208e3f3-4afd-4b51-b186-5de66aa605a9",
   "metadata": {},
   "outputs": [
    {
     "name": "stdout",
     "output_type": "stream",
     "text": [
      "0 hello\n",
      "1 hello\n",
      "2 hello\n",
      "3 hello\n",
      "4 hello\n",
      "5 hello\n",
      "6 hello\n",
      "7 hello\n",
      "8 hello\n"
     ]
    }
   ],
   "source": [
    "for x in range(9):\n",
    "    print(x,'hello')"
   ]
  },
  {
   "cell_type": "code",
   "execution_count": 10,
   "id": "66c008aa-227a-41fd-bbe0-63fb3ea42c06",
   "metadata": {},
   "outputs": [
    {
     "name": "stdout",
     "output_type": "stream",
     "text": [
      "1 2 3 4 5 6 7 8 9 10 11 12 "
     ]
    }
   ],
   "source": [
    "for i in range(1,13):\n",
    "    print(i,end=' ')"
   ]
  },
  {
   "cell_type": "code",
   "execution_count": 11,
   "id": "61cf1b82-4210-434c-b336-b8128ba0693c",
   "metadata": {},
   "outputs": [
    {
     "name": "stdout",
     "output_type": "stream",
     "text": [
      "11\n",
      "12\n",
      "13\n",
      "14\n",
      "15\n",
      "16\n",
      "17\n",
      "18\n",
      "19\n",
      "20\n",
      "21\n",
      "22\n",
      "23\n",
      "24\n",
      "25\n",
      "26\n",
      "27\n",
      "28\n",
      "29\n",
      "30\n",
      "31\n"
     ]
    }
   ],
   "source": [
    "for i in range(11,32):\n",
    "    print(i)"
   ]
  },
  {
   "cell_type": "code",
   "execution_count": 13,
   "id": "2f881906-5982-4739-8dc2-95513150b110",
   "metadata": {},
   "outputs": [
    {
     "name": "stdout",
     "output_type": "stream",
     "text": [
      "100 98 96 94 92 90 88 86 84 82 80 78 76 74 72 70 68 66 64 62 60 58 56 54 52 50 48 46 44 42 40 38 36 34 32 30 28 26 24 22 20 18 16 14 12 10 8 6 4 2 "
     ]
    }
   ],
   "source": [
    "for i in range(100,1,-2):\n",
    "    print(i,end=' ')"
   ]
  },
  {
   "cell_type": "code",
   "execution_count": 14,
   "id": "d9364766-676f-48c7-bf59-6a164d20c535",
   "metadata": {},
   "outputs": [
    {
     "name": "stdout",
     "output_type": "stream",
     "text": [
      "12\n",
      "15\n",
      "18\n",
      "21\n",
      "24\n",
      "27\n",
      "30\n",
      "33\n",
      "36\n",
      "39\n",
      "42\n"
     ]
    }
   ],
   "source": [
    "for i in range(12,45,3):\n",
    "    print(i)"
   ]
  },
  {
   "cell_type": "code",
   "execution_count": 16,
   "id": "274f7dd4-850b-460d-8de9-6bd5c939ad3a",
   "metadata": {},
   "outputs": [
    {
     "name": "stdout",
     "output_type": "stream",
     "text": [
      "item at index 0  is:  item1\n",
      "item at index 1  is:  item2\n",
      "item at index 2  is:  item3\n",
      "item at index 3  is:  item4\n"
     ]
    }
   ],
   "source": [
    "items=['item1','item2','item3','item4']\n",
    "for i in range(len(items)):\n",
    "    print(\"item at index\",i,\" is: \",items[i] )"
   ]
  },
  {
   "cell_type": "code",
   "execution_count": 25,
   "id": "346bab66-cd73-4c7c-b7f1-84ae4f9ee3cd",
   "metadata": {},
   "outputs": [
    {
     "name": "stdout",
     "output_type": "stream",
     "text": [
      "sum: 15\n"
     ]
    }
   ],
   "source": [
    "a=[1,2,3,4,5]\n",
    "sum1=0\n",
    "for i in a:\n",
    "    sum1=sum1+i\n",
    "\n",
    "print(\"sum:\",sum1)"
   ]
  },
  {
   "cell_type": "code",
   "execution_count": 26,
   "id": "a7f1f245-a85d-4205-8496-0ed3808ec4b1",
   "metadata": {},
   "outputs": [
    {
     "name": "stdout",
     "output_type": "stream",
     "text": [
      "after 1 iteration the sum: 1\n",
      "after 2 iteration the sum: 3\n",
      "after 3 iteration the sum: 6\n",
      "after 4 iteration the sum: 10\n",
      "after 5 iteration the sum: 15\n"
     ]
    }
   ],
   "source": [
    "x=[1,2,3,4,5]\n",
    "sum1=0\n",
    "for i in x:\n",
    "    sum1=sum1+i\n",
    "    print(\"after\",i,\"iteration the sum:\",sum1)"
   ]
  },
  {
   "cell_type": "code",
   "execution_count": 27,
   "id": "6ad786de-07e8-4326-820b-0440e573280a",
   "metadata": {},
   "outputs": [
    {
     "name": "stdout",
     "output_type": "stream",
     "text": [
      "i like jazz\n"
     ]
    }
   ],
   "source": [
    "y=['pop','rock','jazz','sapna']\n",
    "for i in range(1):\n",
    "    print(\"i like\",y[2])"
   ]
  },
  {
   "cell_type": "code",
   "execution_count": 29,
   "id": "dc2751e0-83f2-4cf6-bca5-0d1d08a20e78",
   "metadata": {},
   "outputs": [
    {
     "name": "stdin",
     "output_type": "stream",
     "text": [
      "enter lower bound values: 8\n",
      "enter upper bound values: 22\n"
     ]
    },
    {
     "name": "stdout",
     "output_type": "stream",
     "text": [
      "8,10,12,14,16,18,20,22,"
     ]
    }
   ],
   "source": [
    "lb=int(input('enter lower bound values:'))\n",
    "ub=int(input('enter upper bound values:'))\n",
    "for i in range(lb,ub+1):\n",
    "    if i%2==0:\n",
    "        print(i,end=',')"
   ]
  },
  {
   "cell_type": "code",
   "execution_count": 31,
   "id": "d38c4607-81ea-45e0-8f43-08b114e9f95d",
   "metadata": {},
   "outputs": [
    {
     "name": "stdin",
     "output_type": "stream",
     "text": [
      "enter the number: 6\n"
     ]
    },
    {
     "name": "stdout",
     "output_type": "stream",
     "text": [
      "* * * * * * "
     ]
    }
   ],
   "source": [
    "n=int(input(\"enter the number:\"))\n",
    "for i in range(n):\n",
    "    print(\"*\",end=\" \")"
   ]
  },
  {
   "cell_type": "code",
   "execution_count": 39,
   "id": "0b012874-fa97-423b-94f1-c33bfc9f09c5",
   "metadata": {},
   "outputs": [
    {
     "name": "stdin",
     "output_type": "stream",
     "text": [
      " 2\n",
      " 10\n"
     ]
    },
    {
     "name": "stdout",
     "output_type": "stream",
     "text": [
      "2 4 6 8 10 \n",
      "sum is 30\n"
     ]
    }
   ],
   "source": [
    "lb=int(input())\n",
    "ub=int(input())\n",
    "s=0\n",
    "for i in range(lb,ub+1):\n",
    "    if(i%2==0):\n",
    "        s=s+i\n",
    "        print(i,end=' ')\n",
    "\n",
    "print('\\nsum is',s)"
   ]
  },
  {
   "cell_type": "code",
   "execution_count": 41,
   "id": "f3b45448-2a3a-4785-bc62-d56c164d39ca",
   "metadata": {},
   "outputs": [
    {
     "name": "stdout",
     "output_type": "stream",
     "text": [
      "5\n",
      "10\n",
      "15\n",
      "20\n",
      "25\n",
      "30\n",
      "40\n",
      "45\n",
      "50\n",
      "55\n",
      "60\n",
      "65\n",
      "75\n",
      "80\n",
      "85\n",
      "90\n",
      "95\n"
     ]
    }
   ],
   "source": [
    "for num in range(1,100):\n",
    "    if num%5==0 and num%7!=0:\n",
    "        print(num)"
   ]
  },
  {
   "cell_type": "code",
   "execution_count": 43,
   "id": "7920e54c-9f30-46f4-9b77-4c5dddc1c189",
   "metadata": {},
   "outputs": [
    {
     "name": "stdin",
     "output_type": "stream",
     "text": [
      "enter multiplication table: 7\n"
     ]
    },
    {
     "name": "stdout",
     "output_type": "stream",
     "text": [
      "7 * 1 = 7\n",
      "7 * 2 = 14\n",
      "7 * 3 = 21\n",
      "7 * 4 = 28\n",
      "7 * 5 = 35\n",
      "7 * 6 = 42\n",
      "7 * 7 = 49\n",
      "7 * 8 = 56\n",
      "7 * 9 = 63\n"
     ]
    }
   ],
   "source": [
    "a=int(input('enter multiplication table:'))\n",
    "for i in range(1,10):\n",
    "    print(a,'*',i, '=',a*i)"
   ]
  },
  {
   "cell_type": "code",
   "execution_count": 45,
   "id": "89f2ad09-196e-487c-9be4-79dfbb80a4c1",
   "metadata": {},
   "outputs": [
    {
     "name": "stdin",
     "output_type": "stream",
     "text": [
      "input the number: 5\n"
     ]
    },
    {
     "name": "stdout",
     "output_type": "stream",
     "text": [
      "* * * * * * * * * * * * * * * * * * * * * * * * * * * * * * "
     ]
    }
   ],
   "source": [
    "m=int(input(\"input the number:\"))\n",
    "for i in range(m):\n",
    "    for j in range(m+1):\n",
    "        print('*',end=' ')"
   ]
  },
  {
   "cell_type": "code",
   "execution_count": 2,
   "id": "a410e8ba-4bdb-409e-9e81-fc5f63ad2955",
   "metadata": {},
   "outputs": [
    {
     "name": "stdout",
     "output_type": "stream",
     "text": [
      "* * * * * \n",
      "* * * * \n",
      "* * * \n",
      "* * \n",
      "* \n"
     ]
    }
   ],
   "source": [
    "for i in range(5):\n",
    "    for j in range(5-i):\n",
    "        print(\"*\",end=' ')\n",
    "    print()"
   ]
  },
  {
   "cell_type": "code",
   "execution_count": 22,
   "id": "1aed3b37-1e50-463b-880a-5c59c57ebc68",
   "metadata": {},
   "outputs": [
    {
     "name": "stdin",
     "output_type": "stream",
     "text": [
      "Enter the multiplication table you want:  6\n"
     ]
    },
    {
     "name": "stdout",
     "output_type": "stream",
     "text": [
      "\n",
      "\n",
      "| 6 || 12 || 18 || 24 || 30 || 36 || 42 || 48 || 54 || 60 |\n",
      "\n",
      "| 1 | | 2 | | 3 | | 4 | | 5 | | 6 | | 7 | | 8 | | 9 | | 10 | \n",
      "\n",
      "| 6 | | 6 | | 6 | | 6 | | 6 | | 6 | | 6 | | 6 | | 6 | | 6 | "
     ]
    }
   ],
   "source": [
    "x=int(input(\"Enter the multiplication table you want: \"))\n",
    "print('\\n')\n",
    "for i in range(1,11):\n",
    "    print(\"|\",x*i,\"|\",end=\"\")\n",
    "print('\\n')\n",
    "for i in range(1,11):\n",
    "    print(\"|\",i,\"|\",end=\" \")\n",
    "print('\\n')    \n",
    "for i in range(1,11):\n",
    "    print(\"|\",x,\"|\",end=\" \")"
   ]
  },
  {
   "cell_type": "code",
   "execution_count": 6,
   "id": "7a01e8b9-147d-402b-abfe-5063669dfcae",
   "metadata": {},
   "outputs": [
    {
     "name": "stdout",
     "output_type": "stream",
     "text": [
      "2  x  1  =  2  3  x  1  =  3  4  x  1  =  4  5  x  1  =  5  6  x  1  =  6  \n",
      "2  x  2  =  4  3  x  2  =  6  4  x  2  =  8  5  x  2  =  10  6  x  2  =  12  \n",
      "2  x  3  =  6  3  x  3  =  9  4  x  3  =  12  5  x  3  =  15  6  x  3  =  18  \n",
      "2  x  4  =  8  3  x  4  =  12  4  x  4  =  16  5  x  4  =  20  6  x  4  =  24  \n",
      "2  x  5  =  10  3  x  5  =  15  4  x  5  =  20  5  x  5  =  25  6  x  5  =  30  \n",
      "2  x  6  =  12  3  x  6  =  18  4  x  6  =  24  5  x  6  =  30  6  x  6  =  36  \n",
      "2  x  7  =  14  3  x  7  =  21  4  x  7  =  28  5  x  7  =  35  6  x  7  =  42  \n",
      "2  x  8  =  16  3  x  8  =  24  4  x  8  =  32  5  x  8  =  40  6  x  8  =  48  \n",
      "2  x  9  =  18  3  x  9  =  27  4  x  9  =  36  5  x  9  =  45  6  x  9  =  54  \n",
      "2  x  10  =  20  3  x  10  =  30  4  x  10  =  40  5  x  10  =  50  6  x  10  =  60  \n",
      "\n",
      "7  x  1  =  7  8  x  1  =  8  9  x  1  =  9  10  x  1  =  10  11  x  1  =  11  \n",
      "7  x  2  =  14  8  x  2  =  16  9  x  2  =  18  10  x  2  =  20  11  x  2  =  22  \n",
      "7  x  3  =  21  8  x  3  =  24  9  x  3  =  27  10  x  3  =  30  11  x  3  =  33  \n",
      "7  x  4  =  28  8  x  4  =  32  9  x  4  =  36  10  x  4  =  40  11  x  4  =  44  \n",
      "7  x  5  =  35  8  x  5  =  40  9  x  5  =  45  10  x  5  =  50  11  x  5  =  55  \n",
      "7  x  6  =  42  8  x  6  =  48  9  x  6  =  54  10  x  6  =  60  11  x  6  =  66  \n",
      "7  x  7  =  49  8  x  7  =  56  9  x  7  =  63  10  x  7  =  70  11  x  7  =  77  \n",
      "7  x  8  =  56  8  x  8  =  64  9  x  8  =  72  10  x  8  =  80  11  x  8  =  88  \n",
      "7  x  9  =  63  8  x  9  =  72  9  x  9  =  81  10  x  9  =  90  11  x  9  =  99  \n",
      "7  x  10  =  70  8  x  10  =  80  9  x  10  =  90  10  x  10  =  100  11  x  10  =  110  \n",
      "\n",
      "\n"
     ]
    }
   ],
   "source": [
    "start = 2\n",
    "end = 10\n",
    "for i in range(start, end+1, 5):\n",
    "\tfor j in range(1, 11):\n",
    "\t\tfor k in range(i, i+5):\n",
    "\t\t\tprint(k,\" x \",j,\" = \",(k*j), end=\"  \")\n",
    "\t\tprint()\n",
    "\tprint()\n",
    "print()"
   ]
  },
  {
   "cell_type": "markdown",
   "id": "2f029ca4-256f-472f-a579-5ceb5473c444",
   "metadata": {},
   "source": [
    "## List comprehension"
   ]
  },
  {
   "cell_type": "code",
   "execution_count": 7,
   "id": "67bcb107-a3ca-47d1-82d7-39c6f7d85745",
   "metadata": {},
   "outputs": [
    {
     "name": "stdout",
     "output_type": "stream",
     "text": [
      "[0, 1, 4, 9, 16, 25, 36, 49]\n"
     ]
    }
   ],
   "source": [
    "squares=[]\n",
    "for i in range(8):\n",
    "    squares.append(i**2)\n",
    "\n",
    "print(squares)"
   ]
  },
  {
   "cell_type": "code",
   "execution_count": 8,
   "id": "cffdc6d2-4fa5-42da-9f6c-00071b0e65e1",
   "metadata": {},
   "outputs": [
    {
     "name": "stdout",
     "output_type": "stream",
     "text": [
      "[0, 1, 4, 9, 16, 25, 36, 49]\n"
     ]
    }
   ],
   "source": [
    "squares=[i**2 for i in range(8)]\n",
    "print(squares)"
   ]
  },
  {
   "cell_type": "code",
   "execution_count": 12,
   "id": "7da107e4-fae5-4ff9-a78a-5910e4c2b636",
   "metadata": {},
   "outputs": [
    {
     "data": {
      "text/plain": [
       "[7, 4, 6, 8]"
      ]
     },
     "execution_count": 12,
     "metadata": {},
     "output_type": "execute_result"
    }
   ],
   "source": [
    "movies=['Titanic','2012','Avatar','Shaiatan']\n",
    "[len(i) for i in movies]"
   ]
  },
  {
   "cell_type": "code",
   "execution_count": 25,
   "id": "ea62223b-29d5-4b0f-ae5c-b8e792c8d619",
   "metadata": {},
   "outputs": [
    {
     "data": {
      "text/plain": [
       "[2, 3, 5, 6, 1, 8]"
      ]
     },
     "execution_count": 25,
     "metadata": {},
     "output_type": "execute_result"
    }
   ],
   "source": [
    "lst=[-2,-3,-5,-6,-1,8]\n",
    "absv=[abs(x) for x in lst]\n",
    "absv"
   ]
  },
  {
   "cell_type": "code",
   "execution_count": 26,
   "id": "68d892da-7ae5-48ae-8f20-7b8dc87a2f9c",
   "metadata": {},
   "outputs": [
    {
     "data": {
      "text/plain": [
       "[2, 3, 5, 6, 1, 64]"
      ]
     },
     "execution_count": 26,
     "metadata": {},
     "output_type": "execute_result"
    }
   ],
   "source": [
    "lst=[-2,-3,-5,-6,-1,8]\n",
    "both = []\n",
    "for x in lst:\n",
    "    if x<0:\n",
    "        both.append(abs(x))\n",
    "    else:\n",
    "        both.append(x**2)\n",
    "both"
   ]
  },
  {
   "cell_type": "code",
   "execution_count": 27,
   "id": "a5343cd9-aabc-4cc5-943f-bd63f8a41ef3",
   "metadata": {},
   "outputs": [
    {
     "data": {
      "text/plain": [
       "[2, 3, 5, 6, 1, 64]"
      ]
     },
     "execution_count": 27,
     "metadata": {},
     "output_type": "execute_result"
    }
   ],
   "source": [
    "[abs(x) if x<0 else x**2 for x in lst]"
   ]
  },
  {
   "cell_type": "code",
   "execution_count": null,
   "id": "adc68dcf-1d64-4fc5-b045-62b841060687",
   "metadata": {},
   "outputs": [],
   "source": []
  },
  {
   "cell_type": "markdown",
   "id": "4742c545-204e-4693-963d-cba76e5fe354",
   "metadata": {},
   "source": [
    "## Set comprehension"
   ]
  },
  {
   "cell_type": "code",
   "execution_count": 31,
   "id": "ec1e86bb-94cb-45f2-8fad-be7b4ca75eb7",
   "metadata": {},
   "outputs": [
    {
     "data": {
      "text/plain": [
       "{4, 6, 7, 8}"
      ]
     },
     "execution_count": 31,
     "metadata": {},
     "output_type": "execute_result"
    }
   ],
   "source": [
    "movies=['Titanic','2012','Avatar','Shaiatan']\n",
    "a=set()\n",
    "for i in movies:\n",
    "    a.add(len(i))\n",
    "\n",
    "a"
   ]
  },
  {
   "cell_type": "code",
   "execution_count": 32,
   "id": "6e791443-2b11-442d-8b5d-d1b7b73e3ab2",
   "metadata": {},
   "outputs": [
    {
     "data": {
      "text/plain": [
       "{4, 6, 7, 8}"
      ]
     },
     "execution_count": 32,
     "metadata": {},
     "output_type": "execute_result"
    }
   ],
   "source": [
    "movies=['Titanic','2012','Avatar','Shaiatan']\n",
    "{len(i) for i in movies}"
   ]
  },
  {
   "cell_type": "markdown",
   "id": "b305a01b-0887-4884-afa1-03ea173aa96b",
   "metadata": {},
   "source": [
    "## Enumurate"
   ]
  },
  {
   "cell_type": "code",
   "execution_count": 34,
   "id": "c238bd17-77f9-4f2f-b15d-4a503a0aaa89",
   "metadata": {},
   "outputs": [
    {
     "data": {
      "text/plain": [
       "{4, 6, 7, 8}"
      ]
     },
     "execution_count": 34,
     "metadata": {},
     "output_type": "execute_result"
    }
   ],
   "source": [
    "movies={'Titanic':4 ,'2012':7.8 ,'Avatar':7 ,'Shaiatan':5.8}\n",
    "{len(i) for i in movies}"
   ]
  },
  {
   "cell_type": "markdown",
   "id": "1d5fa01f-c467-4aff-bb5e-fa560c1a2d2a",
   "metadata": {},
   "source": [
    "## Break statement"
   ]
  },
  {
   "cell_type": "code",
   "execution_count": 1,
   "id": "d5346234-9e83-4753-8ec9-fb54b1c70854",
   "metadata": {},
   "outputs": [],
   "source": [
    "numbers=[1,2,3,4,5]\n",
    "for num in numbers:\n",
    "    if num==4:\n",
    "        break\n",
    "        print(num)"
   ]
  },
  {
   "cell_type": "code",
   "execution_count": 4,
   "id": "0291902b-0693-4b43-9360-908ec06f01a4",
   "metadata": {},
   "outputs": [
    {
     "name": "stdout",
     "output_type": "stream",
     "text": [
      "1\n",
      "2\n",
      "3\n"
     ]
    }
   ],
   "source": [
    "numbers=[1,2,3,4,5]\n",
    "for num in numbers:\n",
    "    if num==4:\n",
    "        break\n",
    "    print(num)"
   ]
  },
  {
   "cell_type": "code",
   "execution_count": 5,
   "id": "4116688c-8a8d-4b48-a21f-8e4e616b58c4",
   "metadata": {},
   "outputs": [
    {
     "name": "stdout",
     "output_type": "stream",
     "text": [
      "4\n"
     ]
    }
   ],
   "source": [
    "numbers=[1,2,3,4,5]\n",
    "for num in numbers:\n",
    "    if num==4:\n",
    "        break\n",
    "print(num)"
   ]
  },
  {
   "cell_type": "code",
   "execution_count": 6,
   "id": "833a610e-071f-46c1-8370-023f38689b26",
   "metadata": {},
   "outputs": [
    {
     "name": "stdout",
     "output_type": "stream",
     "text": [
      "4\n"
     ]
    }
   ],
   "source": [
    "numbers=[1,2,3,4,5]\n",
    "for num in numbers:\n",
    "    if num==4:\n",
    "        print(num)"
   ]
  },
  {
   "cell_type": "markdown",
   "id": "ff2e0703-438f-45ac-abaa-8a4b9821fdd6",
   "metadata": {},
   "source": [
    "## Continue statement"
   ]
  },
  {
   "cell_type": "code",
   "execution_count": 7,
   "id": "b6c8db48-bcf3-49f1-91e3-2d4ccdef079a",
   "metadata": {},
   "outputs": [
    {
     "name": "stdout",
     "output_type": "stream",
     "text": [
      "1\n",
      "3\n",
      "5\n"
     ]
    }
   ],
   "source": [
    "numbers=[1,2,3,4,5]\n",
    "for num in numbers:\n",
    "    if num%2==0:\n",
    "        continue\n",
    "    print(num)"
   ]
  },
  {
   "cell_type": "code",
   "execution_count": 8,
   "id": "c2cba533-9b55-4952-bc5b-218dbf631b43",
   "metadata": {},
   "outputs": [],
   "source": [
    "numbers=[1,2,3,4,5]\n",
    "for num in numbers:\n",
    "    if num%2==0:\n",
    "        continue\n",
    "        print(num)"
   ]
  },
  {
   "cell_type": "code",
   "execution_count": 9,
   "id": "2fe83681-b1f2-47fd-8f24-7d7e2b923c3f",
   "metadata": {},
   "outputs": [
    {
     "name": "stdout",
     "output_type": "stream",
     "text": [
      "5\n"
     ]
    }
   ],
   "source": [
    "numbers=[1,2,3,4,5]\n",
    "for num in numbers:\n",
    "    if num%2==0:\n",
    "        continue\n",
    "print(num)"
   ]
  },
  {
   "cell_type": "code",
   "execution_count": 11,
   "id": "2d2d9b01-0274-4fbb-ad39-8cc4b3042244",
   "metadata": {},
   "outputs": [
    {
     "name": "stdout",
     "output_type": "stream",
     "text": [
      "2\n",
      "4\n"
     ]
    }
   ],
   "source": [
    "numbers=[1,2,3,4,5]\n",
    "for num in numbers:\n",
    "    if num%2==0:\n",
    "        print(num)"
   ]
  },
  {
   "cell_type": "markdown",
   "id": "e2797ff4-5568-4417-a034-319c15249d5a",
   "metadata": {},
   "source": [
    "## For loop with else"
   ]
  },
  {
   "cell_type": "code",
   "execution_count": 1,
   "id": "47c56366-36f0-4ef4-b2dc-68d465869eef",
   "metadata": {},
   "outputs": [
    {
     "name": "stdout",
     "output_type": "stream",
     "text": [
      "1\n",
      "2\n",
      "3\n",
      "4\n",
      "no item left in the list\n"
     ]
    }
   ],
   "source": [
    "numbers=[1,2,3,4]\n",
    "for item in numbers:\n",
    "    print(item)\n",
    "\n",
    "else:\n",
    "    print(\"no item left in the list\")"
   ]
  },
  {
   "cell_type": "code",
   "execution_count": 2,
   "id": "9fb412b3-13e8-4ae8-879b-9101a18e7bc7",
   "metadata": {},
   "outputs": [
    {
     "name": "stdout",
     "output_type": "stream",
     "text": [
      "2\n"
     ]
    }
   ],
   "source": [
    "numbers=[1,2,3,4,5,6]\n",
    "for item in numbers:\n",
    "    if item%2==0:\n",
    "        print(item)\n",
    "        break"
   ]
  },
  {
   "cell_type": "markdown",
   "id": "9e00777f-94a7-41c1-a155-fe0e89664d7a",
   "metadata": {},
   "source": [
    "## While loop"
   ]
  },
  {
   "cell_type": "code",
   "execution_count": 3,
   "id": "753f3972-6311-4fb9-afb7-b87b621eda19",
   "metadata": {},
   "outputs": [
    {
     "name": "stdout",
     "output_type": "stream",
     "text": [
      "1\n",
      "2\n",
      "3\n",
      "4\n",
      "5\n",
      "6\n"
     ]
    }
   ],
   "source": [
    "x=0\n",
    "while x<6:\n",
    "    x=x+1\n",
    "    print(x)"
   ]
  },
  {
   "cell_type": "code",
   "execution_count": 4,
   "id": "1733798e-6218-41cb-8979-4268052676ca",
   "metadata": {},
   "outputs": [
    {
     "name": "stdout",
     "output_type": "stream",
     "text": [
      "x is 0\n",
      "x is 1\n",
      "x is 2\n",
      "x is 3\n",
      "x is 4\n",
      "x is 5\n",
      "x is 6\n",
      "x is 7\n"
     ]
    }
   ],
   "source": [
    "x=0\n",
    "while x<8:\n",
    "    print(\"x is\",x)\n",
    "    x=x+1"
   ]
  },
  {
   "cell_type": "code",
   "execution_count": 6,
   "id": "b7509433-3ebf-4b20-996b-f3f10bc90919",
   "metadata": {},
   "outputs": [
    {
     "name": "stdout",
     "output_type": "stream",
     "text": [
      "x is 8\n",
      "x is 7\n",
      "x is 6\n",
      "x is 5\n",
      "x is 4\n",
      "x is 3\n",
      "x is 2\n"
     ]
    }
   ],
   "source": [
    "x=8\n",
    "while x>1:\n",
    "    print(\"x is {}\".format(x))\n",
    "    x-=1"
   ]
  },
  {
   "cell_type": "code",
   "execution_count": 8,
   "id": "8baacf04-e136-49b5-8216-7ad84ee9021f",
   "metadata": {},
   "outputs": [
    {
     "name": "stdout",
     "output_type": "stream",
     "text": [
      "320\n"
     ]
    }
   ],
   "source": [
    "i=100\n",
    "s=20\n",
    "while i<=200:\n",
    "    s=s+i\n",
    "    i=i+100\n",
    "\n",
    "print(s)"
   ]
  },
  {
   "cell_type": "code",
   "execution_count": 12,
   "id": "66fc7f22-9b54-43f7-9863-5ab1e7036757",
   "metadata": {},
   "outputs": [
    {
     "name": "stdout",
     "output_type": "stream",
     "text": [
      "6\n"
     ]
    }
   ],
   "source": [
    "i=0\n",
    "s=0\n",
    "\n",
    "\n",
    "while(i<=5):\n",
    "    s=s+i\n",
    "    i+=2\n",
    "\n",
    "print(s)"
   ]
  },
  {
   "cell_type": "code",
   "execution_count": 13,
   "id": "27f13a1e-1a3c-41c5-afc3-e1fb42a3cdad",
   "metadata": {},
   "outputs": [
    {
     "name": "stdout",
     "output_type": "stream",
     "text": [
      "0\n",
      "5\n"
     ]
    }
   ],
   "source": [
    "x=0\n",
    "print(x)\n",
    "while x<5:\n",
    "    x=x+1\n",
    "\n",
    "print(x)"
   ]
  },
  {
   "cell_type": "code",
   "execution_count": 15,
   "id": "8654e823-7665-484a-aea9-b8f14e1434e9",
   "metadata": {},
   "outputs": [
    {
     "name": "stdout",
     "output_type": "stream",
     "text": [
      "30\n"
     ]
    }
   ],
   "source": [
    "i=0\n",
    "s=0\n",
    "while(i<=10):\n",
    "    s=s+i\n",
    "    i+=2\n",
    "\n",
    "print(s)"
   ]
  },
  {
   "cell_type": "code",
   "execution_count": 16,
   "id": "91ec576c-8be2-452b-917c-810bd77f63f1",
   "metadata": {},
   "outputs": [
    {
     "name": "stdout",
     "output_type": "stream",
     "text": [
      "0 1 2 3 4 5 6 7 8 9 10 11 12 13 14 15 16 17 18 19 20 21 22 23 24 25 26 27 28 29 30 31 32 33 34 35 36 37 38 39 40 41 42 43 44 45 46 47 48 49 50 51 52 53 54 55 56 57 58 59 60 61 62 63 64 65 66 67 68 69 70 71 72 73 74 75 76 77 78 79 80 81 82 83 84 85 86 87 88 89 90 91 92 93 94 95 96 97 98 99 100 "
     ]
    }
   ],
   "source": [
    "i=0\n",
    "while(i<=100):\n",
    "    print(i,end=' ')\n",
    "    i=i+1"
   ]
  },
  {
   "cell_type": "code",
   "execution_count": 19,
   "id": "8cc60b99-f21a-4dde-9e6c-5961f4d4eeec",
   "metadata": {},
   "outputs": [
    {
     "name": "stdin",
     "output_type": "stream",
     "text": [
      "Enter n: 5\n"
     ]
    },
    {
     "name": "stdout",
     "output_type": "stream",
     "text": [
      "The sum is 15\n"
     ]
    }
   ],
   "source": [
    "n=int(input('Enter n:'))\n",
    "sum=0\n",
    "i=1\n",
    "while i<=n:\n",
    "    sum=sum+i\n",
    "    i=i+1\n",
    "\n",
    "print('The sum is',sum)"
   ]
  },
  {
   "cell_type": "code",
   "execution_count": 18,
   "id": "bc7c7961-c57c-443c-a9b6-25e95f5e9ebb",
   "metadata": {},
   "outputs": [
    {
     "name": "stdin",
     "output_type": "stream",
     "text": [
      "Enter a value: 7\n",
      "Enter a value: 8\n",
      "Enter a value: 4\n",
      "Enter a value: done\n"
     ]
    },
    {
     "name": "stdout",
     "output_type": "stream",
     "text": [
      "19\n"
     ]
    }
   ],
   "source": [
    "s=0\n",
    "while True\n",
    "    a=input('Enter a value:')\n",
    "    if(a=='done'):\n",
    "        break\n",
    "        \n",
    "    s=s+int(a)\n",
    "\n",
    "print(s)"
   ]
  },
  {
   "cell_type": "markdown",
   "id": "b7408cb5-47e7-485a-8304-99ef200a84ed",
   "metadata": {},
   "source": [
    "## While loop with else"
   ]
  },
  {
   "cell_type": "code",
   "execution_count": 1,
   "id": "a98da48c-90bb-4349-9495-df4c5b1730ab",
   "metadata": {},
   "outputs": [
    {
     "name": "stdout",
     "output_type": "stream",
     "text": [
      "x is 7\n",
      "x is 6\n",
      "x is 5\n",
      "x is 4\n",
      "x is 3\n",
      "x is 2\n",
      "x is no longer greater then 1\n"
     ]
    }
   ],
   "source": [
    "x=7\n",
    "while x>1:\n",
    "    print(\"x is {}\".format(x))\n",
    "    x-=1\n",
    "    if x==8:\n",
    "        break\n",
    "\n",
    "else:\n",
    "    print(\"x is no longer greater then 1\")"
   ]
  },
  {
   "cell_type": "code",
   "execution_count": 6,
   "id": "21da8339-7d0f-4dd4-b627-534072982678",
   "metadata": {},
   "outputs": [
    {
     "name": "stdout",
     "output_type": "stream",
     "text": [
      "x is 0\n",
      "x is 1\n",
      "x is 2\n",
      "x is 3\n",
      "x is 4\n",
      "x is 5\n",
      "x is 6\n",
      "x is 7\n",
      "x is no longer < 8\n"
     ]
    }
   ],
   "source": [
    "x=0\n",
    "while x<8:\n",
    "    print(\"x is {}\".format(x))\n",
    "    x+=1\n",
    "else:\n",
    "    print(\"x is no longer < 8\")"
   ]
  },
  {
   "cell_type": "code",
   "execution_count": 7,
   "id": "6bd067d1-c05c-4812-8c4f-7c5f1aabb95f",
   "metadata": {},
   "outputs": [
    {
     "name": "stdout",
     "output_type": "stream",
     "text": [
      "1\n",
      "2\n",
      "3\n",
      "4\n",
      "5\n",
      "no item left in the list\n"
     ]
    }
   ],
   "source": [
    "numbers=[1,2,3,4,5]\n",
    "index=0\n",
    "while index < len(numbers):\n",
    "    print(numbers[index])\n",
    "    index+=1\n",
    "\n",
    "else:\n",
    "    print(\"no item left in the list\")"
   ]
  },
  {
   "cell_type": "markdown",
   "id": "b46be10f-79a4-49a1-b861-46dd926b5156",
   "metadata": {},
   "source": [
    "## Factorial"
   ]
  },
  {
   "cell_type": "code",
   "execution_count": 5,
   "id": "7ab20c22-6aaf-413a-b9b4-40bfe549fadc",
   "metadata": {},
   "outputs": [
    {
     "name": "stdin",
     "output_type": "stream",
     "text": [
      " 5\n"
     ]
    },
    {
     "name": "stdout",
     "output_type": "stream",
     "text": [
      "120\n"
     ]
    }
   ],
   "source": [
    "a=int(input())\n",
    "fact=1\n",
    "for i in range(a,0,-1):\n",
    "    fact=fact*i\n",
    "print(fact)"
   ]
  },
  {
   "cell_type": "code",
   "execution_count": 6,
   "id": "1f7961f4-07c7-442d-89e0-8db2c39a35dc",
   "metadata": {},
   "outputs": [
    {
     "name": "stdin",
     "output_type": "stream",
     "text": [
      " 4\n"
     ]
    },
    {
     "name": "stdout",
     "output_type": "stream",
     "text": [
      "after 1 iteration the factorial value is: 1\n",
      "after 2 iteration the factorial value is: 1\n",
      "after 3 iteration the factorial value is: 1\n",
      "after 4 iteration the factorial value is: 1\n"
     ]
    }
   ],
   "source": [
    "a=int(input())\n",
    "fact=1\n",
    "for i in range(1,a+1):\n",
    "    fact=fact*1\n",
    "    print(\"after\",i,\"iteration the factorial value is:\",fact)"
   ]
  },
  {
   "cell_type": "code",
   "execution_count": 13,
   "id": "ae44b8fc-7fd3-4038-a0cc-6c17d514ed12",
   "metadata": {},
   "outputs": [
    {
     "name": "stdin",
     "output_type": "stream",
     "text": [
      "enter a number: 6\n"
     ]
    },
    {
     "name": "stdout",
     "output_type": "stream",
     "text": [
      "The factorial of 6 is 720\n"
     ]
    }
   ],
   "source": [
    "num=int(input(\"enter a number:\"))\n",
    "fact=1\n",
    "for i in range(1,num+1):\n",
    "    fact*=i\n",
    "print(\"The factorial of\",num,\"is\",fact)"
   ]
  },
  {
   "cell_type": "code",
   "execution_count": null,
   "id": "16c26ff9-818f-44f0-ba25-da87bd54ced8",
   "metadata": {},
   "outputs": [],
   "source": []
  }
 ],
 "metadata": {
  "kernelspec": {
   "display_name": "Python 3 (ipykernel)",
   "language": "python",
   "name": "python3"
  },
  "language_info": {
   "codemirror_mode": {
    "name": "ipython",
    "version": 3
   },
   "file_extension": ".py",
   "mimetype": "text/x-python",
   "name": "python",
   "nbconvert_exporter": "python",
   "pygments_lexer": "ipython3",
   "version": "3.11.7"
  }
 },
 "nbformat": 4,
 "nbformat_minor": 5
}
