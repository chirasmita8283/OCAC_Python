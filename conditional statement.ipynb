{
 "cells": [
  {
   "cell_type": "code",
   "execution_count": 3,
   "id": "c1ea2626-af67-454e-a0f1-6c172f0b1d14",
   "metadata": {},
   "outputs": [
    {
     "name": "stdin",
     "output_type": "stream",
     "text": [
      "Enter a number: 4\n"
     ]
    },
    {
     "data": {
      "text/plain": [
       "True"
      ]
     },
     "execution_count": 3,
     "metadata": {},
     "output_type": "execute_result"
    }
   ],
   "source": [
    "num=int(input(\"Enter a number:\"))\n",
    "(num%2==0)"
   ]
  },
  {
   "cell_type": "markdown",
   "id": "c96fb17b-d871-4534-93bf-ca6a66da059c",
   "metadata": {},
   "source": [
    "### if"
   ]
  },
  {
   "cell_type": "markdown",
   "id": "123d0213-8a90-4fd3-8c61-f4e61322d921",
   "metadata": {},
   "source": [
    "### Block structure"
   ]
  },
  {
   "cell_type": "code",
   "execution_count": 2,
   "id": "3e6cb949-178d-44a8-abc9-513b555f1692",
   "metadata": {},
   "outputs": [
    {
     "name": "stdout",
     "output_type": "stream",
     "text": [
      "hiii\n",
      "siva\n"
     ]
    }
   ],
   "source": [
    "if 5>3:\n",
    "    print('hiii')\n",
    "    print('siva')"
   ]
  },
  {
   "cell_type": "code",
   "execution_count": 4,
   "id": "9b07c1da-7ee3-42e9-aa40-0fa9005313c4",
   "metadata": {},
   "outputs": [],
   "source": [
    "if 5<3:\n",
    "    print('Hii')"
   ]
  },
  {
   "cell_type": "code",
   "execution_count": 14,
   "id": "671328a7-0f29-43c4-80eb-5f1515eff255",
   "metadata": {},
   "outputs": [
    {
     "name": "stdout",
     "output_type": "stream",
     "text": [
      "babli\n"
     ]
    }
   ],
   "source": [
    "if 1>2:\n",
    "    print('hiii')\n",
    "\n",
    "print(\"babli\")"
   ]
  },
  {
   "cell_type": "code",
   "execution_count": 18,
   "id": "26061727-25f3-4e77-bef6-88c561648bb0",
   "metadata": {},
   "outputs": [
    {
     "name": "stdin",
     "output_type": "stream",
     "text": [
      "Enter name: siva\n"
     ]
    },
    {
     "name": "stdout",
     "output_type": "stream",
     "text": [
      "hello siva good evening\n"
     ]
    }
   ],
   "source": [
    "name=input(\"Enter name:\")\n",
    "if name==\"siva\" :\n",
    "    print(\"hello siva good evening\")"
   ]
  },
  {
   "cell_type": "markdown",
   "id": "65a722c2-a267-4444-863a-6f9ce9e5da4f",
   "metadata": {},
   "source": [
    "### if-else syntax:"
   ]
  },
  {
   "cell_type": "code",
   "execution_count": 19,
   "id": "d7bb1314-9ed0-4782-bfd1-324a19700462",
   "metadata": {},
   "outputs": [
    {
     "name": "stdout",
     "output_type": "stream",
     "text": [
      "first\n"
     ]
    }
   ],
   "source": [
    "if 5>3:\n",
    "    print('first')\n",
    "\n",
    "else:\n",
    "    print('last')"
   ]
  },
  {
   "cell_type": "code",
   "execution_count": 20,
   "id": "00d1c2be-c156-4787-a212-85f88c6db457",
   "metadata": {},
   "outputs": [
    {
     "name": "stdout",
     "output_type": "stream",
     "text": [
      "last\n"
     ]
    }
   ],
   "source": [
    "if 5<3:\n",
    "    print('first')\n",
    "\n",
    "else:\n",
    "    print('last')"
   ]
  },
  {
   "cell_type": "code",
   "execution_count": 21,
   "id": "6d8e53e1-b132-42ee-95e9-4306b859dd6e",
   "metadata": {},
   "outputs": [
    {
     "name": "stdin",
     "output_type": "stream",
     "text": [
      "enter a number 6\n"
     ]
    },
    {
     "name": "stdout",
     "output_type": "stream",
     "text": [
      "6 is even number\n"
     ]
    }
   ],
   "source": [
    "a=int(input('enter a number'))\n",
    "if(a%2==0):\n",
    "    print(a,'is even number')\n",
    "else:\n",
    "    print(a,'is odd number')"
   ]
  },
  {
   "cell_type": "code",
   "execution_count": 23,
   "id": "7c7ac266-520a-4a65-aefb-e2511c759822",
   "metadata": {},
   "outputs": [
    {
     "name": "stdin",
     "output_type": "stream",
     "text": [
      "enter a number 0\n"
     ]
    },
    {
     "name": "stdout",
     "output_type": "stream",
     "text": [
      "0 is even number\n"
     ]
    }
   ],
   "source": [
    "a=int(input('enter a number'))\n",
    "if(a%2==0):\n",
    "    print(a,'is even number')\n",
    "else:\n",
    "    print(a,'is odd number')"
   ]
  },
  {
   "cell_type": "code",
   "execution_count": 24,
   "id": "b1579b5e-5847-408f-a0f9-805aabe5289d",
   "metadata": {},
   "outputs": [
    {
     "name": "stdin",
     "output_type": "stream",
     "text": [
      "enter a number 1\n"
     ]
    },
    {
     "name": "stdout",
     "output_type": "stream",
     "text": [
      "1 is odd number\n"
     ]
    }
   ],
   "source": [
    "a=int(input('enter a number'))\n",
    "if(a%2==0):\n",
    "    print(a,'is even number')\n",
    "else:\n",
    "    print(a,'is odd number')"
   ]
  },
  {
   "cell_type": "code",
   "execution_count": 30,
   "id": "0cbd1fec-5d0a-4943-ab74-e94cb81617b0",
   "metadata": {},
   "outputs": [
    {
     "name": "stdin",
     "output_type": "stream",
     "text": [
      "enter name: siva\n"
     ]
    },
    {
     "name": "stdout",
     "output_type": "stream",
     "text": [
      "Hello siva good morning\n"
     ]
    }
   ],
   "source": [
    "a=input('enter name:')\n",
    "if name==\"siva\":\n",
    "    print(\"Hello siva good morning\")\n",
    "else:\n",
    "    print(\"Hello\",name,\"good morning\")"
   ]
  },
  {
   "cell_type": "code",
   "execution_count": 32,
   "id": "14cb5593-7274-45a2-8a4d-7a1ad25da135",
   "metadata": {},
   "outputs": [
    {
     "name": "stdout",
     "output_type": "stream",
     "text": [
      "AI\n",
      "ML\n"
     ]
    }
   ],
   "source": [
    "u=['one','fiva','six','eight']\n",
    "if 'six' in u:\n",
    "    print('AI')\n",
    "\n",
    "if 'two' not in u:\n",
    "    print('ML')"
   ]
  },
  {
   "cell_type": "code",
   "execution_count": 35,
   "id": "fd5fd1fc-3f95-48b7-b0ea-8db4a2395da8",
   "metadata": {},
   "outputs": [
    {
     "name": "stdin",
     "output_type": "stream",
     "text": [
      " 5\n"
     ]
    },
    {
     "name": "stdout",
     "output_type": "stream",
     "text": [
      "5 is positive\n"
     ]
    }
   ],
   "source": [
    "p=int(input())\n",
    "if(p>=0):\n",
    "    print(p,'is positive')\n",
    "\n",
    "else:\n",
    "    print(p,'is negative number')"
   ]
  },
  {
   "cell_type": "code",
   "execution_count": 36,
   "id": "c13ad03d-0b67-4a90-a01e-f3b183bdbb29",
   "metadata": {},
   "outputs": [
    {
     "name": "stdout",
     "output_type": "stream",
     "text": [
      "8 is even number\n",
      "this is out of if else block\n"
     ]
    }
   ],
   "source": [
    "x=8\n",
    "if x%2==0:\n",
    "    print(x,'is even number')\n",
    "else:\n",
    "    print(x,'is odd number')\n",
    "\n",
    "print('this is out of if else block')"
   ]
  },
  {
   "cell_type": "markdown",
   "id": "f5a1a16a-4a8a-45ca-a0b4-3834b6767fd2",
   "metadata": {},
   "source": [
    "### if-elif-else Syntax"
   ]
  },
  {
   "cell_type": "code",
   "execution_count": 37,
   "id": "e8398165-013c-454a-84de-1558d72d32e7",
   "metadata": {},
   "outputs": [
    {
     "name": "stdout",
     "output_type": "stream",
     "text": [
      "first\n"
     ]
    }
   ],
   "source": [
    "if 3==3:\n",
    "    print('first')\n",
    "elif 2==2:\n",
    "    print('middle')"
   ]
  },
  {
   "cell_type": "code",
   "execution_count": 40,
   "id": "1e5c3f4f-2bfb-4cc8-925d-592b4e3018b0",
   "metadata": {},
   "outputs": [
    {
     "name": "stdout",
     "output_type": "stream",
     "text": [
      "Grade B\n"
     ]
    }
   ],
   "source": [
    "y=76\n",
    "if y>98:\n",
    "    print(\"Grade A\")\n",
    "elif y>60:\n",
    "    print(\"Grade B\")\n",
    "elif y>40:\n",
    "    print(\"Grade c\")\n",
    "else:\n",
    "    print(\"Grade f\")"
   ]
  },
  {
   "cell_type": "code",
   "execution_count": 42,
   "id": "1d014dda-8562-4289-b8b8-8b233861a549",
   "metadata": {},
   "outputs": [
    {
     "name": "stdout",
     "output_type": "stream",
     "text": [
      "I am in elif block\n",
      "x is negative\n"
     ]
    }
   ],
   "source": [
    "x=-57.87\n",
    "if((x>0) or (x==90)):\n",
    "    print(\"x is positive value or -90\")\n",
    "    print(\"I am if loop\")\n",
    "\n",
    "elif(x<0):\n",
    "    print(\"I am in elif block\")\n",
    "    print(\"x is negative\")\n",
    "\n",
    "else:\n",
    "    print(\"x is zero\")\n"
   ]
  },
  {
   "cell_type": "code",
   "execution_count": 43,
   "id": "509388fc-bf5f-411a-9684-62d1dc1bd0c0",
   "metadata": {},
   "outputs": [
    {
     "name": "stdout",
     "output_type": "stream",
     "text": [
      "x is positive value or -90\n",
      "I am if loop\n"
     ]
    }
   ],
   "source": [
    "x=57.87\n",
    "if((x>0) or (x==90)):\n",
    "    print(\"x is positive value or -90\")\n",
    "    print(\"I am if loop\")\n",
    "\n",
    "elif(x<0):\n",
    "    print(\"I am in elif block\")\n",
    "    print(\"x is negative\")\n",
    "\n",
    "else:\n",
    "    print(\"x is zero\")\n"
   ]
  },
  {
   "cell_type": "code",
   "execution_count": 47,
   "id": "d2485f9d-a66c-4ecc-9818-f4f1bb4860e8",
   "metadata": {},
   "outputs": [
    {
     "name": "stdout",
     "output_type": "stream",
     "text": [
      "negative\n",
      "I am out of if block\n"
     ]
    }
   ],
   "source": [
    "x=-20\n",
    "if x>0:\n",
    "    print('positive')\n",
    "    print('hello')\n",
    "\n",
    "elif x==0:\n",
    "    print('zero')\n",
    "\n",
    "else:\n",
    "    print('negative')\n",
    "\n",
    "print(\"I am out of if block\")"
   ]
  },
  {
   "cell_type": "code",
   "execution_count": 49,
   "id": "f1bc48d5-0a91-4b40-9100-29d3a3fd0303",
   "metadata": {},
   "outputs": [
    {
     "name": "stdin",
     "output_type": "stream",
     "text": [
      "Enter your favourite brand: RC\n"
     ]
    },
    {
     "name": "stdout",
     "output_type": "stream",
     "text": [
      "It is childrens brand\n"
     ]
    }
   ],
   "source": [
    "brand=input(\"Enter your favourite brand:\")\n",
    "if brand==\"RC\":\n",
    "    print(\"It is childrens brand\")\n",
    "elif brand==\"KF\":\n",
    "    print(\"It is not that kick\")\n",
    "elif brand==\"FO\":\n",
    "    print(\"Buy one get free one\")\n",
    "elif brand==\"RC\":\n",
    "    print(\"It is brand\")\n",
    "else:\n",
    "    print(\"Other brands are not recommended\")"
   ]
  },
  {
   "cell_type": "code",
   "execution_count": 50,
   "id": "81c53e0a-831b-4458-bff8-5e33653dd0c6",
   "metadata": {},
   "outputs": [
    {
     "name": "stdout",
     "output_type": "stream",
     "text": [
      "All is well with the world\n"
     ]
    },
    {
     "name": "stderr",
     "output_type": "stream",
     "text": [
      "<>:1: SyntaxWarning: \"is\" with a literal. Did you mean \"==\"?\n",
      "<>:1: SyntaxWarning: \"is\" with a literal. Did you mean \"==\"?\n",
      "C:\\Users\\Bablu\\AppData\\Local\\Temp\\ipykernel_28908\\3205267712.py:1: SyntaxWarning: \"is\" with a literal. Did you mean \"==\"?\n",
      "  if 2 is 7:\n"
     ]
    }
   ],
   "source": [
    "if 2 is 7:\n",
    "    print(\"How did that happen?\")\n",
    "elif 2 > 7:\n",
    "    print(\"babli\")\n",
    "else:\n",
    "    print(\"All is well with the world\")"
   ]
  },
  {
   "cell_type": "code",
   "execution_count": 1,
   "id": "f80ff48c-37e9-44a7-81ac-98b860bcf59e",
   "metadata": {},
   "outputs": [
    {
     "name": "stdin",
     "output_type": "stream",
     "text": [
      "enter marks: 54\n"
     ]
    },
    {
     "name": "stdout",
     "output_type": "stream",
     "text": [
      "54 E grade\n"
     ]
    }
   ],
   "source": [
    "\n",
    "a=int(float(input('enter marks:')))\n",
    "\n",
    "if (a>85 and a<=100):\n",
    "    print(a,'A grade')\n",
    "elif(a<=85 and a>75):\n",
    "    print(a,'B grade')\n",
    "elif(a<=75 and a>65):\n",
    "    print(a,'C grade')\n",
    "elif(a<=65 and a>55):\n",
    "    print(a,'D grade')\n",
    "elif(a<=55 and a>45):\n",
    "    print(a,'E grade')\n",
    "else:\n",
    "    print(a,'fail')\n",
    "        "
   ]
  },
  {
   "cell_type": "code",
   "execution_count": 60,
   "id": "2d8583a1-0ed6-45c6-ad0d-accfbc339c6a",
   "metadata": {},
   "outputs": [
    {
     "name": "stdin",
     "output_type": "stream",
     "text": [
      "Enter first number: 34\n",
      "Enter second number: 77\n"
     ]
    },
    {
     "name": "stdout",
     "output_type": "stream",
     "text": [
      "Biggest Number is: 77\n"
     ]
    }
   ],
   "source": [
    "y1=int(input(\"Enter first number:\"))\n",
    "y2=int(input(\"Enter second number:\"))\n",
    "if y1>y2:\n",
    "    print(\"Biggest Number is:\",y1)\n",
    "else:\n",
    "    print(\"Biggest Number is:\",y2)"
   ]
  },
  {
   "cell_type": "code",
   "execution_count": 61,
   "id": "66d38acb-fa07-4406-b520-e831a59c4052",
   "metadata": {},
   "outputs": [
    {
     "name": "stdin",
     "output_type": "stream",
     "text": [
      "Enter first number: 5\n",
      "Enter second number: 7\n",
      "Enter third number: 8\n"
     ]
    },
    {
     "name": "stdout",
     "output_type": "stream",
     "text": [
      "8 is the largest\n"
     ]
    }
   ],
   "source": [
    "a1=int(input(\"Enter first number:\"))\n",
    "a2=int(input(\"Enter second number:\"))\n",
    "a3=int(input(\"Enter third number:\"))\n",
    "if a1>a2 and a>a3:\n",
    "    print(a1,'is the largest')\n",
    "elif a2>a3:\n",
    "    print(n2,'is the largest')\n",
    "else:\n",
    "    print(a3,'is the largest')"
   ]
  },
  {
   "cell_type": "code",
   "execution_count": 62,
   "id": "d856523f-7bd9-4081-947e-5b7955d103f4",
   "metadata": {},
   "outputs": [
    {
     "name": "stdin",
     "output_type": "stream",
     "text": [
      "Enter first string: babli\n",
      "Enter second string: chinu\n"
     ]
    },
    {
     "name": "stdout",
     "output_type": "stream",
     "text": [
      "First string is less than second string\n"
     ]
    }
   ],
   "source": [
    "string1=input(\"Enter first string:\")\n",
    "string2=input(\"Enter second string:\")\n",
    "if string1==string2:\n",
    "    print(\"Both strings are equal\")\n",
    "elif string1<string2:\n",
    "    print(\"First string is less than second string\")\n",
    "else:\n",
    "    print(\"First string is greater than second string\")"
   ]
  },
  {
   "cell_type": "markdown",
   "id": "08e59543-632c-4893-a47a-539f6621f079",
   "metadata": {},
   "source": [
    "### Nested if Statements"
   ]
  },
  {
   "cell_type": "code",
   "execution_count": 6,
   "id": "bdc3e796-4874-45d9-8bf4-c175e29b7b07",
   "metadata": {},
   "outputs": [
    {
     "name": "stdout",
     "output_type": "stream",
     "text": [
      "Negative number\n"
     ]
    }
   ],
   "source": [
    "num=10\n",
    "if num>=0:\n",
    "    if num == 0:\n",
    "        print(\"not\")\n",
    "    else:\n",
    "        print(\"Negative number\")\n",
    "else:\n",
    "    print(\"positive number\")"
   ]
  },
  {
   "cell_type": "code",
   "execution_count": 8,
   "id": "c3c9a55a-64e6-49b8-bec4-6ba742925f99",
   "metadata": {},
   "outputs": [
    {
     "name": "stdout",
     "output_type": "stream",
     "text": [
      "less than 3\n"
     ]
    }
   ],
   "source": [
    "i=3.5\n",
    "if(i<2):\n",
    "    print('less than 5')\n",
    "    if i>3:\n",
    "        print('babli')\n",
    "\n",
    "elif i<4:\n",
    "    print('less than 3')\n",
    "\n",
    "else:\n",
    "    print('4 or more')"
   ]
  },
  {
   "cell_type": "code",
   "execution_count": 9,
   "id": "93aaf693-8010-42ed-9c79-407066a4deca",
   "metadata": {},
   "outputs": [
    {
     "name": "stdout",
     "output_type": "stream",
     "text": [
      "less than 5\n",
      "babli\n"
     ]
    }
   ],
   "source": [
    "i=3.5\n",
    "if(i<5):\n",
    "    print('less than 5')\n",
    "    if i>3:\n",
    "        print('babli')\n",
    "\n",
    "elif i<4:\n",
    "    print('less than 3')\n",
    "\n",
    "else:\n",
    "    print('4 or more')"
   ]
  },
  {
   "cell_type": "code",
   "execution_count": 13,
   "id": "6e40a040-06e1-4901-805a-d77d5d0cd2ea",
   "metadata": {},
   "outputs": [
    {
     "name": "stdin",
     "output_type": "stream",
     "text": [
      "enter your pin 2356\n",
      "with draw amount: 2890\n"
     ]
    },
    {
     "name": "stdout",
     "output_type": "stream",
     "text": [
      "2890 successfully transaction complted\n"
     ]
    }
   ],
   "source": [
    "amount=30000\n",
    "pin=2356\n",
    "if(int(input('enter your pin'))==2356):\n",
    "    with_draw=int(input('with draw amount:'))\n",
    "    if(with_draw<=amount):\n",
    "        print(with_draw,'successfully transaction complted')\n",
    "    else:\n",
    "        print(with_draw,'successfully fundsin your account')\n",
    "else:\n",
    "    print('invalid pin number')\n",
    "    "
   ]
  },
  {
   "cell_type": "code",
   "execution_count": null,
   "id": "1374ca34-7389-44f1-9fdc-3aafdc302934",
   "metadata": {},
   "outputs": [],
   "source": []
  }
 ],
 "metadata": {
  "kernelspec": {
   "display_name": "Python 3 (ipykernel)",
   "language": "python",
   "name": "python3"
  },
  "language_info": {
   "codemirror_mode": {
    "name": "ipython",
    "version": 3
   },
   "file_extension": ".py",
   "mimetype": "text/x-python",
   "name": "python",
   "nbconvert_exporter": "python",
   "pygments_lexer": "ipython3",
   "version": "3.11.7"
  }
 },
 "nbformat": 4,
 "nbformat_minor": 5
}
