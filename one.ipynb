{
 "cells": [
  {
   "cell_type": "code",
   "execution_count": 1,
   "id": "5e1d2bea-3708-4314-bede-7ec4f6520500",
   "metadata": {},
   "outputs": [
    {
     "name": "stdout",
     "output_type": "stream",
     "text": [
      "hello\n"
     ]
    }
   ],
   "source": [
    "print(\"hello\")"
   ]
  },
  {
   "cell_type": "code",
   "execution_count": 2,
   "id": "1ae00581-7054-4d02-9aac-62cf33b7d7a2",
   "metadata": {},
   "outputs": [
    {
     "data": {
      "text/plain": [
       "11"
      ]
     },
     "execution_count": 2,
     "metadata": {},
     "output_type": "execute_result"
    }
   ],
   "source": [
    "a=4\n",
    "b=7\n",
    "a+b"
   ]
  },
  {
   "cell_type": "code",
   "execution_count": 3,
   "id": "4f4c3793-2636-4a8a-ac99-2952c137573c",
   "metadata": {},
   "outputs": [
    {
     "name": "stdout",
     "output_type": "stream",
     "text": [
      "the summation is- 30\n"
     ]
    }
   ],
   "source": [
    "Z=5\n",
    "C=25\n",
    "U=Z+C\n",
    "U\n",
    "V=print(\"the summation is-\",Z+C)\n",
    "V"
   ]
  },
  {
   "cell_type": "code",
   "execution_count": 6,
   "id": "432c8743-90bd-435e-b9c7-e37aa47afef5",
   "metadata": {},
   "outputs": [
    {
     "name": "stdout",
     "output_type": "stream",
     "text": [
      "the summation is= 30\n"
     ]
    },
    {
     "data": {
      "text/plain": [
       "30"
      ]
     },
     "execution_count": 6,
     "metadata": {},
     "output_type": "execute_result"
    }
   ],
   "source": [
    "Z=5\n",
    "C=25\n",
    "U=Z+C\n",
    "print(\"the summation is=\",Z+C)\n",
    "U"
   ]
  },
  {
   "cell_type": "code",
   "execution_count": 8,
   "id": "96ecd77e-8ee2-4cdd-811d-c0671720105b",
   "metadata": {},
   "outputs": [
    {
     "name": "stdout",
     "output_type": "stream",
     "text": [
      "the summation is- 40\n"
     ]
    },
    {
     "data": {
      "text/plain": [
       "40"
      ]
     },
     "execution_count": 8,
     "metadata": {},
     "output_type": "execute_result"
    }
   ],
   "source": [
    "Z=15\n",
    "C=25\n",
    "V=2558\n",
    "U=Z+C\n",
    "print(\"the summation is-\",Z+C)\n",
    "V\n",
    "U"
   ]
  },
  {
   "cell_type": "code",
   "execution_count": 9,
   "id": "ad71fbe8-6c02-4b2c-888f-2c073820c1ff",
   "metadata": {},
   "outputs": [
    {
     "name": "stdout",
     "output_type": "stream",
     "text": [
      "the summation is- 40\n"
     ]
    },
    {
     "data": {
      "text/plain": [
       "2558"
      ]
     },
     "execution_count": 9,
     "metadata": {},
     "output_type": "execute_result"
    }
   ],
   "source": [
    "Z=15\n",
    "C=25\n",
    "V=2558\n",
    "U=Z+C\n",
    "U\n",
    "print(\"the summation is-\",Z+C)\n",
    "V"
   ]
  },
  {
   "cell_type": "code",
   "execution_count": 13,
   "id": "f6955a86-17ee-4420-b1ca-39d2ed01ab7d",
   "metadata": {},
   "outputs": [
    {
     "name": "stdout",
     "output_type": "stream",
     "text": [
      "['False', 'None', 'True', 'and', 'as', 'assert', 'async', 'await', 'break', 'class', 'continue', 'def', 'del', 'elif', 'else', 'except', 'finally', 'for', 'from', 'global', 'if', 'import', 'in', 'is', 'lambda', 'nonlocal', 'not', 'or', 'pass', 'raise', 'return', 'try', 'while', 'with', 'yield']\n"
     ]
    }
   ],
   "source": [
    "import keyword\n",
    "keywords=keyword.kwlist\n",
    "print(keywords)"
   ]
  },
  {
   "cell_type": "code",
   "execution_count": 14,
   "id": "1cc18ace-b4fe-40ee-b6bc-92681c443df6",
   "metadata": {},
   "outputs": [
    {
     "data": {
      "text/plain": [
       "35"
      ]
     },
     "execution_count": 14,
     "metadata": {},
     "output_type": "execute_result"
    }
   ],
   "source": [
    "len(keywords)"
   ]
  },
  {
   "cell_type": "code",
   "execution_count": null,
   "id": "b6baffc8-0b8f-4aa5-8404-3227a7faa292",
   "metadata": {},
   "outputs": [],
   "source": []
  },
  {
   "cell_type": "code",
   "execution_count": 15,
   "id": "a7e79572-3b06-4be6-9f4c-b710c5ae1fb1",
   "metadata": {},
   "outputs": [
    {
     "name": "stdin",
     "output_type": "stream",
     "text": [
      "enter your company name- wipro\n"
     ]
    },
    {
     "name": "stdout",
     "output_type": "stream",
     "text": [
      "my organisation name is= wipro\n"
     ]
    }
   ],
   "source": [
    "b=input(\"enter your company name-\")\n",
    "print(\"my organisation name is=\",b)"
   ]
  },
  {
   "cell_type": "code",
   "execution_count": 16,
   "id": "b7fd0693-952d-486a-b6a8-1d5f7558ecf9",
   "metadata": {},
   "outputs": [
    {
     "name": "stdout",
     "output_type": "stream",
     "text": [
      "wipro is my organisation name\n"
     ]
    }
   ],
   "source": [
    "print(b,\"is my organisation name\")"
   ]
  },
  {
   "cell_type": "code",
   "execution_count": 19,
   "id": "7b1ab77a-2d57-4136-89de-cab4a00ba648",
   "metadata": {},
   "outputs": [
    {
     "name": "stdout",
     "output_type": "stream",
     "text": [
      "i am from wipro where are \n"
     ]
    },
    {
     "name": "stdin",
     "output_type": "stream",
     "text": [
      "enter your id 56677\n"
     ]
    }
   ],
   "source": [
    "print(\"i am from\",b,\"where are \")\n",
    "c=input(\"enter your id\")"
   ]
  },
  {
   "cell_type": "code",
   "execution_count": 20,
   "id": "7b18019c-68fd-4c7a-978d-512b04fae0e8",
   "metadata": {},
   "outputs": [
    {
     "name": "stdout",
     "output_type": "stream",
     "text": [
      "i am from wipro my id is 56677\n"
     ]
    }
   ],
   "source": [
    "print(\"i am from\",b,\"my id is\",c,)"
   ]
  },
  {
   "cell_type": "code",
   "execution_count": 24,
   "id": "46af3c4b-0229-4b15-a9c7-d85444296156",
   "metadata": {},
   "outputs": [
    {
     "name": "stdout",
     "output_type": "stream",
     "text": [
      "i am form wipro and my id is56677\n"
     ]
    }
   ],
   "source": [
    "print(\"i am form {} and my id is{}\".format( b,c))\n",
    "      "
   ]
  },
  {
   "cell_type": "code",
   "execution_count": 26,
   "id": "8c1ec562-98a8-4070-94ff-cfc575b3ae10",
   "metadata": {},
   "outputs": [
    {
     "name": "stdout",
     "output_type": "stream",
     "text": [
      "i am form 56677 and my id is wipro\n"
     ]
    }
   ],
   "source": [
    "print(\"i am form {} and my id is {}\".format( c,b))\n"
   ]
  },
  {
   "cell_type": "code",
   "execution_count": 27,
   "id": "43f52a8d-d203-4fa0-8dab-16bd713a5d73",
   "metadata": {},
   "outputs": [
    {
     "name": "stdout",
     "output_type": "stream",
     "text": [
      "3 5 9\n"
     ]
    }
   ],
   "source": [
    "a=3\n",
    "b=5\n",
    "c=9\n",
    "print(a,b,c)"
   ]
  },
  {
   "cell_type": "code",
   "execution_count": 33,
   "id": "aac569b9-7d40-4b29-a469-a31f53eec2f8",
   "metadata": {},
   "outputs": [
    {
     "name": "stdout",
     "output_type": "stream",
     "text": [
      "4 8\n"
     ]
    }
   ],
   "source": [
    "a=4\n",
    "b=8\n",
    "print(a,b)"
   ]
  },
  {
   "cell_type": "code",
   "execution_count": null,
   "id": "e136ba15-3a73-43a5-8e49-9676e9e7bd76",
   "metadata": {},
   "outputs": [],
   "source": []
  }
 ],
 "metadata": {
  "kernelspec": {
   "display_name": "Python 3 (ipykernel)",
   "language": "python",
   "name": "python3"
  },
  "language_info": {
   "codemirror_mode": {
    "name": "ipython",
    "version": 3
   },
   "file_extension": ".py",
   "mimetype": "text/x-python",
   "name": "python",
   "nbconvert_exporter": "python",
   "pygments_lexer": "ipython3",
   "version": "3.11.7"
  }
 },
 "nbformat": 4,
 "nbformat_minor": 5
}
