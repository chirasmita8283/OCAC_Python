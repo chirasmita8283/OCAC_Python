{
 "cells": [
  {
   "cell_type": "markdown",
   "id": "5007c3e0-b33e-42fc-9965-6e1c8d65e565",
   "metadata": {},
   "source": [
    "## Build in functions"
   ]
  },
  {
   "cell_type": "markdown",
   "id": "f1668142-2a91-4f3d-b6c5-b9b8f78029d7",
   "metadata": {},
   "source": [
    "### abs()"
   ]
  },
  {
   "cell_type": "code",
   "execution_count": 3,
   "id": "4e8cc090-820f-4114-815f-dda942ea5b96",
   "metadata": {},
   "outputs": [
    {
     "data": {
      "text/plain": [
       "100"
      ]
     },
     "execution_count": 3,
     "metadata": {},
     "output_type": "execute_result"
    }
   ],
   "source": [
    "num=-100\n",
    "abs(num)"
   ]
  },
  {
   "cell_type": "markdown",
   "id": "4e87b814-f587-4136-9c4c-adb8fb81b53a",
   "metadata": {},
   "source": [
    "### Divmod()"
   ]
  },
  {
   "cell_type": "code",
   "execution_count": 2,
   "id": "8fe5eeda-36a8-4548-afd6-d01d33c46b43",
   "metadata": {},
   "outputs": [
    {
     "data": {
      "text/plain": [
       "(1, 2)"
      ]
     },
     "execution_count": 2,
     "metadata": {},
     "output_type": "execute_result"
    }
   ],
   "source": [
    "divmod(6,4)"
   ]
  },
  {
   "cell_type": "markdown",
   "id": "91df71ce-d584-4e7f-9a1f-260eb6f16df1",
   "metadata": {},
   "source": [
    "## User defined functions"
   ]
  },
  {
   "cell_type": "markdown",
   "id": "3bc151c7-6f38-4f09-8f5f-2612540a845f",
   "metadata": {},
   "source": [
    "### return Statement"
   ]
  },
  {
   "cell_type": "code",
   "execution_count": 5,
   "id": "e5641cca-c220-4cf4-af59-6d7cf2c9f287",
   "metadata": {},
   "outputs": [],
   "source": [
    "def double(num):\n",
    "    \"\"\"\n",
    "    whatever the number you enter... it just double the number\n",
    "    \"\"\"\n",
    "    return 2*num"
   ]
  },
  {
   "cell_type": "code",
   "execution_count": 6,
   "id": "7a9561eb-1df5-43b2-af73-d64849ea13d9",
   "metadata": {},
   "outputs": [
    {
     "name": "stdout",
     "output_type": "stream",
     "text": [
      "\n",
      "    whatever the number you enter... it just double the number\n",
      "    \n"
     ]
    }
   ],
   "source": [
    "print(double.__doc__)"
   ]
  },
  {
   "cell_type": "code",
   "execution_count": 8,
   "id": "0e879297-5340-4774-be79-ea123965ee2e",
   "metadata": {},
   "outputs": [
    {
     "data": {
      "text/plain": [
       "160"
      ]
     },
     "execution_count": 8,
     "metadata": {},
     "output_type": "execute_result"
    }
   ],
   "source": [
    "double(80)"
   ]
  },
  {
   "cell_type": "code",
   "execution_count": 9,
   "id": "50da7b53-be54-40ae-a73b-1064259b9e2c",
   "metadata": {},
   "outputs": [],
   "source": [
    "def double(num):\n",
    "    return 2*int(num)"
   ]
  },
  {
   "cell_type": "code",
   "execution_count": 10,
   "id": "892da351-ebf1-44a4-ae9a-b1d9fdc0b6d5",
   "metadata": {},
   "outputs": [
    {
     "data": {
      "text/plain": [
       "40"
      ]
     },
     "execution_count": 10,
     "metadata": {},
     "output_type": "execute_result"
    }
   ],
   "source": [
    "double(20.7)"
   ]
  },
  {
   "cell_type": "code",
   "execution_count": 11,
   "id": "b5a17dd6-e334-4408-bf93-86cd9b43fe07",
   "metadata": {},
   "outputs": [
    {
     "data": {
      "text/plain": [
       "-2"
      ]
     },
     "execution_count": 11,
     "metadata": {},
     "output_type": "execute_result"
    }
   ],
   "source": [
    "def sub(num1,num2):\n",
    "    return num1-num2\n",
    "\n",
    "sub(6,8)"
   ]
  },
  {
   "cell_type": "code",
   "execution_count": 14,
   "id": "9708a1f0-5aa6-410c-b165-ec92c914829f",
   "metadata": {},
   "outputs": [],
   "source": [
    "def print_name(x):\n",
    "    print(\"Hello\",x)"
   ]
  },
  {
   "cell_type": "code",
   "execution_count": 15,
   "id": "968cdd52-a3a4-4055-9939-2ae5c461cec4",
   "metadata": {},
   "outputs": [
    {
     "name": "stdout",
     "output_type": "stream",
     "text": [
      "Hello babli\n"
     ]
    }
   ],
   "source": [
    "print_name(\"babli\")"
   ]
  },
  {
   "cell_type": "code",
   "execution_count": 16,
   "id": "c53b49b7-16f7-4e47-8594-fc6f29a4942e",
   "metadata": {},
   "outputs": [
    {
     "name": "stdout",
     "output_type": "stream",
     "text": [
      "Hello 321\n"
     ]
    }
   ],
   "source": [
    "print_name(321)"
   ]
  },
  {
   "cell_type": "code",
   "execution_count": 20,
   "id": "96b8d7cc-4a43-454e-b204-ee3ac51e6bbb",
   "metadata": {},
   "outputs": [
    {
     "data": {
      "text/plain": [
       "13"
      ]
     },
     "execution_count": 20,
     "metadata": {},
     "output_type": "execute_result"
    }
   ],
   "source": [
    "def get_sum(lst):\n",
    "    sum=0\n",
    "    for num in lst:\n",
    "        sum+=num\n",
    "    return sum\n",
    "get_sum([1,2,4,6])"
   ]
  },
  {
   "cell_type": "code",
   "execution_count": 23,
   "id": "73bd6e5d-77f9-435f-bb40-cc9b899fe012",
   "metadata": {},
   "outputs": [
    {
     "name": "stdout",
     "output_type": "stream",
     "text": [
      "5\n",
      "10\n",
      "15\n",
      "20\n",
      "25\n",
      "30\n",
      "40\n",
      "45\n",
      "50\n",
      "55\n",
      "60\n",
      "65\n",
      "75\n",
      "80\n",
      "85\n",
      "90\n",
      "95\n"
     ]
    }
   ],
   "source": [
    "def num_5_7(i):\n",
    "    for num in range(1,i):\n",
    "        if num%5==0 and num%7!=0:\n",
    "            print(num)\n",
    "\n",
    "num_5_7(100)"
   ]
  },
  {
   "cell_type": "code",
   "execution_count": 24,
   "id": "1f357b59-70c0-43fa-919b-66a34a458242",
   "metadata": {},
   "outputs": [
    {
     "name": "stdout",
     "output_type": "stream",
     "text": [
      "8 15\n"
     ]
    }
   ],
   "source": [
    "lst=[3,5,7,8]\n",
    "even_sum=0\n",
    "odd_sum=0\n",
    "for i in lst:\n",
    "    if i%2==0:\n",
    "        even_sum=even_sum+i\n",
    "    else:\n",
    "        odd_sum=odd_sum+i\n",
    "\n",
    "print(even_sum,odd_sum)"
   ]
  },
  {
   "cell_type": "code",
   "execution_count": 15,
   "id": "7b4e5373-e93a-4414-a5bb-b19421c8b9bc",
   "metadata": {},
   "outputs": [],
   "source": [
    "def f_n(l):\n",
    "    even_sum = 0\n",
    "    odd_sum = 0\n",
    "    for i in l:\n",
    "        if i % 2 == 0:\n",
    "            even_sum += i\n",
    "        else:\n",
    "            odd_sum += i\n",
    "            \n",
    "    print(even_sum, odd_sum)\n"
   ]
  },
  {
   "cell_type": "code",
   "execution_count": 16,
   "id": "1d9925ce-a68d-4590-b42a-c6a9aae6fb35",
   "metadata": {},
   "outputs": [
    {
     "name": "stdout",
     "output_type": "stream",
     "text": [
      "6 9\n"
     ]
    }
   ],
   "source": [
    "f_n([1,2,3,4,5])"
   ]
  },
  {
   "cell_type": "markdown",
   "id": "8889ef26-fa0f-4960-8b72-d9c66f3f4278",
   "metadata": {},
   "source": [
    "## Function Arguments"
   ]
  },
  {
   "cell_type": "code",
   "execution_count": 1,
   "id": "14a74996-8d07-4ace-8688-0e0f0b00742a",
   "metadata": {},
   "outputs": [
    {
     "name": "stdout",
     "output_type": "stream",
     "text": [
      "Hello babli , good morning\n"
     ]
    }
   ],
   "source": [
    "def greet(name,msg):\n",
    "    print(\"Hello {} , {}\".format(name,msg))\n",
    "\n",
    "greet(\"babli\",\"good morning\")"
   ]
  },
  {
   "cell_type": "code",
   "execution_count": 2,
   "id": "4208e110-f066-4bfa-9b83-f27874b787b5",
   "metadata": {},
   "outputs": [
    {
     "ename": "TypeError",
     "evalue": "greet() missing 1 required positional argument: 'msg'",
     "output_type": "error",
     "traceback": [
      "\u001b[1;31m---------------------------------------------------------------------------\u001b[0m",
      "\u001b[1;31mTypeError\u001b[0m                                 Traceback (most recent call last)",
      "Cell \u001b[1;32mIn[2], line 1\u001b[0m\n\u001b[1;32m----> 1\u001b[0m greet(\u001b[38;5;124m\"\u001b[39m\u001b[38;5;124mbabli\u001b[39m\u001b[38;5;124m\"\u001b[39m)\n",
      "\u001b[1;31mTypeError\u001b[0m: greet() missing 1 required positional argument: 'msg'"
     ]
    }
   ],
   "source": [
    "greet(\"babli\")"
   ]
  },
  {
   "cell_type": "markdown",
   "id": "d28d268f-5242-45fe-9e71-cabd15440397",
   "metadata": {},
   "source": [
    "## Different forms of arguments"
   ]
  },
  {
   "cell_type": "markdown",
   "id": "e4d14ae5-f1de-493f-9778-1e4e0e14640d",
   "metadata": {},
   "source": [
    "### 1. Function with no arguments"
   ]
  },
  {
   "cell_type": "code",
   "execution_count": 1,
   "id": "87d543b5-2fe3-4ca7-8c79-acc6f22adaf3",
   "metadata": {},
   "outputs": [],
   "source": [
    "def even_num():\n",
    "    lb=int(input(\"Enter lower bound values:\"))\n",
    "    ub=int(input(\"Enter upper bound values:\"))\n",
    "    for i in range(lb,ub+1):\n",
    "        if i%2==0:\n",
    "            print(i)"
   ]
  },
  {
   "cell_type": "code",
   "execution_count": 2,
   "id": "056f290d-8469-43d4-b38a-0e54c3e5826a",
   "metadata": {},
   "outputs": [
    {
     "name": "stdin",
     "output_type": "stream",
     "text": [
      "Enter lower bound values: 33\n",
      "Enter upper bound values: 55\n"
     ]
    },
    {
     "name": "stdout",
     "output_type": "stream",
     "text": [
      "34\n",
      "36\n",
      "38\n",
      "40\n",
      "42\n",
      "44\n",
      "46\n",
      "48\n",
      "50\n",
      "52\n",
      "54\n"
     ]
    }
   ],
   "source": [
    "even_num()"
   ]
  },
  {
   "cell_type": "markdown",
   "id": "b6cb5f01-a733-4a84-a837-22d538e46b6b",
   "metadata": {},
   "source": [
    "### default arguments"
   ]
  },
  {
   "cell_type": "code",
   "execution_count": 3,
   "id": "6ce07d5a-ec2e-4150-aebd-070fcc2d6988",
   "metadata": {},
   "outputs": [
    {
     "name": "stdout",
     "output_type": "stream",
     "text": [
      "Hello babli , good night\n"
     ]
    }
   ],
   "source": [
    "def greet(name,msg=\"good morning\"):\n",
    "    print(\"Hello {} , {}\".format(name,msg))\n",
    "greet(\"babli\",\"good night\")"
   ]
  },
  {
   "cell_type": "code",
   "execution_count": 4,
   "id": "e8e08ed7-28a0-449e-a5e9-504bf5509e3f",
   "metadata": {},
   "outputs": [
    {
     "name": "stdout",
     "output_type": "stream",
     "text": [
      "Hello babli , good morning\n"
     ]
    }
   ],
   "source": [
    "greet(\"babli\")"
   ]
  },
  {
   "cell_type": "markdown",
   "id": "4a32c8e8-480a-4e6f-ab99-8cd0765a4ac5",
   "metadata": {},
   "source": [
    "### Keyword Arguments"
   ]
  },
  {
   "cell_type": "code",
   "execution_count": 1,
   "id": "b3ba19fd-9385-4e36-8779-ab2e4fc9d1dd",
   "metadata": {},
   "outputs": [
    {
     "name": "stdout",
     "output_type": "stream",
     "text": [
      "Hello good , good morning\n"
     ]
    }
   ],
   "source": [
    "def greet(**lkjhg):\n",
    "    if lkjhg:\n",
    "        print(\"Hello {} , {}\".format(lkjhg['name'],lkjhg['msg']))\n",
    "\n",
    "greet(name=\"good\",msg=\"good morning\")"
   ]
  },
  {
   "cell_type": "markdown",
   "id": "20686d24-898c-4b79-8c5e-589e29959b79",
   "metadata": {},
   "source": [
    "### Arbitary Argument"
   ]
  },
  {
   "cell_type": "code",
   "execution_count": 4,
   "id": "30238eee-2faa-420d-bdad-047e739fb4fb",
   "metadata": {},
   "outputs": [],
   "source": [
    "def greet(*names):\n",
    "    print(names)\n",
    "    for name in names:\n",
    "        print(\"Hello, {0} \".format(name))"
   ]
  },
  {
   "cell_type": "code",
   "execution_count": 5,
   "id": "2acecaa9-5324-4e1f-8038-aa6fdc0df504",
   "metadata": {},
   "outputs": [
    {
     "name": "stdout",
     "output_type": "stream",
     "text": [
      "('babli', 'murali')\n",
      "Hello, babli \n",
      "Hello, murali \n"
     ]
    }
   ],
   "source": [
    "greet(\"babli\",\"murali\")"
   ]
  },
  {
   "cell_type": "markdown",
   "id": "be431b90-e286-4d1d-ba33-39059055a35c",
   "metadata": {},
   "source": [
    "# Recussive Function or Recurison"
   ]
  },
  {
   "cell_type": "code",
   "execution_count": 6,
   "id": "d9dd6048-6ce0-4dca-a528-1876b103c96b",
   "metadata": {},
   "outputs": [],
   "source": [
    "def factorial(num):\n",
    "    if num==0:\n",
    "        return 1\n",
    "    else:\n",
    "        return num * factorial(num-1)"
   ]
  },
  {
   "cell_type": "code",
   "execution_count": 7,
   "id": "57e443ae-203b-4d67-91ec-c0567ebe299f",
   "metadata": {},
   "outputs": [
    {
     "name": "stdout",
     "output_type": "stream",
     "text": [
      "factorial of 4 is 24\n"
     ]
    }
   ],
   "source": [
    "num=4\n",
    "print(\"factorial of {} is {}\".format(num, factorial(num)))"
   ]
  },
  {
   "cell_type": "markdown",
   "id": "45192b41-7e0e-4356-a417-f1cba04b8d3d",
   "metadata": {},
   "source": [
    "## python program to make a simple calculator that can add,subtract,multiply and division"
   ]
  },
  {
   "cell_type": "code",
   "execution_count": 9,
   "id": "6a5747c7-f0a7-4ffe-bb60-749206dd895a",
   "metadata": {},
   "outputs": [
    {
     "name": "stdout",
     "output_type": "stream",
     "text": [
      "Select Option\n",
      "1: Addition\n",
      "2: Subtraction\n",
      "3: Multiplication\n",
      "4: Division\n",
      "5: Modulo\n"
     ]
    },
    {
     "name": "stdin",
     "output_type": "stream",
     "text": [
      "Enter choice 1/2/3/4/5:  3\n",
      "Enter first number: 2\n",
      "Enter second number: 3\n"
     ]
    },
    {
     "name": "stdout",
     "output_type": "stream",
     "text": [
      "Multiplication of 2 and 3 is 5\n"
     ]
    }
   ],
   "source": [
    "def add(a,b):\n",
    "    return a+b\n",
    "    \n",
    "def multiply(a,b):\n",
    "    return a*b\n",
    "\n",
    "def subtract(a,b):\n",
    "    return a_b\n",
    "\n",
    "def division(a,b):\n",
    "    return a/b\n",
    "\n",
    "def modulo(a,b):\n",
    "    return a%b\n",
    "\n",
    "print(\"Select Option\")\n",
    "print(\"1: Addition\")\n",
    "print(\"2: Subtraction\")\n",
    "print(\"3: Multiplication\")\n",
    "print(\"4: Division\")\n",
    "print(\"5: Modulo\")\n",
    "\n",
    "choice= int(input(\"Enter choice 1/2/3/4/5: \"))\n",
    "\n",
    "num1 = int(input(\"Enter first number:\"))\n",
    "num2 = int(input(\"Enter second number:\"))\n",
    "\n",
    "if choice==1:\n",
    "    print(\"Addition of {} and {} is {}\".format(num1, num2, add(num1, num2)))\n",
    "\n",
    "elif choice==2:\n",
    "    print(\"Subtraction of {} and {} is {}\".format(num1, num2, add(num1, num2)))\n",
    "\n",
    "elif choice==3:\n",
    "    print(\"Multiplication of {} and {} is {}\".format(num1, num2, add(num1, num2)))\n",
    "\n",
    "elif choice==4:\n",
    "    print(\"Division of {} and {} is {}\".format(num1, num2, add(num1, num2)))\n",
    "\n",
    "elif choice==5:\n",
    "    print(\"Modulo of {} and {} is {}\".format(num1, num2, add(num1, num2)))\n",
    "\n",
    "else:\n",
    "    print(\"Invalid choice\")\n",
    "\n"
   ]
  },
  {
   "cell_type": "code",
   "execution_count": null,
   "id": "b967e87d-0fc3-4071-9ef4-0727f579cf92",
   "metadata": {},
   "outputs": [],
   "source": []
  }
 ],
 "metadata": {
  "kernelspec": {
   "display_name": "Python 3 (ipykernel)",
   "language": "python",
   "name": "python3"
  },
  "language_info": {
   "codemirror_mode": {
    "name": "ipython",
    "version": 3
   },
   "file_extension": ".py",
   "mimetype": "text/x-python",
   "name": "python",
   "nbconvert_exporter": "python",
   "pygments_lexer": "ipython3",
   "version": "3.11.7"
  }
 },
 "nbformat": 4,
 "nbformat_minor": 5
}
