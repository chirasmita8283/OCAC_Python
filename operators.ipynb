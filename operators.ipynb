{
 "cells": [
  {
   "cell_type": "markdown",
   "id": "788e13d7-9b26-4582-9924-baa1865435c4",
   "metadata": {},
   "source": [
    "# Arithmetic operators"
   ]
  },
  {
   "cell_type": "code",
   "execution_count": 1,
   "id": "2de9cd2f-4c33-433f-b56d-c818d96e0668",
   "metadata": {},
   "outputs": [
    {
     "data": {
      "text/plain": [
       "23"
      ]
     },
     "execution_count": 1,
     "metadata": {},
     "output_type": "execute_result"
    }
   ],
   "source": [
    "67-44"
   ]
  },
  {
   "cell_type": "code",
   "execution_count": 2,
   "id": "488edc2d-3746-49ea-88cc-ebd068e7ee92",
   "metadata": {},
   "outputs": [
    {
     "data": {
      "text/plain": [
       "153"
      ]
     },
     "execution_count": 2,
     "metadata": {},
     "output_type": "execute_result"
    }
   ],
   "source": [
    "76+77"
   ]
  },
  {
   "cell_type": "code",
   "execution_count": 3,
   "id": "8e1c41e9-6b0b-47a3-bdca-c3b6c8c9fb3e",
   "metadata": {},
   "outputs": [
    {
     "data": {
      "text/plain": [
       "12"
      ]
     },
     "execution_count": 3,
     "metadata": {},
     "output_type": "execute_result"
    }
   ],
   "source": [
    "2*6"
   ]
  },
  {
   "cell_type": "code",
   "execution_count": 4,
   "id": "9c6ba211-9b2a-4d2a-8e12-81bf44ec7df6",
   "metadata": {},
   "outputs": [
    {
     "data": {
      "text/plain": [
       "64"
      ]
     },
     "execution_count": 4,
     "metadata": {},
     "output_type": "execute_result"
    }
   ],
   "source": [
    "2**6"
   ]
  },
  {
   "cell_type": "code",
   "execution_count": 5,
   "id": "eda77792-951b-4ee8-bfab-90c106b8dbe2",
   "metadata": {},
   "outputs": [
    {
     "data": {
      "text/plain": [
       "4.5"
      ]
     },
     "execution_count": 5,
     "metadata": {},
     "output_type": "execute_result"
    }
   ],
   "source": [
    "9/2"
   ]
  },
  {
   "cell_type": "code",
   "execution_count": 6,
   "id": "67e0a9f8-fdd8-4e59-a8d5-eff33b7bf7fd",
   "metadata": {},
   "outputs": [
    {
     "data": {
      "text/plain": [
       "4"
      ]
     },
     "execution_count": 6,
     "metadata": {},
     "output_type": "execute_result"
    }
   ],
   "source": [
    "9//2"
   ]
  },
  {
   "cell_type": "code",
   "execution_count": 7,
   "id": "35c8ee1f-aef8-45a6-8662-7d30713a6cb0",
   "metadata": {},
   "outputs": [
    {
     "data": {
      "text/plain": [
       "90"
      ]
     },
     "execution_count": 7,
     "metadata": {},
     "output_type": "execute_result"
    }
   ],
   "source": [
    "(2+7)*(4+6)"
   ]
  },
  {
   "cell_type": "code",
   "execution_count": 8,
   "id": "a62c349b-6e44-44f6-b099-fd6f2a515b3a",
   "metadata": {},
   "outputs": [
    {
     "name": "stdout",
     "output_type": "stream",
     "text": [
      "6\n",
      "2\n",
      "8\n",
      "16\n",
      "2.0\n",
      "2\n"
     ]
    }
   ],
   "source": [
    "a=4\n",
    "b=2\n",
    "print(a+b)\n",
    "print(a-b)\n",
    "print(a*b)\n",
    "print(a**b)\n",
    "print(a/b)\n",
    "print(a//2)"
   ]
  },
  {
   "cell_type": "code",
   "execution_count": 9,
   "id": "748a9622-8fc1-4a47-9687-853d4ac74ccc",
   "metadata": {},
   "outputs": [
    {
     "data": {
      "text/plain": [
       "4.0"
      ]
     },
     "execution_count": 9,
     "metadata": {},
     "output_type": "execute_result"
    }
   ],
   "source": [
    "a-b*a/b+a"
   ]
  },
  {
   "cell_type": "code",
   "execution_count": 10,
   "id": "4a0f56b1-5914-4c05-aebb-f2b1aa4df9c5",
   "metadata": {},
   "outputs": [
    {
     "data": {
      "text/plain": [
       "2"
      ]
     },
     "execution_count": 10,
     "metadata": {},
     "output_type": "execute_result"
    }
   ],
   "source": [
    "8*2//6"
   ]
  },
  {
   "cell_type": "markdown",
   "id": "275ab3e7-e44b-40ca-8042-89d744e04dfc",
   "metadata": {},
   "source": [
    "# Relational Operators"
   ]
  },
  {
   "cell_type": "code",
   "execution_count": 12,
   "id": "30b76c9b-9be8-4c76-95cb-b67b3e03f9e1",
   "metadata": {},
   "outputs": [
    {
     "data": {
      "text/plain": [
       "True"
      ]
     },
     "execution_count": 12,
     "metadata": {},
     "output_type": "execute_result"
    }
   ],
   "source": [
    "43>7"
   ]
  },
  {
   "cell_type": "code",
   "execution_count": 13,
   "id": "7e3066b9-1cd9-4ef1-a70e-d541c4615f3a",
   "metadata": {},
   "outputs": [
    {
     "data": {
      "text/plain": [
       "True"
      ]
     },
     "execution_count": 13,
     "metadata": {},
     "output_type": "execute_result"
    }
   ],
   "source": [
    "24<87"
   ]
  },
  {
   "cell_type": "code",
   "execution_count": 14,
   "id": "93b1f4f8-bc4e-4681-a7b7-09eb4603447f",
   "metadata": {},
   "outputs": [
    {
     "data": {
      "text/plain": [
       "False"
      ]
     },
     "execution_count": 14,
     "metadata": {},
     "output_type": "execute_result"
    }
   ],
   "source": [
    "-4>-2"
   ]
  },
  {
   "cell_type": "code",
   "execution_count": 15,
   "id": "4f4cf91e-ea02-44f9-a395-002b4aaa2aca",
   "metadata": {},
   "outputs": [
    {
     "data": {
      "text/plain": [
       "True"
      ]
     },
     "execution_count": 15,
     "metadata": {},
     "output_type": "execute_result"
    }
   ],
   "source": [
    "2+6>4+2"
   ]
  },
  {
   "cell_type": "code",
   "execution_count": 16,
   "id": "d491c44f-62ca-4fc5-934d-99a128714900",
   "metadata": {},
   "outputs": [
    {
     "data": {
      "text/plain": [
       "True"
      ]
     },
     "execution_count": 16,
     "metadata": {},
     "output_type": "execute_result"
    }
   ],
   "source": [
    "3+2==4+1"
   ]
  },
  {
   "cell_type": "code",
   "execution_count": 17,
   "id": "95b61907-51b9-4a0e-8ec6-19620a00260d",
   "metadata": {},
   "outputs": [
    {
     "data": {
      "text/plain": [
       "True"
      ]
     },
     "execution_count": 17,
     "metadata": {},
     "output_type": "execute_result"
    }
   ],
   "source": [
    "32!=76"
   ]
  },
  {
   "cell_type": "code",
   "execution_count": 19,
   "id": "cdbddd31-0c99-4f17-8950-80c66c45e474",
   "metadata": {},
   "outputs": [
    {
     "data": {
      "text/plain": [
       "True"
      ]
     },
     "execution_count": 19,
     "metadata": {},
     "output_type": "execute_result"
    }
   ],
   "source": [
    "2>=1+1"
   ]
  },
  {
   "cell_type": "code",
   "execution_count": 20,
   "id": "deed8a84-2c30-48e0-be99-000b1c5ae6a6",
   "metadata": {},
   "outputs": [
    {
     "data": {
      "text/plain": [
       "True"
      ]
     },
     "execution_count": 20,
     "metadata": {},
     "output_type": "execute_result"
    }
   ],
   "source": [
    "45<=67"
   ]
  },
  {
   "cell_type": "code",
   "execution_count": 21,
   "id": "45c4ee15-5259-453c-bae0-6c1f6a95c78d",
   "metadata": {},
   "outputs": [
    {
     "data": {
      "text/plain": [
       "True"
      ]
     },
     "execution_count": 21,
     "metadata": {},
     "output_type": "execute_result"
    }
   ],
   "source": [
    "34==34.0"
   ]
  },
  {
   "cell_type": "code",
   "execution_count": 22,
   "id": "d050101e-5e96-404e-9efc-627e52d456b8",
   "metadata": {},
   "outputs": [
    {
     "data": {
      "text/plain": [
       "False"
      ]
     },
     "execution_count": 22,
     "metadata": {},
     "output_type": "execute_result"
    }
   ],
   "source": [
    "\"Babli\"==\"babli\""
   ]
  },
  {
   "cell_type": "markdown",
   "id": "70f9a16d-e677-4db1-803a-9773d14f0d5c",
   "metadata": {},
   "source": [
    "# Bitwise operators"
   ]
  },
  {
   "cell_type": "code",
   "execution_count": 23,
   "id": "98179645-73a4-439e-a173-75eeff277c88",
   "metadata": {},
   "outputs": [
    {
     "data": {
      "text/plain": [
       "'0b101101'"
      ]
     },
     "execution_count": 23,
     "metadata": {},
     "output_type": "execute_result"
    }
   ],
   "source": [
    "bin(45)"
   ]
  },
  {
   "cell_type": "code",
   "execution_count": 24,
   "id": "01868601-9103-4644-bcb1-a71cf129e3a5",
   "metadata": {},
   "outputs": [
    {
     "data": {
      "text/plain": [
       "29"
      ]
     },
     "execution_count": 24,
     "metadata": {},
     "output_type": "execute_result"
    }
   ],
   "source": [
    "0b011101"
   ]
  },
  {
   "cell_type": "code",
   "execution_count": 25,
   "id": "daa0250f-8ded-4c01-93dc-22cb4d7ee73d",
   "metadata": {},
   "outputs": [
    {
     "name": "stdout",
     "output_type": "stream",
     "text": [
      "5\n"
     ]
    }
   ],
   "source": [
    "a=5\n",
    "b=4\n",
    "print(a|b)"
   ]
  },
  {
   "cell_type": "code",
   "execution_count": 26,
   "id": "84a9711f-8f7d-4d34-a1cb-81ab6c32bfb4",
   "metadata": {},
   "outputs": [
    {
     "name": "stdout",
     "output_type": "stream",
     "text": [
      "4\n"
     ]
    }
   ],
   "source": [
    "print(a&b)"
   ]
  },
  {
   "cell_type": "markdown",
   "id": "17de7464-4d1c-4b5a-8f22-acc0d6685cde",
   "metadata": {},
   "source": [
    "# Logical OPerators"
   ]
  },
  {
   "cell_type": "code",
   "execution_count": 27,
   "id": "d9264398-3123-425d-b62b-9903281a0837",
   "metadata": {},
   "outputs": [
    {
     "data": {
      "text/plain": [
       "True"
      ]
     },
     "execution_count": 27,
     "metadata": {},
     "output_type": "execute_result"
    }
   ],
   "source": [
    "(1>6)or(4<6)"
   ]
  },
  {
   "cell_type": "code",
   "execution_count": 29,
   "id": "688e7d4a-98dd-465d-9537-df648c5052fa",
   "metadata": {},
   "outputs": [
    {
     "data": {
      "text/plain": [
       "False"
      ]
     },
     "execution_count": 29,
     "metadata": {},
     "output_type": "execute_result"
    }
   ],
   "source": [
    "not True"
   ]
  },
  {
   "cell_type": "code",
   "execution_count": 30,
   "id": "f10734cc-8891-461c-81ba-1ca628364337",
   "metadata": {},
   "outputs": [
    {
     "data": {
      "text/plain": [
       "True"
      ]
     },
     "execution_count": 30,
     "metadata": {},
     "output_type": "execute_result"
    }
   ],
   "source": [
    "not False"
   ]
  },
  {
   "cell_type": "code",
   "execution_count": 31,
   "id": "75c54358-0bb5-4c54-bb3d-293f23bec88d",
   "metadata": {},
   "outputs": [
    {
     "data": {
      "text/plain": [
       "True"
      ]
     },
     "execution_count": 31,
     "metadata": {},
     "output_type": "execute_result"
    }
   ],
   "source": [
    "my_name=\"babli\"\n",
    "my_name.isalpha()"
   ]
  },
  {
   "cell_type": "code",
   "execution_count": 32,
   "id": "37abbde9-d52b-4cda-9c54-81b8255ecac5",
   "metadata": {},
   "outputs": [
    {
     "data": {
      "text/plain": [
       "True"
      ]
     },
     "execution_count": 32,
     "metadata": {},
     "output_type": "execute_result"
    }
   ],
   "source": [
    "my_name.islower()"
   ]
  },
  {
   "cell_type": "code",
   "execution_count": 34,
   "id": "cbc25447-3a73-4244-8627-bb7774dc17d3",
   "metadata": {},
   "outputs": [
    {
     "data": {
      "text/plain": [
       "False"
      ]
     },
     "execution_count": 34,
     "metadata": {},
     "output_type": "execute_result"
    }
   ],
   "source": [
    "my_name.isupper()"
   ]
  },
  {
   "cell_type": "code",
   "execution_count": 35,
   "id": "9ee6bc9b-8e56-483d-83c7-6faeb2230a6c",
   "metadata": {},
   "outputs": [
    {
     "data": {
      "text/plain": [
       "False"
      ]
     },
     "execution_count": 35,
     "metadata": {},
     "output_type": "execute_result"
    }
   ],
   "source": [
    "(3==5)or(4==4)and(5==3)"
   ]
  },
  {
   "cell_type": "markdown",
   "id": "9fdde908-0a51-44ff-9459-a024dba9e6b9",
   "metadata": {},
   "source": [
    "# Assignment Operators"
   ]
  },
  {
   "cell_type": "code",
   "execution_count": 36,
   "id": "9a18ecc3-3ade-483f-a2f6-25a76ca8507f",
   "metadata": {},
   "outputs": [
    {
     "data": {
      "text/plain": [
       "20"
      ]
     },
     "execution_count": 36,
     "metadata": {},
     "output_type": "execute_result"
    }
   ],
   "source": [
    "a=20\n",
    "a"
   ]
  },
  {
   "cell_type": "code",
   "execution_count": 37,
   "id": "770a483d-999e-426f-b3b1-87c2c2b6c547",
   "metadata": {},
   "outputs": [
    {
     "name": "stdout",
     "output_type": "stream",
     "text": [
      "21\n"
     ]
    }
   ],
   "source": [
    "a=a+1\n",
    "print(a)"
   ]
  },
  {
   "cell_type": "code",
   "execution_count": 38,
   "id": "7a5b4413-59ea-49d0-bd26-03b445ab7c9d",
   "metadata": {},
   "outputs": [],
   "source": [
    "a+=1"
   ]
  },
  {
   "cell_type": "code",
   "execution_count": 39,
   "id": "e3233f76-eb97-46ce-b167-0c04b019730c",
   "metadata": {},
   "outputs": [
    {
     "data": {
      "text/plain": [
       "22"
      ]
     },
     "execution_count": 39,
     "metadata": {},
     "output_type": "execute_result"
    }
   ],
   "source": [
    "a"
   ]
  },
  {
   "cell_type": "markdown",
   "id": "f856a540-6c69-49c1-aba4-300abac154c7",
   "metadata": {},
   "source": [
    "# Identity Operators"
   ]
  },
  {
   "cell_type": "code",
   "execution_count": 40,
   "id": "7a779b3b-1573-4e3f-a075-20a0594e05d2",
   "metadata": {},
   "outputs": [
    {
     "name": "stdout",
     "output_type": "stream",
     "text": [
      "False\n"
     ]
    }
   ],
   "source": [
    "a=4\n",
    "b=6\n",
    "print(a is b)"
   ]
  },
  {
   "cell_type": "code",
   "execution_count": 46,
   "id": "73fb761d-b952-4121-aa5d-e9f764a36cfb",
   "metadata": {},
   "outputs": [
    {
     "name": "stdout",
     "output_type": "stream",
     "text": [
      "True\n"
     ]
    }
   ],
   "source": [
    "a=\"catdog\"\n",
    "b=\"catdog\"\n",
    "print(b is a)"
   ]
  },
  {
   "cell_type": "code",
   "execution_count": 48,
   "id": "84a85f53-5277-46f4-8719-2c74194aec79",
   "metadata": {},
   "outputs": [
    {
     "name": "stdout",
     "output_type": "stream",
     "text": [
      "False\n"
     ]
    }
   ],
   "source": [
    "a1=\"chiru\"\n",
    "a2=\"Chiru\"\n",
    "print(a1 is a2)"
   ]
  },
  {
   "cell_type": "code",
   "execution_count": 50,
   "id": "01b209c5-1c07-4c4a-b4eb-48f02928f2f6",
   "metadata": {},
   "outputs": [
    {
     "name": "stdout",
     "output_type": "stream",
     "text": [
      "True\n"
     ]
    }
   ],
   "source": [
    "a=8\n",
    "b=5\n",
    "print(a is not b)"
   ]
  },
  {
   "cell_type": "markdown",
   "id": "b6283f4f-4496-476b-b48d-ad4771ed3f81",
   "metadata": {},
   "source": [
    "# Membership Operators"
   ]
  },
  {
   "cell_type": "code",
   "execution_count": 51,
   "id": "4b2b36cc-d2e7-4ee3-97cc-b98cbec2a774",
   "metadata": {},
   "outputs": [
    {
     "data": {
      "text/plain": [
       "True"
      ]
     },
     "execution_count": 51,
     "metadata": {},
     "output_type": "execute_result"
    }
   ],
   "source": [
    "a=\"chirasmita\"\n",
    "\"smita\" in a"
   ]
  },
  {
   "cell_type": "code",
   "execution_count": 52,
   "id": "61efa289-2d74-4da4-910e-7710fabba0e9",
   "metadata": {},
   "outputs": [
    {
     "data": {
      "text/plain": [
       "False"
      ]
     },
     "execution_count": 52,
     "metadata": {},
     "output_type": "execute_result"
    }
   ],
   "source": [
    "\"iam\" in a "
   ]
  },
  {
   "cell_type": "code",
   "execution_count": 53,
   "id": "e01feac8-6298-4fc0-80a3-b7a169a88fb7",
   "metadata": {},
   "outputs": [
    {
     "data": {
      "text/plain": [
       "True"
      ]
     },
     "execution_count": 53,
     "metadata": {},
     "output_type": "execute_result"
    }
   ],
   "source": [
    "e=[6, 5, 7 , 3]\n",
    "7 in e"
   ]
  },
  {
   "cell_type": "code",
   "execution_count": 54,
   "id": "f13513bb-bbd7-4f2d-9ac2-dac9ad2799eb",
   "metadata": {},
   "outputs": [
    {
     "data": {
      "text/plain": [
       "True"
      ]
     },
     "execution_count": 54,
     "metadata": {},
     "output_type": "execute_result"
    }
   ],
   "source": [
    "2 not in e"
   ]
  },
  {
   "cell_type": "code",
   "execution_count": 55,
   "id": "45bc55af-8e32-46f5-a1d9-49f407157707",
   "metadata": {},
   "outputs": [
    {
     "data": {
      "text/plain": [
       "False"
      ]
     },
     "execution_count": 55,
     "metadata": {},
     "output_type": "execute_result"
    }
   ],
   "source": [
    "8 in e"
   ]
  },
  {
   "cell_type": "code",
   "execution_count": null,
   "id": "e642f539-2ac6-4fc4-ad91-47614ab58c75",
   "metadata": {},
   "outputs": [],
   "source": []
  }
 ],
 "metadata": {
  "kernelspec": {
   "display_name": "Python 3 (ipykernel)",
   "language": "python",
   "name": "python3"
  },
  "language_info": {
   "codemirror_mode": {
    "name": "ipython",
    "version": 3
   },
   "file_extension": ".py",
   "mimetype": "text/x-python",
   "name": "python",
   "nbconvert_exporter": "python",
   "pygments_lexer": "ipython3",
   "version": "3.11.7"
  }
 },
 "nbformat": 4,
 "nbformat_minor": 5
}
